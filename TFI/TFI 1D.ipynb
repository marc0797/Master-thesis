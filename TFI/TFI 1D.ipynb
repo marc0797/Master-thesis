{
 "cells": [
  {
   "cell_type": "markdown",
   "id": "3e5e4cb3",
   "metadata": {},
   "source": [
    "# Ising 1D transverse field model\n",
    "## Ground state energy, magnetization and susceptibility"
   ]
  },
  {
   "cell_type": "markdown",
   "id": "c6a51700",
   "metadata": {},
   "source": [
    "### Libraries"
   ]
  },
  {
   "cell_type": "code",
   "execution_count": 11,
   "id": "46c73860",
   "metadata": {},
   "outputs": [],
   "source": [
    "## Basic libraries for printing output, plots, etc.\n",
    "using Printf\n",
    "using Plots\n",
    "using Random\n",
    "\n",
    "## Libraries for Sparse Arrays\n",
    "using SparseArrays\n",
    "using ArnoldiMethod # Solves eigenvalue problems with sparse matrices\n",
    "\n",
    "## Other libraries\n",
    "using LinearAlgebra\n",
    "using Statistics # For statistical measurements\n",
    "using QuadGK # For numerical integration"
   ]
  },
  {
   "cell_type": "markdown",
   "id": "1edb4b9d",
   "metadata": {},
   "source": [
    "### Functions for exact ground state"
   ]
  },
  {
   "cell_type": "code",
   "execution_count": 12,
   "id": "7d0f1307",
   "metadata": {},
   "outputs": [],
   "source": [
    "# Redefinition of tensor product\n",
    "function ⊙(x,y)\n",
    "    kron(x,y)\n",
    "end\n",
    "\n",
    "# Sparse Hamiltonian\n",
    "function buildHamiltonian_sparse(;N,J,B)\n",
    "    #  Input: -----------------------------\n",
    "    #\n",
    "    #  N: Number of spins in the chain\n",
    "    #\n",
    "    #  J: Hamiltonian interaction term\n",
    "    #\n",
    "    #  B: Transverse magnetic field\n",
    "    #  term\n",
    "    #\n",
    "    #  Output: ----------------------------\n",
    "    #\n",
    "    #  H: Hamiltonian matrix projected\n",
    "    #  onto spin basis\n",
    "    \n",
    "    Id = [[1,0] [0,1]] |> sparse\n",
    "    σᶻ = [[1,0] [0,-1]] |> sparse\n",
    "    σˣ = [[0,1] [1,0]] |> sparse\n",
    "    \n",
    "    # Coupling term\n",
    "    first_term = fill(Id,N)\n",
    "    first_term[1] = σᶻ\n",
    "    first_term[2] = σᶻ\n",
    "    \n",
    "    second_term = fill(Id,N)\n",
    "    second_term[1] = σˣ\n",
    "    \n",
    "    # Initialize sparse zero matrix\n",
    "    H = spzeros(Float64,2^N,2^N)\n",
    "    for i in 1:N\n",
    "        H += -J*foldl(⊙, first_term) -B*foldl(⊙, second_term)\n",
    "        first_term = circshift(first_term,1)\n",
    "        second_term = circshift(second_term,1)\n",
    "    end\n",
    "    return H\n",
    "end\n",
    "\n",
    "# Sparse eigenvalues\n",
    "function eigen_sparse(x)\n",
    "    decomp, history = partialschur(x, nev=1, which=:SR); # only solve for the ground state\n",
    "    vals, vecs = partialeigen(decomp);\n",
    "    return vals, vecs\n",
    "end\n",
    "\n",
    "# Magnetization of a given state\n",
    "function buildMagnetizations_sparse(state;N)\n",
    "    # Input: ------------------------------\n",
    "    #\n",
    "    # state: column vector or matrix of vectors\n",
    "    # encoding a projected wavestate onto the\n",
    "    # spin basis of the Ising model\n",
    "    #\n",
    "    # N: Number of spins in the chain\n",
    "    # \n",
    "    # Output: -----------------------------\n",
    "    #\n",
    "    # st_mz: value of the longitudinal\n",
    "    # magnetization\n",
    "    #\n",
    "    # st_mx: value of the transversal\n",
    "    # magnetization\n",
    "    \n",
    "    Id = [[1,0] [0,1]] |> sparse\n",
    "    σᶻ = [[1,0] [0,-1]] |> sparse\n",
    "    σˣ = [[0,1] [1,0]] |> sparse\n",
    "    \n",
    "    mz = fill(Id,N)\n",
    "    mz[1] = σᶻ\n",
    "    \n",
    "    mx = fill(Id,N)\n",
    "    mx[1] = σˣ\n",
    "    \n",
    "    # Build magnetizations\n",
    "    Mz = spzeros(Float64,2^N,2^N)\n",
    "    Mx = spzeros(Float64,2^N,2^N)\n",
    "    for i in 1:N\n",
    "        Mz += foldl(⊙, mz)/N\n",
    "        Mx += foldl(⊙, mx)/N\n",
    "        mz = circshift(mz, 1)\n",
    "        mx = circshift(mx, 1)\n",
    "    end\n",
    "    \n",
    "    # Calculate magnetization of the state\n",
    "    st_mz = sqrt(state'*Mz^2*state)\n",
    "    st_mx = sqrt(state'*Mx^2*state)\n",
    "    \n",
    "    return st_mz, st_mx\n",
    "end\n",
    "\n",
    "# Magnetization in the thermodynamic limit (integral)\n",
    "function magnetizationIntegral(;J,B)\n",
    "    # Input: -----------------------------\n",
    "    #\n",
    "    # J: Hamiltonian interaction term\n",
    "    #\n",
    "    # B: Transverse magnetic field term\n",
    "    #\n",
    "    # Output: ----------------------------\n",
    "    #\n",
    "    # in_mz: value of the longitudinal\n",
    "    # magnetization in the thermodynamic limit\n",
    "    #\n",
    "    # in_mx: value of the transversal\n",
    "    # magnetization in the thermodynamic limit\n",
    "    \n",
    "    in_mz = (B < J) ? (1 - B^2/J^2)^(1/8) : 0\n",
    "    \n",
    "    in_mx, err = quadgk(k -> (B + J*cos(k))/sqrt(J^2 + B^2 + 2*J*B*cos(k)), \n",
    "        0, pi, rtol=1e-10)\n",
    "    \n",
    "    return in_mz, in_mx/pi\n",
    "end;"
   ]
  },
  {
   "cell_type": "markdown",
   "id": "f559edc4",
   "metadata": {},
   "source": [
    "### RBM Class definition"
   ]
  },
  {
   "cell_type": "code",
   "execution_count": 13,
   "id": "27674d56",
   "metadata": {},
   "outputs": [],
   "source": [
    "# RBM wavefunction class\n",
    "mutable struct RBM\n",
    "    n_visible::Int\n",
    "    n_hidden::Int\n",
    "    params::Vector{ComplexF64}\n",
    "    \n",
    "    function RBM(n_visible::Int, n_hidden::Int)\n",
    "        rbm = new(n_visible, n_hidden, ComplexF64[])\n",
    "        initialise_RBM(rbm)\n",
    "        return rbm\n",
    "    end\n",
    "end\n",
    "\n",
    "# Initialize RBM wavefunction\n",
    "function initialise_RBM(rbm::RBM;σ=0.01)\n",
    "    # Parameters of the RBM can be complex valued,\n",
    "    # and are initialized from a random distribution\n",
    "    b = randn(ComplexF64,rbm.n_visible)\n",
    "    c = randn(ComplexF64,rbm.n_hidden)\n",
    "    W = randn(ComplexF64,rbm.n_hidden,rbm.n_visible)\n",
    "    \n",
    "    rbm.params = σ*vcat(b,c,reshape(W,:))\n",
    "end\n",
    "\n",
    "# Define property-like functions\n",
    "function b(rbm::RBM)\n",
    "    # Returns column vector of visible bias\n",
    "    return rbm.params[1:rbm.n_visible]\n",
    "end\n",
    "\n",
    "function c(rbm::RBM)\n",
    "    # Returns column vector of hidden bias\n",
    "    nv = rbm.n_visible\n",
    "    return rbm.params[nv+1 : nv+rbm.n_hidden]\n",
    "end\n",
    "\n",
    "function W(rbm::RBM)\n",
    "    # Returns nh x nv weight matrix\n",
    "    nv, nh = rbm.n_visible, rbm.n_hidden\n",
    "    return reshape(rbm.params[nv+nh+1:end], nh, nv)\n",
    "end\n",
    "    \n",
    "# Additional functions that may be useful\n",
    "function wavefunction(rbm::RBM, s::Vector{Bool})\n",
    "    # Calculate wavefunction projection onto state s\n",
    "    return exp(conj(b(rbm))' * s) * prod(cosh(c(rbm) .+ W(rbm) * s)) * 2^rbm.n_hidden\n",
    "end\n",
    "\n",
    "function p_ratio(rbm::RBM, s1::Vector{Bool}, s2::Vector{Bool})\n",
    "    # Ratio of probabilities between states s2 and s1\n",
    "    f1 = cosh.(c(rbm) .+ W(rbm) * s1)\n",
    "    f2 = cosh.(c(rbm) .+ W(rbm) * s2)\n",
    "    log_diff = conj(b(rbm))' * (s2 - s1) + sum(log.(f2 ./ f1))  # log of ratio for numerical stability\n",
    "    return exp(log_diff)\n",
    "end\n",
    "\n",
    "function p_ratios(rbm::RBM, s1::Vector{Bool}, s2::Vector{Vector{Bool}})\n",
    "    # Ratio of probabilities between list of states s2 and state s1\n",
    "    return [p_ratio(rbm, s1, s) for s in s2]\n",
    "end;"
   ]
  },
  {
   "cell_type": "markdown",
   "id": "735b4cab",
   "metadata": {},
   "source": [
    "### Useful functions for variational monte carlo"
   ]
  },
  {
   "cell_type": "code",
   "execution_count": 14,
   "id": "53829a50",
   "metadata": {},
   "outputs": [],
   "source": [
    "# Flip i-th bit of state s\n",
    "function flip(s::Vector{Bool},i::Int)\n",
    "    s_flip = copy(s)\n",
    "    s_flip[i] = 1 - s_flip[i]\n",
    "    return s_flip\n",
    "end\n",
    "\n",
    "# Local energy of the TFI model\n",
    "function local_energy(s::Vector{Bool},psi::RBM;J,B)\n",
    "    # Interaction term\n",
    "    couplings = (s .== circshift(s,1)) .* 2 .- 1\n",
    "    e_int = -J*sum(couplings)\n",
    "    \n",
    "    # Transverse field term\n",
    "    flipped_states = [flip(s,i) for i in 1:length(s)]\n",
    "    e_field = -B*sum(p_ratios(psi,s,flipped_states))\n",
    "    \n",
    "    return e_int + e_field\n",
    "end\n",
    "\n",
    "# Compute the log-derivative of the wavefunction\n",
    "function variational_derivative(x::Vector{Bool}, psi::RBM)\n",
    "    theta = c(psi) + W(psi) * x   # Column of length n_hidden\n",
    "    Ob = x                        # Column of length n_visible\n",
    "    Oc = tanh.(theta)\n",
    "    Ow = Oc * x'                  # Matrix of n_hidden x n_visible\n",
    "    return vcat(Ob, Oc, Ow...)\n",
    "end\n",
    "\n",
    "# Compute the covariance between x1 and x2\n",
    "# Used for calculating the gradient:\n",
    "#\n",
    "# F = covariance(conj.(O),EL') -> x1 is num_params x num_samples and EL is 1 x num_samples\n",
    "#\n",
    "# and for the Fischer matrix:\n",
    "#\n",
    "# S = covariance(conj.(O),O) -> x1, x2 are num_params x num_samples\n",
    "function covariance(x1, x2)\n",
    "    samples = size(x1,2)                              # Number of columns (samples) in x1\n",
    "    m1 = mean(x1, dims=2)                             # This is num_params x 1\n",
    "    m2 = size(x2,2) > 1 ? mean(x2, dims=2) : mean(x2) # This is either num_params x 1 or a number\n",
    "    return size(x2,2) > 1 ? (x1 * x2')/samples - m1 * m2' : (x1 * x2)/samples - m1 .* m2\n",
    "end\n",
    "\n",
    "# Sample bs states according to our wavefunction\n",
    "function sample_block(psi::RBM, bs; x0=nothing)\n",
    "    state = x0 == nothing ? rand(Bool,psi.n_visible) : x0\n",
    "    states = []\n",
    "    for _ in 1:bs\n",
    "        idx = rand(1:psi.n_visible)\n",
    "        new_state = flip(state, idx)\n",
    "        if rand() <= abs(p_ratio(psi,state,new_state))^2\n",
    "            state = copy(new_state)   # Accept new state   \n",
    "        end\n",
    "        push!(states,state)\n",
    "    end\n",
    "    return states\n",
    "end;"
   ]
  },
  {
   "cell_type": "markdown",
   "id": "e55b0b5c",
   "metadata": {},
   "source": [
    "### Binning analysis functions"
   ]
  },
  {
   "cell_type": "code",
   "execution_count": 15,
   "id": "8df8aeb7",
   "metadata": {},
   "outputs": [],
   "source": [
    "# Mean of the time-series x in chunks of given size\n",
    "function bin_averages(x, bs)\n",
    "    nb = length(x) ÷ bs\n",
    "    bin_avg = [mean(x[b*bs+1:(b+1)*bs]) for b in 0:nb-1]\n",
    "    return hcat(bin_avg...)\n",
    "end;"
   ]
  },
  {
   "cell_type": "markdown",
   "id": "4d1b3382",
   "metadata": {},
   "source": [
    "## main code\n",
    "\n",
    "### Ground state and ground energy\n",
    "\n",
    "Calculate the ground state energy given the number of spins $N$, the coupling interaction term $J$ and the strength of the transverse magnetic field $B$."
   ]
  },
  {
   "cell_type": "code",
   "execution_count": 16,
   "id": "8b311f8d",
   "metadata": {},
   "outputs": [
    {
     "name": "stdout",
     "output_type": "stream",
     "text": [
      "Ground state energy: -4.47213595\n",
      "Ground state:\n"
     ]
    },
    {
     "data": {
      "text/plain": [
       "4×1 Matrix{Float64}:\n",
       " -0.6881909602355871\n",
       " -0.16245984811645311\n",
       " -0.16245984811645314\n",
       " -0.6881909602355863"
      ]
     },
     "metadata": {},
     "output_type": "display_data"
    }
   ],
   "source": [
    "# Value of the coupling term and transverse magnetic field\n",
    "J, B = 2, 1\n",
    "\n",
    "# Number of spins\n",
    "N = 2\n",
    "H = buildHamiltonian_sparse(N=N,J=J,B=B)\n",
    "\n",
    "ground_energy, ground_state = eigen_sparse(H)\n",
    "\n",
    "@printf \"Ground state energy: %.8f\\n\" ground_energy[1]\n",
    "@printf \"Ground state:\\n\"\n",
    "display(ground_state)"
   ]
  },
  {
   "cell_type": "markdown",
   "id": "e3edd6e9",
   "metadata": {},
   "source": [
    "### Ground state magnetization\n",
    "\n",
    "Calculate the longitudinal and transversal magnetizations of the ground state."
   ]
  },
  {
   "cell_type": "code",
   "execution_count": 17,
   "id": "1c08bef9",
   "metadata": {},
   "outputs": [
    {
     "data": {
      "text/plain": [
       "([0.9732489894677301;;], [0.9999999999999999;;])"
      ]
     },
     "execution_count": 17,
     "metadata": {},
     "output_type": "execute_result"
    }
   ],
   "source": [
    "st_mz, st_mx = buildMagnetizations_sparse(ground_state;N=N)"
   ]
  },
  {
   "cell_type": "markdown",
   "id": "d5d572fd",
   "metadata": {},
   "source": [
    "### Plot of the phase transition\n",
    "\n",
    "We calculate the longitudinal magnetization of the ground state for different values of $B/J$ and plot it for many $N$:"
   ]
  },
  {
   "cell_type": "raw",
   "id": "587e0dbb",
   "metadata": {},
   "source": [
    "# Values of B/J\n",
    "B_J = 10 .^ range(start=-2., stop=2., length=10)\n",
    "Ns = 4:4:20\n",
    "\n",
    "p = plot()\n",
    "q = plot()\n",
    "@time for N in Ns\n",
    "    st_mz = zeros(length(B_J))\n",
    "    st_mx = zeros(length(B_J))\n",
    "    for (i,b) in enumerate(B_J)\n",
    "        H = buildHamiltonian_sparse(N=N,J=1,B=b)\n",
    "        vals, vecs = eigen_sparse(H)\n",
    "        ground_state = @view vecs[:,1]\n",
    "        st_mz[i], st_mx[i] = buildMagnetizations_sparse(ground_state;N=N)\n",
    "    end\n",
    "    plot!(p, B_J, st_mz, marker=:circle, label=\"N = $N\", xscale=:log10,\n",
    "        lw=3, ls=:dash, markersize=6)\n",
    "    plot!(q, B_J, st_mx, marker=:circle, label=\"N = $N\", xscale=:log10,\n",
    "        lw=3, ls=:dash, markersize=6)\n",
    "end\n",
    "\n",
    "# Finer grid\n",
    "B_J = 10 .^ range(start=-2., stop=2., length=1000)\n",
    "in_mz = zeros(length(B_J))\n",
    "in_mx = zeros(length(B_J))\n",
    "\n",
    "for (i,b) in enumerate(B_J)\n",
    "    # Add thermodynamic limit N → ∞\n",
    "    in_mz[i], in_mx[i] = magnetizationIntegral(J=1,B=b)\n",
    "end\n",
    "plot!(p, B_J, in_mz, c=:black, label=\"N = ∞\", lw=2, \n",
    "    xlab=\"B/J\", ylab=\"m_z\", xtickfontsize=14, xguidefontsize=14,\n",
    "        ytickfontsize=14, yguidefontsize=14)\n",
    "plot!(q, B_J, in_mx, c=:black, label=\"N = ∞\", lw=2,\n",
    "    xlab=\"B/J\", ylab=\"m_x\", xtickfontsize=14, xguidefontsize=14,\n",
    "        ytickfontsize=14, yguidefontsize=14)"
   ]
  },
  {
   "cell_type": "raw",
   "id": "287d6597",
   "metadata": {},
   "source": [
    "p"
   ]
  },
  {
   "cell_type": "markdown",
   "id": "09eaf29b",
   "metadata": {},
   "source": [
    "## Variational Monte Carlo using RBM wavefunction\n",
    "\n",
    "### Monte Carlo sampling by flipping spins randomly"
   ]
  },
  {
   "cell_type": "code",
   "execution_count": 18,
   "id": "8fbcdf29",
   "metadata": {},
   "outputs": [],
   "source": [
    "## Parameters of the problem\n",
    "n = 2                           # Number of spins\n",
    "J, B = 2, 1                     # Hamiltonian\n",
    "n_visible, n_hidden = n, 1      # RBM size: twice as many hidden neurons\n",
    "psi = RBM(n_visible,n_hidden);  # Randomly initialize our anstaz"
   ]
  },
  {
   "cell_type": "raw",
   "id": "08ba5235",
   "metadata": {},
   "source": [
    "n_samples = 50000\n",
    "state = rand(Bool,n) # initial random state\n",
    "states, energies = [], []\n",
    "\n",
    "for _ in 1:n_samples\n",
    "    # Sample new state\n",
    "    idx = rand(1:n) \n",
    "    new_state = flip(state,idx)\n",
    "\n",
    "    if rand() <= abs(p_ratio(psi,state,new_state))^2\n",
    "        state = copy(new_state)   # Accept new state\n",
    "    end\n",
    "    push!(states,state)\n",
    "    push!(energies,real(local_energy(state,psi;J=J,B=B)))\n",
    "end;\n",
    "    \n",
    "p1 = plot(energies[1:1000],grid=true,gridlinesize=2,size=(800,600))\n",
    "plot!(p1,xlab=\"Sample\",xguidefontsize=14,ylab=\"Local energy\",yguidefontsize=14)\n",
    "plot!(p1,title=\"E = $(round(mean(energies),digits=4)) +- $(round(std(energies)/sqrt(n_samples),digits=4))\")"
   ]
  },
  {
   "cell_type": "markdown",
   "id": "7df9d6ab",
   "metadata": {},
   "source": [
    "### Calculate autocorrelation time of the samples"
   ]
  },
  {
   "cell_type": "raw",
   "id": "92150852",
   "metadata": {},
   "source": [
    "ks = [2^k for k in 1:11]\n",
    "errors, means, bin_avgs = [], [], []\n",
    "\n",
    "for k in ks\n",
    "    bin_avg = bin_averages(energies, k)\n",
    "    error = sqrt(var(bin_avg)/length(bin_avg))\n",
    "    push!(errors,error)\n",
    "    push!(means,mean(bin_avg))\n",
    "    push!(bin_avgs,bin_avg)\n",
    "end\n",
    "\n",
    "\n",
    "p2 = plot(ks, errors .^ 2,ls=:solid,marker=:circ,size=(800,600),grid=true)\n",
    "plot!(p2,xtickfontsize=15,xlab=\"Bin size\",xguidefontsize=20)\n",
    "plot!(p2,ytickfontsize=15,ylab=\"s²ᵦ\",xguidefontsize=20)"
   ]
  },
  {
   "cell_type": "raw",
   "id": "134706b4",
   "metadata": {},
   "source": [
    "tau = (errors[end-3]/errors[1])^2"
   ]
  },
  {
   "cell_type": "markdown",
   "id": "53bad83d",
   "metadata": {},
   "source": [
    "### Stochastic Reconfiguration (Natural Gradient) learning"
   ]
  },
  {
   "cell_type": "code",
   "execution_count": 19,
   "id": "f874752b",
   "metadata": {},
   "outputs": [
    {
     "name": "stdout",
     "output_type": "stream",
     "text": [
      "  0.741035 seconds (11.39 M allocations: 723.619 MiB, 8.66% gc time, 36.30% compilation time)\n"
     ]
    },
    {
     "data": {
      "image/png": "[encoded data removed]",
      "image/svg+xml": [
       "<?xml version=\"1.0\" encoding=\"utf-8\"?>\n",
       "<svg xmlns=\"http://www.w3.org/2000/svg\" xmlns:xlink=\"http://www.w3.org/1999/xlink\" width=\"800\" height=\"600\" viewBox=\"0 0 3200 2400\">\n",
       "<defs>\n",
       "  <clipPath id=\"clip770\">\n",
       "    <rect x=\"0\" y=\"0\" width=\"3200\" height=\"2400\"/>\n",
       "  </clipPath>\n",
       "</defs>\n",
       "<path clip-path=\"url(#clip770)\" d=\"M0 2400 L3200 2400 L3200 0 L0 0  Z\" fill=\"#ffffff\" fill-rule=\"evenodd\" fill-opacity=\"1\"/>\n",
       "<defs>\n",
       "  <clipPath id=\"clip771\">\n",
       "    <rect x=\"640\" y=\"0\" width=\"2241\" height=\"2241\"/>\n",
       "  </clipPath>\n",
       "</defs>\n",
       "<path clip-path=\"url(#clip770)\" d=\"M475.3 2102.86 L3152.76 2102.86 L3152.76 47.2441 L475.3 47.2441  Z\" fill=\"#ffffff\" fill-rule=\"evenodd\" fill-opacity=\"1\"/>\n",
       "<defs>\n",
       "  <clipPath id=\"clip772\">\n",
       "    <rect x=\"475\" y=\"47\" width=\"2678\" height=\"2057\"/>\n",
       "  </clipPath>\n",
       "</defs>\n",
       "<polyline clip-path=\"url(#clip772)\" style=\"stroke:#000000; stroke-linecap:round; stroke-linejoin:round; stroke-width:2; stroke-opacity:0.1; fill:none\" points=\"544.323,2102.86 544.323,47.2441 \"/>\n",
       "<polyline clip-path=\"url(#clip772)\" style=\"stroke:#000000; stroke-linecap:round; stroke-linejoin:round; stroke-width:2; stroke-opacity:0.1; fill:none\" points=\"1219.7,2102.86 1219.7,47.2441 \"/>\n",
       "<polyline clip-path=\"url(#clip772)\" style=\"stroke:#000000; stroke-linecap:round; stroke-linejoin:round; stroke-width:2; stroke-opacity:0.1; fill:none\" points=\"1895.07,2102.86 1895.07,47.2441 \"/>\n",
       "<polyline clip-path=\"url(#clip772)\" style=\"stroke:#000000; stroke-linecap:round; stroke-linejoin:round; stroke-width:2; stroke-opacity:0.1; fill:none\" points=\"2570.45,2102.86 2570.45,47.2441 \"/>\n",
       "<polyline clip-path=\"url(#clip770)\" style=\"stroke:#000000; stroke-linecap:round; stroke-linejoin:round; stroke-width:4; stroke-opacity:1; fill:none\" points=\"475.3,2102.86 3152.76,2102.86 \"/>\n",
       "<polyline clip-path=\"url(#clip770)\" style=\"stroke:#000000; stroke-linecap:round; stroke-linejoin:round; stroke-width:4; stroke-opacity:1; fill:none\" points=\"544.323,2102.86 544.323,2083.96 \"/>\n",
       "<polyline clip-path=\"url(#clip770)\" style=\"stroke:#000000; stroke-linecap:round; stroke-linejoin:round; stroke-width:4; stroke-opacity:1; fill:none\" points=\"1219.7,2102.86 1219.7,2083.96 \"/>\n",
       "<polyline clip-path=\"url(#clip770)\" style=\"stroke:#000000; stroke-linecap:round; stroke-linejoin:round; stroke-width:4; stroke-opacity:1; fill:none\" points=\"1895.07,2102.86 1895.07,2083.96 \"/>\n",
       "<polyline clip-path=\"url(#clip770)\" style=\"stroke:#000000; stroke-linecap:round; stroke-linejoin:round; stroke-width:4; stroke-opacity:1; fill:none\" points=\"2570.45,2102.86 2570.45,2083.96 \"/>\n",
       "<path clip-path=\"url(#clip770)\" d=\"M544.323 2157.76 Q535.295 2157.76 530.724 2166.67 Q526.21 2175.52 526.21 2193.35 Q526.21 2211.11 530.724 2220.02 Q535.295 2228.88 544.323 2228.88 Q553.409 2228.88 557.923 2220.02 Q562.494 2211.11 562.494 2193.35 Q562.494 2175.52 557.923 2166.67 Q553.409 2157.76 544.323 2157.76 M544.323 2148.5 Q558.849 2148.5 566.487 2160.01 Q574.184 2171.47 574.184 2193.35 Q574.184 2215.16 566.487 2226.68 Q558.849 2238.14 544.323 2238.14 Q529.798 2238.14 522.101 2226.68 Q514.462 2215.16 514.462 2193.35 Q514.462 2171.47 522.101 2160.01 Q529.798 2148.5 544.323 2148.5 Z\" fill=\"#000000\" fill-rule=\"nonzero\" fill-opacity=\"1\" /><path clip-path=\"url(#clip770)\" d=\"M1118.71 2226.62 L1137.81 2226.62 L1137.81 2160.71 L1117.04 2164.87 L1117.04 2154.23 L1137.7 2150.06 L1149.39 2150.06 L1149.39 2226.62 L1168.48 2226.62 L1168.48 2236.46 L1118.71 2236.46 L1118.71 2226.62 Z\" fill=\"#000000\" fill-rule=\"nonzero\" fill-opacity=\"1\" /><path clip-path=\"url(#clip770)\" d=\"M1217.09 2157.76 Q1208.07 2157.76 1203.49 2166.67 Q1198.98 2175.52 1198.98 2193.35 Q1198.98 2211.11 1203.49 2220.02 Q1208.07 2228.88 1217.09 2228.88 Q1226.18 2228.88 1230.69 2220.02 Q1235.27 2211.11 1235.27 2193.35 Q1235.27 2175.52 1230.69 2166.67 Q1226.18 2157.76 1217.09 2157.76 M1217.09 2148.5 Q1231.62 2148.5 1239.26 2160.01 Q1246.95 2171.47 1246.95 2193.35 Q1246.95 2215.16 1239.26 2226.68 Q1231.62 2238.14 1217.09 2238.14 Q1202.57 2238.14 1194.87 2226.68 Q1187.23 2215.16 1187.23 2193.35 Q1187.23 2171.47 1194.87 2160.01 Q1202.57 2148.5 1217.09 2148.5 Z\" fill=\"#000000\" fill-rule=\"nonzero\" fill-opacity=\"1\" /><path clip-path=\"url(#clip770)\" d=\"M1292.5 2157.76 Q1283.47 2157.76 1278.9 2166.67 Q1274.39 2175.52 1274.39 2193.35 Q1274.39 2211.11 1278.9 2220.02 Q1283.47 2228.88 1292.5 2228.88 Q1301.58 2228.88 1306.1 2220.02 Q1310.67 2211.11 1310.67 2193.35 Q1310.67 2175.52 1306.1 2166.67 Q1301.58 2157.76 1292.5 2157.76 M1292.5 2148.5 Q1307.02 2148.5 1314.66 2160.01 Q1322.36 2171.47 1322.36 2193.35 Q1322.36 2215.16 1314.66 2226.68 Q1307.02 2238.14 1292.5 2238.14 Q1277.97 2238.14 1270.28 2226.68 Q1262.64 2215.16 1262.64 2193.35 Q1262.64 2171.47 1270.28 2160.01 Q1277.97 2148.5 1292.5 2148.5 Z\" fill=\"#000000\" fill-rule=\"nonzero\" fill-opacity=\"1\" /><path clip-path=\"url(#clip770)\" d=\"M1804.3 2226.62 L1845.1 2226.62 L1845.1 2236.46 L1790.24 2236.46 L1790.24 2226.62 Q1796.9 2219.74 1808.35 2208.16 Q1819.87 2196.53 1822.82 2193.17 Q1828.44 2186.87 1830.63 2182.52 Q1832.89 2178.13 1832.89 2173.9 Q1832.89 2167.02 1828.03 2162.68 Q1823.23 2158.34 1815.47 2158.34 Q1809.97 2158.34 1803.84 2160.24 Q1797.76 2162.15 1790.82 2166.03 L1790.82 2154.23 Q1797.88 2151.39 1804.01 2149.94 Q1810.15 2148.5 1815.24 2148.5 Q1828.67 2148.5 1836.65 2155.21 Q1844.64 2161.92 1844.64 2173.15 Q1844.64 2178.47 1842.61 2183.28 Q1840.65 2188.02 1835.38 2194.5 Q1833.93 2196.18 1826.18 2204.23 Q1818.42 2212.21 1804.3 2226.62 Z\" fill=\"#000000\" fill-rule=\"nonzero\" fill-opacity=\"1\" /><path clip-path=\"url(#clip770)\" d=\"M1894.64 2157.76 Q1885.61 2157.76 1881.04 2166.67 Q1876.53 2175.52 1876.53 2193.35 Q1876.53 2211.11 1881.04 2220.02 Q1885.61 2228.88 1894.64 2228.88 Q1903.72 2228.88 1908.24 2220.02 Q1912.81 2211.11 1912.81 2193.35 Q1912.81 2175.52 1908.24 2166.67 Q1903.72 2157.76 1894.64 2157.76 M1894.64 2148.5 Q1909.16 2148.5 1916.8 2160.01 Q1924.5 2171.47 1924.5 2193.35 Q1924.5 2215.16 1916.8 2226.68 Q1909.16 2238.14 1894.64 2238.14 Q1880.11 2238.14 1872.42 2226.68 Q1864.78 2215.16 1864.78 2193.35 Q1864.78 2171.47 1872.42 2160.01 Q1880.11 2148.5 1894.64 2148.5 Z\" fill=\"#000000\" fill-rule=\"nonzero\" fill-opacity=\"1\" /><path clip-path=\"url(#clip770)\" d=\"M1970.04 2157.76 Q1961.02 2157.76 1956.44 2166.67 Q1951.93 2175.52 1951.93 2193.35 Q1951.93 2211.11 1956.44 2220.02 Q1961.02 2228.88 1970.04 2228.88 Q1979.13 2228.88 1983.64 2220.02 Q1988.21 2211.11 1988.21 2193.35 Q1988.21 2175.52 1983.64 2166.67 Q1979.13 2157.76 1970.04 2157.76 M1970.04 2148.5 Q1984.57 2148.5 1992.21 2160.01 Q1999.9 2171.47 1999.9 2193.35 Q1999.9 2215.16 1992.21 2226.68 Q1984.57 2238.14 1970.04 2238.14 Q1955.52 2238.14 1947.82 2226.68 Q1940.18 2215.16 1940.18 2193.35 Q1940.18 2171.47 1947.82 2160.01 Q1955.52 2148.5 1970.04 2148.5 Z\" fill=\"#000000\" fill-rule=\"nonzero\" fill-opacity=\"1\" /><path clip-path=\"url(#clip770)\" d=\"M2504.85 2189.87 Q2513.24 2191.67 2517.93 2197.34 Q2522.68 2203.01 2522.68 2211.34 Q2522.68 2224.13 2513.88 2231.14 Q2505.08 2238.14 2488.88 2238.14 Q2483.44 2238.14 2477.65 2237.04 Q2471.92 2236 2465.79 2233.86 L2465.79 2222.57 Q2470.65 2225.41 2476.44 2226.85 Q2482.22 2228.3 2488.53 2228.3 Q2499.53 2228.3 2505.26 2223.96 Q2511.04 2219.62 2511.04 2211.34 Q2511.04 2203.71 2505.66 2199.42 Q2500.34 2195.08 2490.79 2195.08 L2480.72 2195.08 L2480.72 2185.48 L2491.25 2185.48 Q2499.88 2185.48 2504.45 2182.06 Q2509.02 2178.59 2509.02 2172.11 Q2509.02 2165.45 2504.27 2161.92 Q2499.59 2158.34 2490.79 2158.34 Q2485.99 2158.34 2480.49 2159.38 Q2474.99 2160.42 2468.39 2162.62 L2468.39 2152.2 Q2475.05 2150.35 2480.84 2149.42 Q2486.68 2148.5 2491.83 2148.5 Q2505.14 2148.5 2512.9 2154.57 Q2520.65 2160.59 2520.65 2170.89 Q2520.65 2178.07 2516.54 2183.05 Q2512.43 2187.96 2504.85 2189.87 Z\" fill=\"#000000\" fill-rule=\"nonzero\" fill-opacity=\"1\" /><path clip-path=\"url(#clip770)\" d=\"M2569.84 2157.76 Q2560.81 2157.76 2556.24 2166.67 Q2551.73 2175.52 2551.73 2193.35 Q2551.73 2211.11 2556.24 2220.02 Q2560.81 2228.88 2569.84 2228.88 Q2578.93 2228.88 2583.44 2220.02 Q2588.01 2211.11 2588.01 2193.35 Q2588.01 2175.52 2583.44 2166.67 Q2578.93 2157.76 2569.84 2157.76 M2569.84 2148.5 Q2584.37 2148.5 2592 2160.01 Q2599.7 2171.47 2599.7 2193.35 Q2599.7 2215.16 2592 2226.68 Q2584.37 2238.14 2569.84 2238.14 Q2555.31 2238.14 2547.62 2226.68 Q2539.98 2215.16 2539.98 2193.35 Q2539.98 2171.47 2547.62 2160.01 Q2555.31 2148.5 2569.84 2148.5 Z\" fill=\"#000000\" fill-rule=\"nonzero\" fill-opacity=\"1\" /><path clip-path=\"url(#clip770)\" d=\"M2645.24 2157.76 Q2636.22 2157.76 2631.65 2166.67 Q2627.13 2175.52 2627.13 2193.35 Q2627.13 2211.11 2631.65 2220.02 Q2636.22 2228.88 2645.24 2228.88 Q2654.33 2228.88 2658.84 2220.02 Q2663.42 2211.11 2663.42 2193.35 Q2663.42 2175.52 2658.84 2166.67 Q2654.33 2157.76 2645.24 2157.76 M2645.24 2148.5 Q2659.77 2148.5 2667.41 2160.01 Q2675.11 2171.47 2675.11 2193.35 Q2675.11 2215.16 2667.41 2226.68 Q2659.77 2238.14 2645.24 2238.14 Q2630.72 2238.14 2623.02 2226.68 Q2615.38 2215.16 2615.38 2193.35 Q2615.38 2171.47 2623.02 2160.01 Q2630.72 2148.5 2645.24 2148.5 Z\" fill=\"#000000\" fill-rule=\"nonzero\" fill-opacity=\"1\" /><path clip-path=\"url(#clip770)\" d=\"M1298.43 2297.74 L1310.12 2297.74 L1310.12 2374.3 L1352.2 2374.3 L1352.2 2384.14 L1298.43 2384.14 L1298.43 2297.74 Z\" fill=\"#000000\" fill-rule=\"nonzero\" fill-opacity=\"1\" /><path clip-path=\"url(#clip770)\" d=\"M1417.36 2349.07 L1417.36 2354.28 L1368.4 2354.28 Q1369.09 2365.27 1375 2371.06 Q1380.96 2376.79 1391.55 2376.79 Q1397.68 2376.79 1403.41 2375.29 Q1409.2 2373.78 1414.87 2370.77 L1414.87 2380.84 Q1409.14 2383.27 1403.12 2384.54 Q1397.1 2385.82 1390.91 2385.82 Q1375.4 2385.82 1366.32 2376.79 Q1357.29 2367.76 1357.29 2352.37 Q1357.29 2336.45 1365.85 2327.14 Q1374.48 2317.76 1389.06 2317.76 Q1402.14 2317.76 1409.72 2326.21 Q1417.36 2334.6 1417.36 2349.07 M1406.71 2345.95 Q1406.59 2337.21 1401.79 2332 Q1397.05 2326.79 1389.17 2326.79 Q1380.26 2326.79 1374.88 2331.83 Q1369.56 2336.86 1368.75 2346 L1406.71 2345.95 Z\" fill=\"#000000\" fill-rule=\"nonzero\" fill-opacity=\"1\" /><path clip-path=\"url(#clip770)\" d=\"M1464.29 2351.56 Q1451.39 2351.56 1446.41 2354.51 Q1441.43 2357.46 1441.43 2364.58 Q1441.43 2370.25 1445.14 2373.61 Q1448.9 2376.91 1455.32 2376.91 Q1464.17 2376.91 1469.5 2370.66 Q1474.88 2364.35 1474.88 2353.93 L1474.88 2351.56 L1464.29 2351.56 M1485.53 2347.16 L1485.53 2384.14 L1474.88 2384.14 L1474.88 2374.3 Q1471.23 2380.2 1465.79 2383.04 Q1460.35 2385.82 1452.48 2385.82 Q1442.53 2385.82 1436.63 2380.26 Q1430.78 2374.65 1430.78 2365.27 Q1430.78 2354.34 1438.08 2348.78 Q1445.42 2343.23 1459.95 2343.23 L1474.88 2343.23 L1474.88 2342.18 Q1474.88 2334.83 1470.02 2330.84 Q1465.22 2326.79 1456.48 2326.79 Q1450.92 2326.79 1445.66 2328.12 Q1440.39 2329.45 1435.53 2332.11 L1435.53 2322.28 Q1441.37 2320.02 1446.87 2318.92 Q1452.37 2317.76 1457.58 2317.76 Q1471.64 2317.76 1478.58 2325.05 Q1485.53 2332.35 1485.53 2347.16 Z\" fill=\"#000000\" fill-rule=\"nonzero\" fill-opacity=\"1\" /><path clip-path=\"url(#clip770)\" d=\"M1545.02 2329.28 Q1543.22 2328.24 1541.08 2327.77 Q1539 2327.25 1536.45 2327.25 Q1527.43 2327.25 1522.57 2333.16 Q1517.76 2339 1517.76 2350 L1517.76 2384.14 L1507.06 2384.14 L1507.06 2319.33 L1517.76 2319.33 L1517.76 2329.39 Q1521.12 2323.49 1526.5 2320.66 Q1531.88 2317.76 1539.58 2317.76 Q1540.68 2317.76 1542.01 2317.94 Q1543.34 2318.05 1544.96 2318.34 L1545.02 2329.28 Z\" fill=\"#000000\" fill-rule=\"nonzero\" fill-opacity=\"1\" /><path clip-path=\"url(#clip770)\" d=\"M1607.98 2345.02 L1607.98 2384.14 L1597.33 2384.14 L1597.33 2345.37 Q1597.33 2336.17 1593.75 2331.59 Q1590.16 2327.02 1582.98 2327.02 Q1574.36 2327.02 1569.38 2332.52 Q1564.41 2338.02 1564.41 2347.51 L1564.41 2384.14 L1553.7 2384.14 L1553.7 2319.33 L1564.41 2319.33 L1564.41 2329.39 Q1568.22 2323.55 1573.38 2320.66 Q1578.58 2317.76 1585.35 2317.76 Q1596.52 2317.76 1602.25 2324.71 Q1607.98 2331.59 1607.98 2345.02 Z\" fill=\"#000000\" fill-rule=\"nonzero\" fill-opacity=\"1\" /><path clip-path=\"url(#clip770)\" d=\"M1629.22 2319.33 L1639.87 2319.33 L1639.87 2384.14 L1629.22 2384.14 L1629.22 2319.33 M1629.22 2294.09 L1639.87 2294.09 L1639.87 2307.58 L1629.22 2307.58 L1629.22 2294.09 Z\" fill=\"#000000\" fill-rule=\"nonzero\" fill-opacity=\"1\" /><path clip-path=\"url(#clip770)\" d=\"M1716.02 2345.02 L1716.02 2384.14 L1705.38 2384.14 L1705.38 2345.37 Q1705.38 2336.17 1701.79 2331.59 Q1698.2 2327.02 1691.03 2327.02 Q1682.4 2327.02 1677.43 2332.52 Q1672.45 2338.02 1672.45 2347.51 L1672.45 2384.14 L1661.74 2384.14 L1661.74 2319.33 L1672.45 2319.33 L1672.45 2329.39 Q1676.27 2323.55 1681.42 2320.66 Q1686.63 2317.76 1693.4 2317.76 Q1704.57 2317.76 1710.3 2324.71 Q1716.02 2331.59 1716.02 2345.02 Z\" fill=\"#000000\" fill-rule=\"nonzero\" fill-opacity=\"1\" /><path clip-path=\"url(#clip770)\" d=\"M1779.91 2350.98 Q1779.91 2339.41 1775.11 2333.04 Q1770.36 2326.67 1761.74 2326.67 Q1753.18 2326.67 1748.37 2333.04 Q1743.63 2339.41 1743.63 2350.98 Q1743.63 2362.5 1748.37 2368.86 Q1753.18 2375.23 1761.74 2375.23 Q1770.36 2375.23 1775.11 2368.86 Q1779.91 2362.5 1779.91 2350.98 M1790.56 2376.1 Q1790.56 2392.65 1783.21 2400.69 Q1775.86 2408.79 1760.7 2408.79 Q1755.09 2408.79 1750.11 2407.92 Q1745.13 2407.11 1740.45 2405.38 L1740.45 2395.02 Q1745.13 2397.57 1749.71 2398.78 Q1754.28 2400 1759.02 2400 Q1769.5 2400 1774.71 2394.5 Q1779.91 2389.06 1779.91 2378.01 L1779.91 2372.74 Q1776.61 2378.47 1771.46 2381.3 Q1766.31 2384.14 1759.14 2384.14 Q1747.22 2384.14 1739.93 2375.05 Q1732.63 2365.97 1732.63 2350.98 Q1732.63 2335.93 1739.93 2326.85 Q1747.22 2317.76 1759.14 2317.76 Q1766.31 2317.76 1771.46 2320.6 Q1776.61 2323.43 1779.91 2329.16 L1779.91 2319.33 L1790.56 2319.33 L1790.56 2376.1 Z\" fill=\"#000000\" fill-rule=\"nonzero\" fill-opacity=\"1\" /><path clip-path=\"url(#clip770)\" d=\"M1850.17 2319.33 L1860.82 2319.33 L1860.82 2384.14 L1850.17 2384.14 L1850.17 2319.33 M1850.17 2294.09 L1860.82 2294.09 L1860.82 2307.58 L1850.17 2307.58 L1850.17 2294.09 Z\" fill=\"#000000\" fill-rule=\"nonzero\" fill-opacity=\"1\" /><path clip-path=\"url(#clip770)\" d=\"M1893.63 2300.92 L1893.63 2319.33 L1915.56 2319.33 L1915.56 2327.6 L1893.63 2327.6 L1893.63 2362.79 Q1893.63 2370.71 1895.77 2372.97 Q1897.97 2375.23 1904.62 2375.23 L1915.56 2375.23 L1915.56 2384.14 L1904.62 2384.14 Q1892.3 2384.14 1887.61 2379.57 Q1882.92 2374.94 1882.92 2362.79 L1882.92 2327.6 L1875.11 2327.6 L1875.11 2319.33 L1882.92 2319.33 L1882.92 2300.92 L1893.63 2300.92 Z\" fill=\"#000000\" fill-rule=\"nonzero\" fill-opacity=\"1\" /><path clip-path=\"url(#clip770)\" d=\"M1985 2349.07 L1985 2354.28 L1936.05 2354.28 Q1936.74 2365.27 1942.64 2371.06 Q1948.6 2376.79 1959.19 2376.79 Q1965.33 2376.79 1971.06 2375.29 Q1976.85 2373.78 1982.52 2370.77 L1982.52 2380.84 Q1976.79 2383.27 1970.77 2384.54 Q1964.75 2385.82 1958.56 2385.82 Q1943.05 2385.82 1933.96 2376.79 Q1924.94 2367.76 1924.94 2352.37 Q1924.94 2336.45 1933.5 2327.14 Q1942.12 2317.76 1956.71 2317.76 Q1969.79 2317.76 1977.37 2326.21 Q1985 2334.6 1985 2349.07 M1974.36 2345.95 Q1974.24 2337.21 1969.44 2332 Q1964.69 2326.79 1956.82 2326.79 Q1947.91 2326.79 1942.53 2331.83 Q1937.2 2336.86 1936.39 2346 L1974.36 2345.95 Z\" fill=\"#000000\" fill-rule=\"nonzero\" fill-opacity=\"1\" /><path clip-path=\"url(#clip770)\" d=\"M2040.04 2329.28 Q2038.25 2328.24 2036.1 2327.77 Q2034.02 2327.25 2031.47 2327.25 Q2022.45 2327.25 2017.59 2333.16 Q2012.78 2339 2012.78 2350 L2012.78 2384.14 L2002.08 2384.14 L2002.08 2319.33 L2012.78 2319.33 L2012.78 2329.39 Q2016.14 2323.49 2021.52 2320.66 Q2026.9 2317.76 2034.6 2317.76 Q2035.7 2317.76 2037.03 2317.94 Q2038.36 2318.05 2039.98 2318.34 L2040.04 2329.28 Z\" fill=\"#000000\" fill-rule=\"nonzero\" fill-opacity=\"1\" /><path clip-path=\"url(#clip770)\" d=\"M2080.66 2351.56 Q2067.76 2351.56 2062.78 2354.51 Q2057.81 2357.46 2057.81 2364.58 Q2057.81 2370.25 2061.51 2373.61 Q2065.27 2376.91 2071.69 2376.91 Q2080.55 2376.91 2085.87 2370.66 Q2091.25 2364.35 2091.25 2353.93 L2091.25 2351.56 L2080.66 2351.56 M2101.9 2347.16 L2101.9 2384.14 L2091.25 2384.14 L2091.25 2374.3 Q2087.61 2380.2 2082.17 2383.04 Q2076.73 2385.82 2068.86 2385.82 Q2058.91 2385.82 2053 2380.26 Q2047.16 2374.65 2047.16 2365.27 Q2047.16 2354.34 2054.45 2348.78 Q2061.8 2343.23 2076.32 2343.23 L2091.25 2343.23 L2091.25 2342.18 Q2091.25 2334.83 2086.39 2330.84 Q2081.59 2326.79 2072.85 2326.79 Q2067.3 2326.79 2062.03 2328.12 Q2056.76 2329.45 2051.9 2332.11 L2051.9 2322.28 Q2057.75 2320.02 2063.25 2318.92 Q2068.74 2317.76 2073.95 2317.76 Q2088.01 2317.76 2094.96 2325.05 Q2101.9 2332.35 2101.9 2347.16 Z\" fill=\"#000000\" fill-rule=\"nonzero\" fill-opacity=\"1\" /><path clip-path=\"url(#clip770)\" d=\"M2134.37 2300.92 L2134.37 2319.33 L2156.3 2319.33 L2156.3 2327.6 L2134.37 2327.6 L2134.37 2362.79 Q2134.37 2370.71 2136.51 2372.97 Q2138.71 2375.23 2145.36 2375.23 L2156.3 2375.23 L2156.3 2384.14 L2145.36 2384.14 Q2133.04 2384.14 2128.35 2379.57 Q2123.66 2374.94 2123.66 2362.79 L2123.66 2327.6 L2115.85 2327.6 L2115.85 2319.33 L2123.66 2319.33 L2123.66 2300.92 L2134.37 2300.92 Z\" fill=\"#000000\" fill-rule=\"nonzero\" fill-opacity=\"1\" /><path clip-path=\"url(#clip770)\" d=\"M2170.3 2319.33 L2180.95 2319.33 L2180.95 2384.14 L2170.3 2384.14 L2170.3 2319.33 M2170.3 2294.09 L2180.95 2294.09 L2180.95 2307.58 L2170.3 2307.58 L2170.3 2294.09 Z\" fill=\"#000000\" fill-rule=\"nonzero\" fill-opacity=\"1\" /><path clip-path=\"url(#clip770)\" d=\"M2228.35 2326.79 Q2219.78 2326.79 2214.81 2333.5 Q2209.83 2340.16 2209.83 2351.79 Q2209.83 2363.42 2214.75 2370.14 Q2219.73 2376.79 2228.35 2376.79 Q2236.86 2376.79 2241.83 2370.08 Q2246.81 2363.36 2246.81 2351.79 Q2246.81 2340.27 2241.83 2333.56 Q2236.86 2326.79 2228.35 2326.79 M2228.35 2317.76 Q2242.24 2317.76 2250.17 2326.79 Q2258.09 2335.82 2258.09 2351.79 Q2258.09 2367.7 2250.17 2376.79 Q2242.24 2385.82 2228.35 2385.82 Q2214.4 2385.82 2206.47 2376.79 Q2198.6 2367.7 2198.6 2351.79 Q2198.6 2335.82 2206.47 2326.79 Q2214.4 2317.76 2228.35 2317.76 Z\" fill=\"#000000\" fill-rule=\"nonzero\" fill-opacity=\"1\" /><path clip-path=\"url(#clip770)\" d=\"M2329.62 2345.02 L2329.62 2384.14 L2318.97 2384.14 L2318.97 2345.37 Q2318.97 2336.17 2315.39 2331.59 Q2311.8 2327.02 2304.62 2327.02 Q2296 2327.02 2291.02 2332.52 Q2286.05 2338.02 2286.05 2347.51 L2286.05 2384.14 L2275.34 2384.14 L2275.34 2319.33 L2286.05 2319.33 L2286.05 2329.39 Q2289.86 2323.55 2295.01 2320.66 Q2300.22 2317.76 2306.99 2317.76 Q2318.16 2317.76 2323.89 2324.71 Q2329.62 2331.59 2329.62 2345.02 Z\" fill=\"#000000\" fill-rule=\"nonzero\" fill-opacity=\"1\" /><polyline clip-path=\"url(#clip772)\" style=\"stroke:#000000; stroke-linecap:round; stroke-linejoin:round; stroke-width:2; stroke-opacity:0.1; fill:none\" points=\"475.3,1887.05 3152.76,1887.05 \"/>\n",
       "<polyline clip-path=\"url(#clip772)\" style=\"stroke:#000000; stroke-linecap:round; stroke-linejoin:round; stroke-width:2; stroke-opacity:0.1; fill:none\" points=\"475.3,1438.44 3152.76,1438.44 \"/>\n",
       "<polyline clip-path=\"url(#clip772)\" style=\"stroke:#000000; stroke-linecap:round; stroke-linejoin:round; stroke-width:2; stroke-opacity:0.1; fill:none\" points=\"475.3,989.829 3152.76,989.829 \"/>\n",
       "<polyline clip-path=\"url(#clip772)\" style=\"stroke:#000000; stroke-linecap:round; stroke-linejoin:round; stroke-width:2; stroke-opacity:0.1; fill:none\" points=\"475.3,541.221 3152.76,541.221 \"/>\n",
       "<polyline clip-path=\"url(#clip772)\" style=\"stroke:#000000; stroke-linecap:round; stroke-linejoin:round; stroke-width:2; stroke-opacity:0.1; fill:none\" points=\"475.3,92.6134 3152.76,92.6134 \"/>\n",
       "<polyline clip-path=\"url(#clip770)\" style=\"stroke:#000000; stroke-linecap:round; stroke-linejoin:round; stroke-width:4; stroke-opacity:1; fill:none\" points=\"475.3,2102.86 475.3,47.2441 \"/>\n",
       "<polyline clip-path=\"url(#clip770)\" style=\"stroke:#000000; stroke-linecap:round; stroke-linejoin:round; stroke-width:4; stroke-opacity:1; fill:none\" points=\"475.3,1887.05 494.197,1887.05 \"/>\n",
       "<polyline clip-path=\"url(#clip770)\" style=\"stroke:#000000; stroke-linecap:round; stroke-linejoin:round; stroke-width:4; stroke-opacity:1; fill:none\" points=\"475.3,1438.44 494.197,1438.44 \"/>\n",
       "<polyline clip-path=\"url(#clip770)\" style=\"stroke:#000000; stroke-linecap:round; stroke-linejoin:round; stroke-width:4; stroke-opacity:1; fill:none\" points=\"475.3,989.829 494.197,989.829 \"/>\n",
       "<polyline clip-path=\"url(#clip770)\" style=\"stroke:#000000; stroke-linecap:round; stroke-linejoin:round; stroke-width:4; stroke-opacity:1; fill:none\" points=\"475.3,541.221 494.197,541.221 \"/>\n",
       "<polyline clip-path=\"url(#clip770)\" style=\"stroke:#000000; stroke-linecap:round; stroke-linejoin:round; stroke-width:4; stroke-opacity:1; fill:none\" points=\"475.3,92.6134 494.197,92.6134 \"/>\n",
       "<path clip-path=\"url(#clip770)\" d=\"M159.94 1888.17 L234.13 1888.17 L234.13 1898.01 L159.94 1898.01 L159.94 1888.17 Z\" fill=\"#000000\" fill-rule=\"nonzero\" fill-opacity=\"1\" /><path clip-path=\"url(#clip770)\" d=\"M291.479 1854.03 L261.965 1900.15 L291.479 1900.15 L291.479 1854.03 M288.412 1843.85 L303.111 1843.85 L303.111 1900.15 L315.437 1900.15 L315.437 1909.87 L303.111 1909.87 L303.111 1930.25 L291.479 1930.25 L291.479 1909.87 L252.474 1909.87 L252.474 1898.59 L288.412 1843.85 Z\" fill=\"#000000\" fill-rule=\"nonzero\" fill-opacity=\"1\" /><path clip-path=\"url(#clip770)\" d=\"M334.766 1915.55 L346.976 1915.55 L346.976 1930.25 L334.766 1930.25 L334.766 1915.55 Z\" fill=\"#000000\" fill-rule=\"nonzero\" fill-opacity=\"1\" /><path clip-path=\"url(#clip770)\" d=\"M397.439 1851.54 Q388.411 1851.54 383.839 1860.45 Q379.326 1869.31 379.326 1887.13 Q379.326 1904.9 383.839 1913.81 Q388.411 1922.66 397.439 1922.66 Q406.524 1922.66 411.038 1913.81 Q415.61 1904.9 415.61 1887.13 Q415.61 1869.31 411.038 1860.45 Q406.524 1851.54 397.439 1851.54 M397.439 1842.28 Q411.964 1842.28 419.603 1853.8 Q427.3 1865.26 427.3 1887.13 Q427.3 1908.95 419.603 1920.47 Q411.964 1931.92 397.439 1931.92 Q382.913 1931.92 375.217 1920.47 Q367.578 1908.95 367.578 1887.13 Q367.578 1865.26 375.217 1853.8 Q382.913 1842.28 397.439 1842.28 Z\" fill=\"#000000\" fill-rule=\"nonzero\" fill-opacity=\"1\" /><path clip-path=\"url(#clip770)\" d=\"M162.429 1439.57 L236.618 1439.57 L236.618 1449.4 L162.429 1449.4 L162.429 1439.57 Z\" fill=\"#000000\" fill-rule=\"nonzero\" fill-opacity=\"1\" /><path clip-path=\"url(#clip770)\" d=\"M297.266 1435.05 Q305.657 1436.85 310.344 1442.52 Q315.09 1448.19 315.09 1456.52 Q315.09 1469.31 306.294 1476.31 Q297.497 1483.32 281.294 1483.32 Q275.854 1483.32 270.067 1482.22 Q264.338 1481.17 258.204 1479.03 L258.204 1467.75 Q263.065 1470.58 268.852 1472.03 Q274.639 1473.48 280.946 1473.48 Q291.942 1473.48 297.671 1469.14 Q303.458 1464.8 303.458 1456.52 Q303.458 1448.88 298.076 1444.6 Q292.752 1440.26 283.203 1440.26 L273.134 1440.26 L273.134 1430.65 L283.666 1430.65 Q292.289 1430.65 296.861 1427.24 Q301.432 1423.77 301.432 1417.29 Q301.432 1410.63 296.687 1407.1 Q292 1403.51 283.203 1403.51 Q278.4 1403.51 272.903 1404.55 Q267.405 1405.6 260.808 1407.8 L260.808 1397.38 Q267.463 1395.53 273.25 1394.6 Q279.095 1393.67 284.245 1393.67 Q297.555 1393.67 305.31 1399.75 Q313.064 1405.77 313.064 1416.07 Q313.064 1423.25 308.956 1428.22 Q304.847 1433.14 297.266 1435.05 Z\" fill=\"#000000\" fill-rule=\"nonzero\" fill-opacity=\"1\" /><path clip-path=\"url(#clip770)\" d=\"M337.254 1466.94 L349.465 1466.94 L349.465 1481.64 L337.254 1481.64 L337.254 1466.94 Z\" fill=\"#000000\" fill-rule=\"nonzero\" fill-opacity=\"1\" /><path clip-path=\"url(#clip770)\" d=\"M375.043 1395.24 L420.934 1395.24 L420.934 1405.08 L385.749 1405.08 L385.749 1426.26 Q388.295 1425.39 390.842 1424.98 Q393.388 1424.52 395.934 1424.52 Q410.402 1424.52 418.851 1432.45 Q427.3 1440.38 427.3 1453.92 Q427.3 1467.86 418.619 1475.62 Q409.939 1483.32 394.14 1483.32 Q388.701 1483.32 383.029 1482.39 Q377.416 1481.46 371.397 1479.61 L371.397 1467.86 Q376.606 1470.7 382.161 1472.09 Q387.717 1473.48 393.909 1473.48 Q403.92 1473.48 409.765 1468.21 Q415.61 1462.95 415.61 1453.92 Q415.61 1444.89 409.765 1439.62 Q403.92 1434.36 393.909 1434.36 Q389.221 1434.36 384.534 1435.4 Q379.904 1436.44 375.043 1438.64 L375.043 1395.24 Z\" fill=\"#000000\" fill-rule=\"nonzero\" fill-opacity=\"1\" /><path clip-path=\"url(#clip770)\" d=\"M159.94 990.958 L234.13 990.958 L234.13 1000.8 L159.94 1000.8 L159.94 990.958 Z\" fill=\"#000000\" fill-rule=\"nonzero\" fill-opacity=\"1\" /><path clip-path=\"url(#clip770)\" d=\"M294.777 986.444 Q303.169 988.238 307.856 993.909 Q312.601 999.58 312.601 1007.91 Q312.601 1020.7 303.805 1027.71 Q295.009 1034.71 278.805 1034.71 Q273.365 1034.71 267.578 1033.61 Q261.849 1032.57 255.715 1030.43 L255.715 1019.14 Q260.576 1021.98 266.363 1023.42 Q272.15 1024.87 278.458 1024.87 Q289.453 1024.87 295.182 1020.53 Q300.969 1016.19 300.969 1007.91 Q300.969 1000.27 295.588 995.992 Q290.264 991.652 280.715 991.652 L270.646 991.652 L270.646 982.046 L281.178 982.046 Q289.801 982.046 294.372 978.631 Q298.944 975.159 298.944 968.678 Q298.944 962.023 294.199 958.493 Q289.511 954.905 280.715 954.905 Q275.912 954.905 270.414 955.946 Q264.916 956.988 258.319 959.187 L258.319 948.77 Q264.974 946.919 270.761 945.993 Q276.606 945.067 281.757 945.067 Q295.067 945.067 302.821 951.143 Q310.576 957.162 310.576 967.462 Q310.576 974.638 306.467 979.615 Q302.358 984.534 294.777 986.444 Z\" fill=\"#000000\" fill-rule=\"nonzero\" fill-opacity=\"1\" /><path clip-path=\"url(#clip770)\" d=\"M334.766 1018.33 L346.976 1018.33 L346.976 1033.03 L334.766 1033.03 L334.766 1018.33 Z\" fill=\"#000000\" fill-rule=\"nonzero\" fill-opacity=\"1\" /><path clip-path=\"url(#clip770)\" d=\"M397.439 954.326 Q388.411 954.326 383.839 963.238 Q379.326 972.092 379.326 989.916 Q379.326 1007.68 383.839 1016.59 Q388.411 1025.45 397.439 1025.45 Q406.524 1025.45 411.038 1016.59 Q415.61 1007.68 415.61 989.916 Q415.61 972.092 411.038 963.238 Q406.524 954.326 397.439 954.326 M397.439 945.067 Q411.964 945.067 419.603 956.583 Q427.3 968.041 427.3 989.916 Q427.3 1011.73 419.603 1023.25 Q411.964 1034.71 397.439 1034.71 Q382.913 1034.71 375.217 1023.25 Q367.578 1011.73 367.578 989.916 Q367.578 968.041 375.217 956.583 Q382.913 945.067 397.439 945.067 Z\" fill=\"#000000\" fill-rule=\"nonzero\" fill-opacity=\"1\" /><path clip-path=\"url(#clip770)\" d=\"M162.429 542.35 L236.618 542.35 L236.618 552.188 L162.429 552.188 L162.429 542.35 Z\" fill=\"#000000\" fill-rule=\"nonzero\" fill-opacity=\"1\" /><path clip-path=\"url(#clip770)\" d=\"M271.919 574.583 L312.717 574.583 L312.717 584.421 L257.856 584.421 L257.856 574.583 Q264.511 567.697 275.97 556.123 Q287.486 544.491 290.437 541.135 Q296.051 534.827 298.25 530.486 Q300.507 526.088 300.507 521.864 Q300.507 514.977 295.645 510.637 Q290.842 506.297 283.088 506.297 Q277.59 506.297 271.456 508.206 Q265.379 510.116 258.435 513.993 L258.435 502.188 Q265.495 499.352 271.629 497.906 Q277.764 496.459 282.856 496.459 Q296.282 496.459 304.268 503.172 Q312.254 509.885 312.254 521.111 Q312.254 526.436 310.229 531.239 Q308.261 535.984 302.995 542.466 Q301.548 544.144 293.794 552.188 Q286.039 560.174 271.919 574.583 Z\" fill=\"#000000\" fill-rule=\"nonzero\" fill-opacity=\"1\" /><path clip-path=\"url(#clip770)\" d=\"M337.254 569.722 L349.465 569.722 L349.465 584.421 L337.254 584.421 L337.254 569.722 Z\" fill=\"#000000\" fill-rule=\"nonzero\" fill-opacity=\"1\" /><path clip-path=\"url(#clip770)\" d=\"M375.043 498.021 L420.934 498.021 L420.934 507.859 L385.749 507.859 L385.749 529.04 Q388.295 528.172 390.842 527.767 Q393.388 527.304 395.934 527.304 Q410.402 527.304 418.851 535.232 Q427.3 543.16 427.3 556.702 Q427.3 570.648 418.619 578.403 Q409.939 586.1 394.14 586.1 Q388.701 586.1 383.029 585.174 Q377.416 584.248 371.397 582.396 L371.397 570.648 Q376.606 573.484 382.161 574.873 Q387.717 576.262 393.909 576.262 Q403.92 576.262 409.765 570.995 Q415.61 565.729 415.61 556.702 Q415.61 547.674 409.765 542.408 Q403.92 537.141 393.909 537.141 Q389.221 537.141 384.534 538.183 Q379.904 539.225 375.043 541.424 L375.043 498.021 Z\" fill=\"#000000\" fill-rule=\"nonzero\" fill-opacity=\"1\" /><path clip-path=\"url(#clip770)\" d=\"M159.94 93.7418 L234.13 93.7418 L234.13 103.58 L159.94 103.58 L159.94 93.7418 Z\" fill=\"#000000\" fill-rule=\"nonzero\" fill-opacity=\"1\" /><path clip-path=\"url(#clip770)\" d=\"M269.43 125.975 L310.229 125.975 L310.229 135.813 L255.368 135.813 L255.368 125.975 Q262.023 119.089 273.481 107.515 Q284.997 95.883 287.949 92.5266 Q293.562 86.2187 295.761 81.8785 Q298.018 77.4803 298.018 73.2558 Q298.018 66.3693 293.157 62.029 Q288.354 57.6888 280.599 57.6888 Q275.102 57.6888 268.967 59.5985 Q262.891 61.5082 255.947 65.3855 L255.947 53.58 Q263.007 50.7444 269.141 49.2976 Q275.275 47.8509 280.368 47.8509 Q293.794 47.8509 301.78 54.5638 Q309.766 61.2767 309.766 72.5035 Q309.766 77.8276 307.74 82.6308 Q305.773 87.3761 300.507 93.8576 Q299.06 95.5358 291.305 103.58 Q283.551 111.566 269.43 125.975 Z\" fill=\"#000000\" fill-rule=\"nonzero\" fill-opacity=\"1\" /><path clip-path=\"url(#clip770)\" d=\"M334.766 121.114 L346.976 121.114 L346.976 135.813 L334.766 135.813 L334.766 121.114 Z\" fill=\"#000000\" fill-rule=\"nonzero\" fill-opacity=\"1\" /><path clip-path=\"url(#clip770)\" d=\"M397.439 57.1101 Q388.411 57.1101 383.839 66.0221 Q379.326 74.8762 379.326 92.7002 Q379.326 110.466 383.839 119.378 Q388.411 128.232 397.439 128.232 Q406.524 128.232 411.038 119.378 Q415.61 110.466 415.61 92.7002 Q415.61 74.8762 411.038 66.0221 Q406.524 57.1101 397.439 57.1101 M397.439 47.8509 Q411.964 47.8509 419.603 59.367 Q427.3 70.8253 427.3 92.7002 Q427.3 114.517 419.603 126.033 Q411.964 137.492 397.439 137.492 Q382.913 137.492 375.217 126.033 Q367.578 114.517 367.578 92.7002 Q367.578 70.8253 375.217 59.367 Q382.913 47.8509 397.439 47.8509 Z\" fill=\"#000000\" fill-rule=\"nonzero\" fill-opacity=\"1\" /><path clip-path=\"url(#clip770)\" d=\"M48.8676 1155.26 L-3.90992 1138.94 L-3.90992 1129.1 L48.8676 1145.42 L101.645 1129.1 L101.645 1138.94 L48.8676 1155.26 Z\" fill=\"#000000\" fill-rule=\"nonzero\" fill-opacity=\"1\" /><path clip-path=\"url(#clip770)\" d=\"M-0.379843 1107.98 L-0.379843 1096.29 L35.0366 1096.29 L35.0366 1053.81 L-0.379843 1053.81 L-0.379843 1042.12 L86.0202 1042.12 L86.0202 1053.81 L44.8745 1053.81 L44.8745 1096.29 L86.0202 1096.29 L86.0202 1107.98 L-0.379843 1107.98 Z\" fill=\"#000000\" fill-rule=\"nonzero\" fill-opacity=\"1\" /><path clip-path=\"url(#clip770)\" d=\"M48.8676 994.844 L101.645 1011.16 L101.645 1021 L48.8676 1004.68 L-3.90992 1021 L-3.90992 1011.16 L48.8676 994.844 Z\" fill=\"#000000\" fill-rule=\"nonzero\" fill-opacity=\"1\" /><polyline clip-path=\"url(#clip772)\" style=\"stroke:#009af9; stroke-linecap:round; stroke-linejoin:round; stroke-width:4; stroke-opacity:1; fill:none\" points=\"551.077,119.091 557.831,1438.28 564.584,1271.17 571.338,1419.51 578.092,1435.42 584.846,1941.71 591.599,1628.91 598.353,1718.21 605.107,1837.5 611.861,1708.62 618.614,1852.3 625.368,1860.34 632.122,1868.67 638.876,1877.18 645.629,1861.53 652.383,1961.11 659.137,1882.31 665.891,1892.28 672.644,1968.94 679.398,1986.48 686.152,1960.05 692.906,2000.05 699.659,1974.4 706.413,1993.67 713.167,1959.52 719.921,1948.84 726.674,1974.22 733.428,1971.11 740.182,1978.94 746.936,1985.03 753.689,1986.11 760.443,1983.96 767.197,1985.2 773.951,1988.53 780.704,1991.05 787.458,1982.99 794.212,1987.21 800.966,1989.19 807.719,1991.75 814.473,1990.97 821.227,1992.72 827.981,1989.85 834.734,1992.53 841.488,1992.55 848.242,1991.64 854.996,1990.92 861.749,1992.57 868.503,1992.57 875.257,1990.82 882.011,1992.04 888.764,1992.08 895.518,1992.12 902.272,1992.9 909.026,1999.22 915.779,2003.68 922.533,1993.38 929.287,1993.29 936.041,1985.48 942.794,1997.22 949.548,1993.18 956.302,1993.12 963.056,1987.02 969.809,1998.91 976.563,1990.34 983.317,1990.54 990.071,1992.96 996.824,1994.99 1003.58,1989.17 1010.33,1993.32 1017.09,1990.09 1023.84,1990.31 1030.59,1995.81 1037.35,1990.71 1044.1,1990.89 1050.85,1995.1 1057.61,1993.06 1064.36,1996.42 1071.12,1994.57 1077.87,1995.85 1084.62,1993 1091.38,1991.81 1098.13,1991.9 1104.88,1991.99 1111.64,1992.98 1118.39,1992.14 1125.15,1992.21 1131.9,1991.56 1138.65,1997.4 1145.41,1996.97 1152.16,1999.87 1158.91,1990.26 1165.67,1993.21 1172.42,1993.17 1179.18,1990.86 1185.93,1993.11 1192.68,1991.18 1199.44,1989.58 1206.19,1993.37 1212.94,1990.53 1219.7,1990.73 1226.45,1993.25 1233.21,1991.09 1239.96,1999.04 1246.71,1989.61 1253.47,1993.69 1260.22,1993.61 1266.97,1993.55 1273.73,1990.57 1280.48,1993.45 1287.24,1993.41 1293.99,1993.38 1300.74,1993.36 1307.5,1991.47 1314.25,1993.32 1321,1990.18 1327.76,1994.08 1334.51,1993.97 1341.27,1990.12 1348.02,1997.24 1354.77,1990.61 1361.53,1987.97 1368.28,1998.45 1375.03,1993.63 1381.79,1993.52 1388.54,1993.42 1395.3,1996.74 1402.05,1993.26 1408.8,1987.42 1415.56,1993.15 1422.31,1988.19 1429.06,1997.59 1435.82,1993.53 1442.57,1992.62 1449.33,1992.24 1456.08,1984.76 1462.83,2017.58 1469.59,2000.03 1476.34,1998.97 1483.09,2009.84 1489.85,1997.41 1496.6,1987.29 1503.36,2013.62 1510.11,1995.98 1516.86,1981.49 1523.62,1988.89 1530.37,1983.36 1537.12,1994.81 1543.88,1999.07 1550.63,1998.58 1557.39,1987.22 1564.14,1989.38 1570.89,1995.11 1577.65,2004.74 1584.4,1999.29 1591.15,1998.79 1597.91,1994.64 1604.66,1997.95 1611.42,1997.59 1618.17,1994.46 1624.92,1991.85 1631.68,1996.73 1638.43,1996.5 1645.18,1992.37 1651.94,2005.1 1658.69,1994.3 1665.45,1992.78 1672.2,1992.89 1678.95,1993 1685.71,1995.41 1692.46,1995.31 1699.21,1994.24 1705.97,1994.24 1712.72,1993.42 1719.48,1994.23 1726.23,1993.55 1732.98,1993.6 1739.74,1994.8 1746.49,1994.75 1753.24,1994.22 1760,1994.22 1766.75,1994.63 1773.51,1994.22 1780.26,1994.9 1787.01,1993.59 1793.77,1994.31 1800.52,1994.31 1807.27,1992.2 1814.03,1994.44 1820.78,1994.23 1827.54,1994.04 1834.29,1994.06 1841.04,1994.23 1847.8,1994.08 1854.55,1993.97 1861.3,105.422 1868.06,1992.63 1874.81,1993.08 1881.57,1993.48 1888.32,1996.46 1895.07,1994.16 1901.83,1998.99 1908.58,1994.71 1915.33,1994.94 1922.09,1995.15 1928.84,1995.34 1935.6,1997.06 1942.35,2001.39 1949.1,1997.13 1955.86,1994.72 1962.61,2044.68 1969.36,2005.56 1976.12,1985.81 1982.87,1992.25 1989.63,2003.68 1996.38,2003.05 2003.13,1993.3 2009.89,1993.61 2016.64,2005.35 2023.39,1997.65 2030.15,1997.59 2036.9,2003.36 2043.66,1997.5 2050.41,1995.04 2057.16,1993 2063.92,2013.69 2070.67,1998.67 2077.42,2010.59 2084.18,1987.2 2090.93,2002.35 2097.69,2001.85 2104.44,2001.41 2111.19,1994.3 2117.95,1997.61 2124.7,1994.76 2131.45,1997.52 2138.21,1997.49 2144.96,1995.32 2151.72,1995.48 2158.47,1997.42 2165.22,1999.04 2171.98,1994.39 2178.73,2013.93 2185.48,2001.41 2192.24,2004.37 2198.99,1994.55 2205.75,1997.56 2212.5,2002.63 2219.25,1995.15 2226.01,1995.33 2232.76,1997.44 2239.51,1997.42 2246.27,2000.67 2253.02,1998.89 2259.78,1998.75 2266.53,1997.37 2273.28,1995.07 2280.04,1991.88 2286.79,2012.05 2293.54,1991.87 2300.3,2009.47 2307.05,1959.5 2313.81,1969.54 2320.56,2013.48 2327.31,1986.72 2334.07,1998.66 2340.82,1998.46 2347.57,1988.64 2354.33,1998.15 2361.08,1993.9 2367.84,2001.72 2374.59,1980.28 2381.34,2000.99 2388.1,1997.68 2394.85,2000.38 2401.6,1997.58 2408.36,1990.53 2415.11,1997.5 2421.87,1997.47 2428.62,1999.27 2435.37,1997.43 2442.13,1995.87 2448.88,1997.39 2455.63,1997.38 2462.39,1998.57 2469.14,1998.46 2475.9,1997.35 2482.65,1997.34 2489.4,1997.34 2496.16,1996.55 2502.91,1996.6 2509.66,1997.32 2516.42,1997.93 2523.17,1996.2 2529.93,1998.34 2536.68,1995.23 2543.43,2001.47 2550.19,1997.4 2556.94,1999.08 2563.69,1998.92 2570.45,1997.36 2577.2,1994.74 2583.96,2001.65 2590.71,1994.15 2597.46,2000.85 2604.22,1994.62 2610.97,1997.52 2617.72,1999.95 2624.48,1992.96 2631.23,1992.23 2637.99,1988.52 2644.74,1998.2 2651.49,1993.14 2658.25,2011.35 2665,2001.9 2671.75,2005.17 2678.51,1994.27 2685.26,1994.51 2692.02,1997.56 2698.77,2002.68 2705.52,1997.48 2712.28,2001.77 2719.03,1997.43 2725.78,1995.6 2732.54,1994.09 2739.29,1992.21 2746.05,1992.58 2752.8,1998.17 2759.55,2007.57 2766.31,2006.6 2773.06,1997.81 2779.81,1997.73 2786.57,2000.96 2793.32,1994.59 2800.08,2000.3 2806.83,1992.49 2813.58,1997.56 2820.34,2000.03 2827.09,2002.08 2833.84,1993.26 2840.6,1987.69 2847.35,1998.98 2854.11,1985.33 2860.86,2011.45 2867.61,1992.54 2874.37,1998.2 2881.12,2002.89 2887.87,1997.93 2894.63,1989.81 2901.38,1991.39 2908.14,1991.8 2914.89,1985.8 2921.64,1988.8 2928.4,1989.24 2935.15,1978.26 2941.9,1976 2948.66,1973.89 2955.41,1989.11 2962.17,2001.36 2968.92,2000.65 2975.67,2000.07 2982.43,1999.6 2989.18,1983.51 2995.93,2000.09 3002.69,1982.23 3009.44,1996.95 3016.2,1996.6 3022.95,1987.81 3029.7,1988.1 3036.46,2004.05 3043.21,1988.88 3049.96,2014.41 3056.72,1978.49 3063.47,1989.22 3070.23,1989.68 3076.98,1990.14 \"/>\n",
       "<path clip-path=\"url(#clip770)\" d=\"M2743.33 219.445 L3063.51 219.445 L3063.51 115.765 L2743.33 115.765  Z\" fill=\"#ffffff\" fill-rule=\"evenodd\" fill-opacity=\"1\"/>\n",
       "<polyline clip-path=\"url(#clip770)\" style=\"stroke:#000000; stroke-linecap:round; stroke-linejoin:round; stroke-width:4; stroke-opacity:1; fill:none\" points=\"2743.33,219.445 3063.51,219.445 3063.51,115.765 2743.33,115.765 2743.33,219.445 \"/>\n",
       "<polyline clip-path=\"url(#clip770)\" style=\"stroke:#009af9; stroke-linecap:round; stroke-linejoin:round; stroke-width:4; stroke-opacity:1; fill:none\" points=\"2773.08,167.605 2951.58,167.605 \"/>\n",
       "<path clip-path=\"url(#clip770)\" d=\"M2995.17 187.292 Q2993.36 191.922 2991.65 193.334 Q2989.94 194.746 2987.07 194.746 L2983.67 194.746 L2983.67 191.181 L2986.17 191.181 Q2987.92 191.181 2988.9 190.348 Q2989.87 189.514 2991.05 186.412 L2991.81 184.468 L2981.33 158.959 L2985.84 158.959 L2993.94 179.237 L3002.05 158.959 L3006.56 158.959 L2995.17 187.292 Z\" fill=\"#000000\" fill-rule=\"nonzero\" fill-opacity=\"1\" /><path clip-path=\"url(#clip770)\" d=\"M3013.85 180.949 L3021.49 180.949 L3021.49 154.584 L3013.18 156.251 L3013.18 151.991 L3021.44 150.325 L3026.12 150.325 L3026.12 180.949 L3033.76 180.949 L3033.76 184.885 L3013.85 184.885 L3013.85 180.949 Z\" fill=\"#000000\" fill-rule=\"nonzero\" fill-opacity=\"1\" /></svg>\n"
      ],
      "text/html": [
       "<?xml version=\"1.0\" encoding=\"utf-8\"?>\n",
       "<svg xmlns=\"http://www.w3.org/2000/svg\" xmlns:xlink=\"http://www.w3.org/1999/xlink\" width=\"800\" height=\"600\" viewBox=\"0 0 3200 2400\">\n",
       "<defs>\n",
       "  <clipPath id=\"clip820\">\n",
       "    <rect x=\"0\" y=\"0\" width=\"3200\" height=\"2400\"/>\n",
       "  </clipPath>\n",
       "</defs>\n",
       "<path clip-path=\"url(#clip820)\" d=\"M0 2400 L3200 2400 L3200 0 L0 0  Z\" fill=\"#ffffff\" fill-rule=\"evenodd\" fill-opacity=\"1\"/>\n",
       "<defs>\n",
       "  <clipPath id=\"clip821\">\n",
       "    <rect x=\"640\" y=\"0\" width=\"2241\" height=\"2241\"/>\n",
       "  </clipPath>\n",
       "</defs>\n",
       "<path clip-path=\"url(#clip820)\" d=\"M475.3 2102.86 L3152.76 2102.86 L3152.76 47.2441 L475.3 47.2441  Z\" fill=\"#ffffff\" fill-rule=\"evenodd\" fill-opacity=\"1\"/>\n",
       "<defs>\n",
       "  <clipPath id=\"clip822\">\n",
       "    <rect x=\"475\" y=\"47\" width=\"2678\" height=\"2057\"/>\n",
       "  </clipPath>\n",
       "</defs>\n",
       "<polyline clip-path=\"url(#clip822)\" style=\"stroke:#000000; stroke-linecap:round; stroke-linejoin:round; stroke-width:2; stroke-opacity:0.1; fill:none\" points=\"544.323,2102.86 544.323,47.2441 \"/>\n",
       "<polyline clip-path=\"url(#clip822)\" style=\"stroke:#000000; stroke-linecap:round; stroke-linejoin:round; stroke-width:2; stroke-opacity:0.1; fill:none\" points=\"1219.7,2102.86 1219.7,47.2441 \"/>\n",
       "<polyline clip-path=\"url(#clip822)\" style=\"stroke:#000000; stroke-linecap:round; stroke-linejoin:round; stroke-width:2; stroke-opacity:0.1; fill:none\" points=\"1895.07,2102.86 1895.07,47.2441 \"/>\n",
       "<polyline clip-path=\"url(#clip822)\" style=\"stroke:#000000; stroke-linecap:round; stroke-linejoin:round; stroke-width:2; stroke-opacity:0.1; fill:none\" points=\"2570.45,2102.86 2570.45,47.2441 \"/>\n",
       "<polyline clip-path=\"url(#clip820)\" style=\"stroke:#000000; stroke-linecap:round; stroke-linejoin:round; stroke-width:4; stroke-opacity:1; fill:none\" points=\"475.3,2102.86 3152.76,2102.86 \"/>\n",
       "<polyline clip-path=\"url(#clip820)\" style=\"stroke:#000000; stroke-linecap:round; stroke-linejoin:round; stroke-width:4; stroke-opacity:1; fill:none\" points=\"544.323,2102.86 544.323,2083.96 \"/>\n",
       "<polyline clip-path=\"url(#clip820)\" style=\"stroke:#000000; stroke-linecap:round; stroke-linejoin:round; stroke-width:4; stroke-opacity:1; fill:none\" points=\"1219.7,2102.86 1219.7,2083.96 \"/>\n",
       "<polyline clip-path=\"url(#clip820)\" style=\"stroke:#000000; stroke-linecap:round; stroke-linejoin:round; stroke-width:4; stroke-opacity:1; fill:none\" points=\"1895.07,2102.86 1895.07,2083.96 \"/>\n",
       "<polyline clip-path=\"url(#clip820)\" style=\"stroke:#000000; stroke-linecap:round; stroke-linejoin:round; stroke-width:4; stroke-opacity:1; fill:none\" points=\"2570.45,2102.86 2570.45,2083.96 \"/>\n",
       "<path clip-path=\"url(#clip820)\" d=\"M544.323 2157.76 Q535.295 2157.76 530.724 2166.67 Q526.21 2175.52 526.21 2193.35 Q526.21 2211.11 530.724 2220.02 Q535.295 2228.88 544.323 2228.88 Q553.409 2228.88 557.923 2220.02 Q562.494 2211.11 562.494 2193.35 Q562.494 2175.52 557.923 2166.67 Q553.409 2157.76 544.323 2157.76 M544.323 2148.5 Q558.849 2148.5 566.487 2160.01 Q574.184 2171.47 574.184 2193.35 Q574.184 2215.16 566.487 2226.68 Q558.849 2238.14 544.323 2238.14 Q529.798 2238.14 522.101 2226.68 Q514.462 2215.16 514.462 2193.35 Q514.462 2171.47 522.101 2160.01 Q529.798 2148.5 544.323 2148.5 Z\" fill=\"#000000\" fill-rule=\"nonzero\" fill-opacity=\"1\" /><path clip-path=\"url(#clip820)\" d=\"M1118.71 2226.62 L1137.81 2226.62 L1137.81 2160.71 L1117.04 2164.87 L1117.04 2154.23 L1137.7 2150.06 L1149.39 2150.06 L1149.39 2226.62 L1168.48 2226.62 L1168.48 2236.46 L1118.71 2236.46 L1118.71 2226.62 Z\" fill=\"#000000\" fill-rule=\"nonzero\" fill-opacity=\"1\" /><path clip-path=\"url(#clip820)\" d=\"M1217.09 2157.76 Q1208.07 2157.76 1203.49 2166.67 Q1198.98 2175.52 1198.98 2193.35 Q1198.98 2211.11 1203.49 2220.02 Q1208.07 2228.88 1217.09 2228.88 Q1226.18 2228.88 1230.69 2220.02 Q1235.27 2211.11 1235.27 2193.35 Q1235.27 2175.52 1230.69 2166.67 Q1226.18 2157.76 1217.09 2157.76 M1217.09 2148.5 Q1231.62 2148.5 1239.26 2160.01 Q1246.95 2171.47 1246.95 2193.35 Q1246.95 2215.16 1239.26 2226.68 Q1231.62 2238.14 1217.09 2238.14 Q1202.57 2238.14 1194.87 2226.68 Q1187.23 2215.16 1187.23 2193.35 Q1187.23 2171.47 1194.87 2160.01 Q1202.57 2148.5 1217.09 2148.5 Z\" fill=\"#000000\" fill-rule=\"nonzero\" fill-opacity=\"1\" /><path clip-path=\"url(#clip820)\" d=\"M1292.5 2157.76 Q1283.47 2157.76 1278.9 2166.67 Q1274.39 2175.52 1274.39 2193.35 Q1274.39 2211.11 1278.9 2220.02 Q1283.47 2228.88 1292.5 2228.88 Q1301.58 2228.88 1306.1 2220.02 Q1310.67 2211.11 1310.67 2193.35 Q1310.67 2175.52 1306.1 2166.67 Q1301.58 2157.76 1292.5 2157.76 M1292.5 2148.5 Q1307.02 2148.5 1314.66 2160.01 Q1322.36 2171.47 1322.36 2193.35 Q1322.36 2215.16 1314.66 2226.68 Q1307.02 2238.14 1292.5 2238.14 Q1277.97 2238.14 1270.28 2226.68 Q1262.64 2215.16 1262.64 2193.35 Q1262.64 2171.47 1270.28 2160.01 Q1277.97 2148.5 1292.5 2148.5 Z\" fill=\"#000000\" fill-rule=\"nonzero\" fill-opacity=\"1\" /><path clip-path=\"url(#clip820)\" d=\"M1804.3 2226.62 L1845.1 2226.62 L1845.1 2236.46 L1790.24 2236.46 L1790.24 2226.62 Q1796.9 2219.74 1808.35 2208.16 Q1819.87 2196.53 1822.82 2193.17 Q1828.44 2186.87 1830.63 2182.52 Q1832.89 2178.13 1832.89 2173.9 Q1832.89 2167.02 1828.03 2162.68 Q1823.23 2158.34 1815.47 2158.34 Q1809.97 2158.34 1803.84 2160.24 Q1797.76 2162.15 1790.82 2166.03 L1790.82 2154.23 Q1797.88 2151.39 1804.01 2149.94 Q1810.15 2148.5 1815.24 2148.5 Q1828.67 2148.5 1836.65 2155.21 Q1844.64 2161.92 1844.64 2173.15 Q1844.64 2178.47 1842.61 2183.28 Q1840.65 2188.02 1835.38 2194.5 Q1833.93 2196.18 1826.18 2204.23 Q1818.42 2212.21 1804.3 2226.62 Z\" fill=\"#000000\" fill-rule=\"nonzero\" fill-opacity=\"1\" /><path clip-path=\"url(#clip820)\" d=\"M1894.64 2157.76 Q1885.61 2157.76 1881.04 2166.67 Q1876.53 2175.52 1876.53 2193.35 Q1876.53 2211.11 1881.04 2220.02 Q1885.61 2228.88 1894.64 2228.88 Q1903.72 2228.88 1908.24 2220.02 Q1912.81 2211.11 1912.81 2193.35 Q1912.81 2175.52 1908.24 2166.67 Q1903.72 2157.76 1894.64 2157.76 M1894.64 2148.5 Q1909.16 2148.5 1916.8 2160.01 Q1924.5 2171.47 1924.5 2193.35 Q1924.5 2215.16 1916.8 2226.68 Q1909.16 2238.14 1894.64 2238.14 Q1880.11 2238.14 1872.42 2226.68 Q1864.78 2215.16 1864.78 2193.35 Q1864.78 2171.47 1872.42 2160.01 Q1880.11 2148.5 1894.64 2148.5 Z\" fill=\"#000000\" fill-rule=\"nonzero\" fill-opacity=\"1\" /><path clip-path=\"url(#clip820)\" d=\"M1970.04 2157.76 Q1961.02 2157.76 1956.44 2166.67 Q1951.93 2175.52 1951.93 2193.35 Q1951.93 2211.11 1956.44 2220.02 Q1961.02 2228.88 1970.04 2228.88 Q1979.13 2228.88 1983.64 2220.02 Q1988.21 2211.11 1988.21 2193.35 Q1988.21 2175.52 1983.64 2166.67 Q1979.13 2157.76 1970.04 2157.76 M1970.04 2148.5 Q1984.57 2148.5 1992.21 2160.01 Q1999.9 2171.47 1999.9 2193.35 Q1999.9 2215.16 1992.21 2226.68 Q1984.57 2238.14 1970.04 2238.14 Q1955.52 2238.14 1947.82 2226.68 Q1940.18 2215.16 1940.18 2193.35 Q1940.18 2171.47 1947.82 2160.01 Q1955.52 2148.5 1970.04 2148.5 Z\" fill=\"#000000\" fill-rule=\"nonzero\" fill-opacity=\"1\" /><path clip-path=\"url(#clip820)\" d=\"M2504.85 2189.87 Q2513.24 2191.67 2517.93 2197.34 Q2522.68 2203.01 2522.68 2211.34 Q2522.68 2224.13 2513.88 2231.14 Q2505.08 2238.14 2488.88 2238.14 Q2483.44 2238.14 2477.65 2237.04 Q2471.92 2236 2465.79 2233.86 L2465.79 2222.57 Q2470.65 2225.41 2476.44 2226.85 Q2482.22 2228.3 2488.53 2228.3 Q2499.53 2228.3 2505.26 2223.96 Q2511.04 2219.62 2511.04 2211.34 Q2511.04 2203.71 2505.66 2199.42 Q2500.34 2195.08 2490.79 2195.08 L2480.72 2195.08 L2480.72 2185.48 L2491.25 2185.48 Q2499.88 2185.48 2504.45 2182.06 Q2509.02 2178.59 2509.02 2172.11 Q2509.02 2165.45 2504.27 2161.92 Q2499.59 2158.34 2490.79 2158.34 Q2485.99 2158.34 2480.49 2159.38 Q2474.99 2160.42 2468.39 2162.62 L2468.39 2152.2 Q2475.05 2150.35 2480.84 2149.42 Q2486.68 2148.5 2491.83 2148.5 Q2505.14 2148.5 2512.9 2154.57 Q2520.65 2160.59 2520.65 2170.89 Q2520.65 2178.07 2516.54 2183.05 Q2512.43 2187.96 2504.85 2189.87 Z\" fill=\"#000000\" fill-rule=\"nonzero\" fill-opacity=\"1\" /><path clip-path=\"url(#clip820)\" d=\"M2569.84 2157.76 Q2560.81 2157.76 2556.24 2166.67 Q2551.73 2175.52 2551.73 2193.35 Q2551.73 2211.11 2556.24 2220.02 Q2560.81 2228.88 2569.84 2228.88 Q2578.93 2228.88 2583.44 2220.02 Q2588.01 2211.11 2588.01 2193.35 Q2588.01 2175.52 2583.44 2166.67 Q2578.93 2157.76 2569.84 2157.76 M2569.84 2148.5 Q2584.37 2148.5 2592 2160.01 Q2599.7 2171.47 2599.7 2193.35 Q2599.7 2215.16 2592 2226.68 Q2584.37 2238.14 2569.84 2238.14 Q2555.31 2238.14 2547.62 2226.68 Q2539.98 2215.16 2539.98 2193.35 Q2539.98 2171.47 2547.62 2160.01 Q2555.31 2148.5 2569.84 2148.5 Z\" fill=\"#000000\" fill-rule=\"nonzero\" fill-opacity=\"1\" /><path clip-path=\"url(#clip820)\" d=\"M2645.24 2157.76 Q2636.22 2157.76 2631.65 2166.67 Q2627.13 2175.52 2627.13 2193.35 Q2627.13 2211.11 2631.65 2220.02 Q2636.22 2228.88 2645.24 2228.88 Q2654.33 2228.88 2658.84 2220.02 Q2663.42 2211.11 2663.42 2193.35 Q2663.42 2175.52 2658.84 2166.67 Q2654.33 2157.76 2645.24 2157.76 M2645.24 2148.5 Q2659.77 2148.5 2667.41 2160.01 Q2675.11 2171.47 2675.11 2193.35 Q2675.11 2215.16 2667.41 2226.68 Q2659.77 2238.14 2645.24 2238.14 Q2630.72 2238.14 2623.02 2226.68 Q2615.38 2215.16 2615.38 2193.35 Q2615.38 2171.47 2623.02 2160.01 Q2630.72 2148.5 2645.24 2148.5 Z\" fill=\"#000000\" fill-rule=\"nonzero\" fill-opacity=\"1\" /><path clip-path=\"url(#clip820)\" d=\"M1298.43 2297.74 L1310.12 2297.74 L1310.12 2374.3 L1352.2 2374.3 L1352.2 2384.14 L1298.43 2384.14 L1298.43 2297.74 Z\" fill=\"#000000\" fill-rule=\"nonzero\" fill-opacity=\"1\" /><path clip-path=\"url(#clip820)\" d=\"M1417.36 2349.07 L1417.36 2354.28 L1368.4 2354.28 Q1369.09 2365.27 1375 2371.06 Q1380.96 2376.79 1391.55 2376.79 Q1397.68 2376.79 1403.41 2375.29 Q1409.2 2373.78 1414.87 2370.77 L1414.87 2380.84 Q1409.14 2383.27 1403.12 2384.54 Q1397.1 2385.82 1390.91 2385.82 Q1375.4 2385.82 1366.32 2376.79 Q1357.29 2367.76 1357.29 2352.37 Q1357.29 2336.45 1365.85 2327.14 Q1374.48 2317.76 1389.06 2317.76 Q1402.14 2317.76 1409.72 2326.21 Q1417.36 2334.6 1417.36 2349.07 M1406.71 2345.95 Q1406.59 2337.21 1401.79 2332 Q1397.05 2326.79 1389.17 2326.79 Q1380.26 2326.79 1374.88 2331.83 Q1369.56 2336.86 1368.75 2346 L1406.71 2345.95 Z\" fill=\"#000000\" fill-rule=\"nonzero\" fill-opacity=\"1\" /><path clip-path=\"url(#clip820)\" d=\"M1464.29 2351.56 Q1451.39 2351.56 1446.41 2354.51 Q1441.43 2357.46 1441.43 2364.58 Q1441.43 2370.25 1445.14 2373.61 Q1448.9 2376.91 1455.32 2376.91 Q1464.17 2376.91 1469.5 2370.66 Q1474.88 2364.35 1474.88 2353.93 L1474.88 2351.56 L1464.29 2351.56 M1485.53 2347.16 L1485.53 2384.14 L1474.88 2384.14 L1474.88 2374.3 Q1471.23 2380.2 1465.79 2383.04 Q1460.35 2385.82 1452.48 2385.82 Q1442.53 2385.82 1436.63 2380.26 Q1430.78 2374.65 1430.78 2365.27 Q1430.78 2354.34 1438.08 2348.78 Q1445.42 2343.23 1459.95 2343.23 L1474.88 2343.23 L1474.88 2342.18 Q1474.88 2334.83 1470.02 2330.84 Q1465.22 2326.79 1456.48 2326.79 Q1450.92 2326.79 1445.66 2328.12 Q1440.39 2329.45 1435.53 2332.11 L1435.53 2322.28 Q1441.37 2320.02 1446.87 2318.92 Q1452.37 2317.76 1457.58 2317.76 Q1471.64 2317.76 1478.58 2325.05 Q1485.53 2332.35 1485.53 2347.16 Z\" fill=\"#000000\" fill-rule=\"nonzero\" fill-opacity=\"1\" /><path clip-path=\"url(#clip820)\" d=\"M1545.02 2329.28 Q1543.22 2328.24 1541.08 2327.77 Q1539 2327.25 1536.45 2327.25 Q1527.43 2327.25 1522.57 2333.16 Q1517.76 2339 1517.76 2350 L1517.76 2384.14 L1507.06 2384.14 L1507.06 2319.33 L1517.76 2319.33 L1517.76 2329.39 Q1521.12 2323.49 1526.5 2320.66 Q1531.88 2317.76 1539.58 2317.76 Q1540.68 2317.76 1542.01 2317.94 Q1543.34 2318.05 1544.96 2318.34 L1545.02 2329.28 Z\" fill=\"#000000\" fill-rule=\"nonzero\" fill-opacity=\"1\" /><path clip-path=\"url(#clip820)\" d=\"M1607.98 2345.02 L1607.98 2384.14 L1597.33 2384.14 L1597.33 2345.37 Q1597.33 2336.17 1593.75 2331.59 Q1590.16 2327.02 1582.98 2327.02 Q1574.36 2327.02 1569.38 2332.52 Q1564.41 2338.02 1564.41 2347.51 L1564.41 2384.14 L1553.7 2384.14 L1553.7 2319.33 L1564.41 2319.33 L1564.41 2329.39 Q1568.22 2323.55 1573.38 2320.66 Q1578.58 2317.76 1585.35 2317.76 Q1596.52 2317.76 1602.25 2324.71 Q1607.98 2331.59 1607.98 2345.02 Z\" fill=\"#000000\" fill-rule=\"nonzero\" fill-opacity=\"1\" /><path clip-path=\"url(#clip820)\" d=\"M1629.22 2319.33 L1639.87 2319.33 L1639.87 2384.14 L1629.22 2384.14 L1629.22 2319.33 M1629.22 2294.09 L1639.87 2294.09 L1639.87 2307.58 L1629.22 2307.58 L1629.22 2294.09 Z\" fill=\"#000000\" fill-rule=\"nonzero\" fill-opacity=\"1\" /><path clip-path=\"url(#clip820)\" d=\"M1716.02 2345.02 L1716.02 2384.14 L1705.38 2384.14 L1705.38 2345.37 Q1705.38 2336.17 1701.79 2331.59 Q1698.2 2327.02 1691.03 2327.02 Q1682.4 2327.02 1677.43 2332.52 Q1672.45 2338.02 1672.45 2347.51 L1672.45 2384.14 L1661.74 2384.14 L1661.74 2319.33 L1672.45 2319.33 L1672.45 2329.39 Q1676.27 2323.55 1681.42 2320.66 Q1686.63 2317.76 1693.4 2317.76 Q1704.57 2317.76 1710.3 2324.71 Q1716.02 2331.59 1716.02 2345.02 Z\" fill=\"#000000\" fill-rule=\"nonzero\" fill-opacity=\"1\" /><path clip-path=\"url(#clip820)\" d=\"M1779.91 2350.98 Q1779.91 2339.41 1775.11 2333.04 Q1770.36 2326.67 1761.74 2326.67 Q1753.18 2326.67 1748.37 2333.04 Q1743.63 2339.41 1743.63 2350.98 Q1743.63 2362.5 1748.37 2368.86 Q1753.18 2375.23 1761.74 2375.23 Q1770.36 2375.23 1775.11 2368.86 Q1779.91 2362.5 1779.91 2350.98 M1790.56 2376.1 Q1790.56 2392.65 1783.21 2400.69 Q1775.86 2408.79 1760.7 2408.79 Q1755.09 2408.79 1750.11 2407.92 Q1745.13 2407.11 1740.45 2405.38 L1740.45 2395.02 Q1745.13 2397.57 1749.71 2398.78 Q1754.28 2400 1759.02 2400 Q1769.5 2400 1774.71 2394.5 Q1779.91 2389.06 1779.91 2378.01 L1779.91 2372.74 Q1776.61 2378.47 1771.46 2381.3 Q1766.31 2384.14 1759.14 2384.14 Q1747.22 2384.14 1739.93 2375.05 Q1732.63 2365.97 1732.63 2350.98 Q1732.63 2335.93 1739.93 2326.85 Q1747.22 2317.76 1759.14 2317.76 Q1766.31 2317.76 1771.46 2320.6 Q1776.61 2323.43 1779.91 2329.16 L1779.91 2319.33 L1790.56 2319.33 L1790.56 2376.1 Z\" fill=\"#000000\" fill-rule=\"nonzero\" fill-opacity=\"1\" /><path clip-path=\"url(#clip820)\" d=\"M1850.17 2319.33 L1860.82 2319.33 L1860.82 2384.14 L1850.17 2384.14 L1850.17 2319.33 M1850.17 2294.09 L1860.82 2294.09 L1860.82 2307.58 L1850.17 2307.58 L1850.17 2294.09 Z\" fill=\"#000000\" fill-rule=\"nonzero\" fill-opacity=\"1\" /><path clip-path=\"url(#clip820)\" d=\"M1893.63 2300.92 L1893.63 2319.33 L1915.56 2319.33 L1915.56 2327.6 L1893.63 2327.6 L1893.63 2362.79 Q1893.63 2370.71 1895.77 2372.97 Q1897.97 2375.23 1904.62 2375.23 L1915.56 2375.23 L1915.56 2384.14 L1904.62 2384.14 Q1892.3 2384.14 1887.61 2379.57 Q1882.92 2374.94 1882.92 2362.79 L1882.92 2327.6 L1875.11 2327.6 L1875.11 2319.33 L1882.92 2319.33 L1882.92 2300.92 L1893.63 2300.92 Z\" fill=\"#000000\" fill-rule=\"nonzero\" fill-opacity=\"1\" /><path clip-path=\"url(#clip820)\" d=\"M1985 2349.07 L1985 2354.28 L1936.05 2354.28 Q1936.74 2365.27 1942.64 2371.06 Q1948.6 2376.79 1959.19 2376.79 Q1965.33 2376.79 1971.06 2375.29 Q1976.85 2373.78 1982.52 2370.77 L1982.52 2380.84 Q1976.79 2383.27 1970.77 2384.54 Q1964.75 2385.82 1958.56 2385.82 Q1943.05 2385.82 1933.96 2376.79 Q1924.94 2367.76 1924.94 2352.37 Q1924.94 2336.45 1933.5 2327.14 Q1942.12 2317.76 1956.71 2317.76 Q1969.79 2317.76 1977.37 2326.21 Q1985 2334.6 1985 2349.07 M1974.36 2345.95 Q1974.24 2337.21 1969.44 2332 Q1964.69 2326.79 1956.82 2326.79 Q1947.91 2326.79 1942.53 2331.83 Q1937.2 2336.86 1936.39 2346 L1974.36 2345.95 Z\" fill=\"#000000\" fill-rule=\"nonzero\" fill-opacity=\"1\" /><path clip-path=\"url(#clip820)\" d=\"M2040.04 2329.28 Q2038.25 2328.24 2036.1 2327.77 Q2034.02 2327.25 2031.47 2327.25 Q2022.45 2327.25 2017.59 2333.16 Q2012.78 2339 2012.78 2350 L2012.78 2384.14 L2002.08 2384.14 L2002.08 2319.33 L2012.78 2319.33 L2012.78 2329.39 Q2016.14 2323.49 2021.52 2320.66 Q2026.9 2317.76 2034.6 2317.76 Q2035.7 2317.76 2037.03 2317.94 Q2038.36 2318.05 2039.98 2318.34 L2040.04 2329.28 Z\" fill=\"#000000\" fill-rule=\"nonzero\" fill-opacity=\"1\" /><path clip-path=\"url(#clip820)\" d=\"M2080.66 2351.56 Q2067.76 2351.56 2062.78 2354.51 Q2057.81 2357.46 2057.81 2364.58 Q2057.81 2370.25 2061.51 2373.61 Q2065.27 2376.91 2071.69 2376.91 Q2080.55 2376.91 2085.87 2370.66 Q2091.25 2364.35 2091.25 2353.93 L2091.25 2351.56 L2080.66 2351.56 M2101.9 2347.16 L2101.9 2384.14 L2091.25 2384.14 L2091.25 2374.3 Q2087.61 2380.2 2082.17 2383.04 Q2076.73 2385.82 2068.86 2385.82 Q2058.91 2385.82 2053 2380.26 Q2047.16 2374.65 2047.16 2365.27 Q2047.16 2354.34 2054.45 2348.78 Q2061.8 2343.23 2076.32 2343.23 L2091.25 2343.23 L2091.25 2342.18 Q2091.25 2334.83 2086.39 2330.84 Q2081.59 2326.79 2072.85 2326.79 Q2067.3 2326.79 2062.03 2328.12 Q2056.76 2329.45 2051.9 2332.11 L2051.9 2322.28 Q2057.75 2320.02 2063.25 2318.92 Q2068.74 2317.76 2073.95 2317.76 Q2088.01 2317.76 2094.96 2325.05 Q2101.9 2332.35 2101.9 2347.16 Z\" fill=\"#000000\" fill-rule=\"nonzero\" fill-opacity=\"1\" /><path clip-path=\"url(#clip820)\" d=\"M2134.37 2300.92 L2134.37 2319.33 L2156.3 2319.33 L2156.3 2327.6 L2134.37 2327.6 L2134.37 2362.79 Q2134.37 2370.71 2136.51 2372.97 Q2138.71 2375.23 2145.36 2375.23 L2156.3 2375.23 L2156.3 2384.14 L2145.36 2384.14 Q2133.04 2384.14 2128.35 2379.57 Q2123.66 2374.94 2123.66 2362.79 L2123.66 2327.6 L2115.85 2327.6 L2115.85 2319.33 L2123.66 2319.33 L2123.66 2300.92 L2134.37 2300.92 Z\" fill=\"#000000\" fill-rule=\"nonzero\" fill-opacity=\"1\" /><path clip-path=\"url(#clip820)\" d=\"M2170.3 2319.33 L2180.95 2319.33 L2180.95 2384.14 L2170.3 2384.14 L2170.3 2319.33 M2170.3 2294.09 L2180.95 2294.09 L2180.95 2307.58 L2170.3 2307.58 L2170.3 2294.09 Z\" fill=\"#000000\" fill-rule=\"nonzero\" fill-opacity=\"1\" /><path clip-path=\"url(#clip820)\" d=\"M2228.35 2326.79 Q2219.78 2326.79 2214.81 2333.5 Q2209.83 2340.16 2209.83 2351.79 Q2209.83 2363.42 2214.75 2370.14 Q2219.73 2376.79 2228.35 2376.79 Q2236.86 2376.79 2241.83 2370.08 Q2246.81 2363.36 2246.81 2351.79 Q2246.81 2340.27 2241.83 2333.56 Q2236.86 2326.79 2228.35 2326.79 M2228.35 2317.76 Q2242.24 2317.76 2250.17 2326.79 Q2258.09 2335.82 2258.09 2351.79 Q2258.09 2367.7 2250.17 2376.79 Q2242.24 2385.82 2228.35 2385.82 Q2214.4 2385.82 2206.47 2376.79 Q2198.6 2367.7 2198.6 2351.79 Q2198.6 2335.82 2206.47 2326.79 Q2214.4 2317.76 2228.35 2317.76 Z\" fill=\"#000000\" fill-rule=\"nonzero\" fill-opacity=\"1\" /><path clip-path=\"url(#clip820)\" d=\"M2329.62 2345.02 L2329.62 2384.14 L2318.97 2384.14 L2318.97 2345.37 Q2318.97 2336.17 2315.39 2331.59 Q2311.8 2327.02 2304.62 2327.02 Q2296 2327.02 2291.02 2332.52 Q2286.05 2338.02 2286.05 2347.51 L2286.05 2384.14 L2275.34 2384.14 L2275.34 2319.33 L2286.05 2319.33 L2286.05 2329.39 Q2289.86 2323.55 2295.01 2320.66 Q2300.22 2317.76 2306.99 2317.76 Q2318.16 2317.76 2323.89 2324.71 Q2329.62 2331.59 2329.62 2345.02 Z\" fill=\"#000000\" fill-rule=\"nonzero\" fill-opacity=\"1\" /><polyline clip-path=\"url(#clip822)\" style=\"stroke:#000000; stroke-linecap:round; stroke-linejoin:round; stroke-width:2; stroke-opacity:0.1; fill:none\" points=\"475.3,1887.05 3152.76,1887.05 \"/>\n",
       "<polyline clip-path=\"url(#clip822)\" style=\"stroke:#000000; stroke-linecap:round; stroke-linejoin:round; stroke-width:2; stroke-opacity:0.1; fill:none\" points=\"475.3,1438.44 3152.76,1438.44 \"/>\n",
       "<polyline clip-path=\"url(#clip822)\" style=\"stroke:#000000; stroke-linecap:round; stroke-linejoin:round; stroke-width:2; stroke-opacity:0.1; fill:none\" points=\"475.3,989.829 3152.76,989.829 \"/>\n",
       "<polyline clip-path=\"url(#clip822)\" style=\"stroke:#000000; stroke-linecap:round; stroke-linejoin:round; stroke-width:2; stroke-opacity:0.1; fill:none\" points=\"475.3,541.221 3152.76,541.221 \"/>\n",
       "<polyline clip-path=\"url(#clip822)\" style=\"stroke:#000000; stroke-linecap:round; stroke-linejoin:round; stroke-width:2; stroke-opacity:0.1; fill:none\" points=\"475.3,92.6134 3152.76,92.6134 \"/>\n",
       "<polyline clip-path=\"url(#clip820)\" style=\"stroke:#000000; stroke-linecap:round; stroke-linejoin:round; stroke-width:4; stroke-opacity:1; fill:none\" points=\"475.3,2102.86 475.3,47.2441 \"/>\n",
       "<polyline clip-path=\"url(#clip820)\" style=\"stroke:#000000; stroke-linecap:round; stroke-linejoin:round; stroke-width:4; stroke-opacity:1; fill:none\" points=\"475.3,1887.05 494.197,1887.05 \"/>\n",
       "<polyline clip-path=\"url(#clip820)\" style=\"stroke:#000000; stroke-linecap:round; stroke-linejoin:round; stroke-width:4; stroke-opacity:1; fill:none\" points=\"475.3,1438.44 494.197,1438.44 \"/>\n",
       "<polyline clip-path=\"url(#clip820)\" style=\"stroke:#000000; stroke-linecap:round; stroke-linejoin:round; stroke-width:4; stroke-opacity:1; fill:none\" points=\"475.3,989.829 494.197,989.829 \"/>\n",
       "<polyline clip-path=\"url(#clip820)\" style=\"stroke:#000000; stroke-linecap:round; stroke-linejoin:round; stroke-width:4; stroke-opacity:1; fill:none\" points=\"475.3,541.221 494.197,541.221 \"/>\n",
       "<polyline clip-path=\"url(#clip820)\" style=\"stroke:#000000; stroke-linecap:round; stroke-linejoin:round; stroke-width:4; stroke-opacity:1; fill:none\" points=\"475.3,92.6134 494.197,92.6134 \"/>\n",
       "<path clip-path=\"url(#clip820)\" d=\"M159.94 1888.17 L234.13 1888.17 L234.13 1898.01 L159.94 1898.01 L159.94 1888.17 Z\" fill=\"#000000\" fill-rule=\"nonzero\" fill-opacity=\"1\" /><path clip-path=\"url(#clip820)\" d=\"M291.479 1854.03 L261.965 1900.15 L291.479 1900.15 L291.479 1854.03 M288.412 1843.85 L303.111 1843.85 L303.111 1900.15 L315.437 1900.15 L315.437 1909.87 L303.111 1909.87 L303.111 1930.25 L291.479 1930.25 L291.479 1909.87 L252.474 1909.87 L252.474 1898.59 L288.412 1843.85 Z\" fill=\"#000000\" fill-rule=\"nonzero\" fill-opacity=\"1\" /><path clip-path=\"url(#clip820)\" d=\"M334.766 1915.55 L346.976 1915.55 L346.976 1930.25 L334.766 1930.25 L334.766 1915.55 Z\" fill=\"#000000\" fill-rule=\"nonzero\" fill-opacity=\"1\" /><path clip-path=\"url(#clip820)\" d=\"M397.439 1851.54 Q388.411 1851.54 383.839 1860.45 Q379.326 1869.31 379.326 1887.13 Q379.326 1904.9 383.839 1913.81 Q388.411 1922.66 397.439 1922.66 Q406.524 1922.66 411.038 1913.81 Q415.61 1904.9 415.61 1887.13 Q415.61 1869.31 411.038 1860.45 Q406.524 1851.54 397.439 1851.54 M397.439 1842.28 Q411.964 1842.28 419.603 1853.8 Q427.3 1865.26 427.3 1887.13 Q427.3 1908.95 419.603 1920.47 Q411.964 1931.92 397.439 1931.92 Q382.913 1931.92 375.217 1920.47 Q367.578 1908.95 367.578 1887.13 Q367.578 1865.26 375.217 1853.8 Q382.913 1842.28 397.439 1842.28 Z\" fill=\"#000000\" fill-rule=\"nonzero\" fill-opacity=\"1\" /><path clip-path=\"url(#clip820)\" d=\"M162.429 1439.57 L236.618 1439.57 L236.618 1449.4 L162.429 1449.4 L162.429 1439.57 Z\" fill=\"#000000\" fill-rule=\"nonzero\" fill-opacity=\"1\" /><path clip-path=\"url(#clip820)\" d=\"M297.266 1435.05 Q305.657 1436.85 310.344 1442.52 Q315.09 1448.19 315.09 1456.52 Q315.09 1469.31 306.294 1476.31 Q297.497 1483.32 281.294 1483.32 Q275.854 1483.32 270.067 1482.22 Q264.338 1481.17 258.204 1479.03 L258.204 1467.75 Q263.065 1470.58 268.852 1472.03 Q274.639 1473.48 280.946 1473.48 Q291.942 1473.48 297.671 1469.14 Q303.458 1464.8 303.458 1456.52 Q303.458 1448.88 298.076 1444.6 Q292.752 1440.26 283.203 1440.26 L273.134 1440.26 L273.134 1430.65 L283.666 1430.65 Q292.289 1430.65 296.861 1427.24 Q301.432 1423.77 301.432 1417.29 Q301.432 1410.63 296.687 1407.1 Q292 1403.51 283.203 1403.51 Q278.4 1403.51 272.903 1404.55 Q267.405 1405.6 260.808 1407.8 L260.808 1397.38 Q267.463 1395.53 273.25 1394.6 Q279.095 1393.67 284.245 1393.67 Q297.555 1393.67 305.31 1399.75 Q313.064 1405.77 313.064 1416.07 Q313.064 1423.25 308.956 1428.22 Q304.847 1433.14 297.266 1435.05 Z\" fill=\"#000000\" fill-rule=\"nonzero\" fill-opacity=\"1\" /><path clip-path=\"url(#clip820)\" d=\"M337.254 1466.94 L349.465 1466.94 L349.465 1481.64 L337.254 1481.64 L337.254 1466.94 Z\" fill=\"#000000\" fill-rule=\"nonzero\" fill-opacity=\"1\" /><path clip-path=\"url(#clip820)\" d=\"M375.043 1395.24 L420.934 1395.24 L420.934 1405.08 L385.749 1405.08 L385.749 1426.26 Q388.295 1425.39 390.842 1424.98 Q393.388 1424.52 395.934 1424.52 Q410.402 1424.52 418.851 1432.45 Q427.3 1440.38 427.3 1453.92 Q427.3 1467.86 418.619 1475.62 Q409.939 1483.32 394.14 1483.32 Q388.701 1483.32 383.029 1482.39 Q377.416 1481.46 371.397 1479.61 L371.397 1467.86 Q376.606 1470.7 382.161 1472.09 Q387.717 1473.48 393.909 1473.48 Q403.92 1473.48 409.765 1468.21 Q415.61 1462.95 415.61 1453.92 Q415.61 1444.89 409.765 1439.62 Q403.92 1434.36 393.909 1434.36 Q389.221 1434.36 384.534 1435.4 Q379.904 1436.44 375.043 1438.64 L375.043 1395.24 Z\" fill=\"#000000\" fill-rule=\"nonzero\" fill-opacity=\"1\" /><path clip-path=\"url(#clip820)\" d=\"M159.94 990.958 L234.13 990.958 L234.13 1000.8 L159.94 1000.8 L159.94 990.958 Z\" fill=\"#000000\" fill-rule=\"nonzero\" fill-opacity=\"1\" /><path clip-path=\"url(#clip820)\" d=\"M294.777 986.444 Q303.169 988.238 307.856 993.909 Q312.601 999.58 312.601 1007.91 Q312.601 1020.7 303.805 1027.71 Q295.009 1034.71 278.805 1034.71 Q273.365 1034.71 267.578 1033.61 Q261.849 1032.57 255.715 1030.43 L255.715 1019.14 Q260.576 1021.98 266.363 1023.42 Q272.15 1024.87 278.458 1024.87 Q289.453 1024.87 295.182 1020.53 Q300.969 1016.19 300.969 1007.91 Q300.969 1000.27 295.588 995.992 Q290.264 991.652 280.715 991.652 L270.646 991.652 L270.646 982.046 L281.178 982.046 Q289.801 982.046 294.372 978.631 Q298.944 975.159 298.944 968.678 Q298.944 962.023 294.199 958.493 Q289.511 954.905 280.715 954.905 Q275.912 954.905 270.414 955.946 Q264.916 956.988 258.319 959.187 L258.319 948.77 Q264.974 946.919 270.761 945.993 Q276.606 945.067 281.757 945.067 Q295.067 945.067 302.821 951.143 Q310.576 957.162 310.576 967.462 Q310.576 974.638 306.467 979.615 Q302.358 984.534 294.777 986.444 Z\" fill=\"#000000\" fill-rule=\"nonzero\" fill-opacity=\"1\" /><path clip-path=\"url(#clip820)\" d=\"M334.766 1018.33 L346.976 1018.33 L346.976 1033.03 L334.766 1033.03 L334.766 1018.33 Z\" fill=\"#000000\" fill-rule=\"nonzero\" fill-opacity=\"1\" /><path clip-path=\"url(#clip820)\" d=\"M397.439 954.326 Q388.411 954.326 383.839 963.238 Q379.326 972.092 379.326 989.916 Q379.326 1007.68 383.839 1016.59 Q388.411 1025.45 397.439 1025.45 Q406.524 1025.45 411.038 1016.59 Q415.61 1007.68 415.61 989.916 Q415.61 972.092 411.038 963.238 Q406.524 954.326 397.439 954.326 M397.439 945.067 Q411.964 945.067 419.603 956.583 Q427.3 968.041 427.3 989.916 Q427.3 1011.73 419.603 1023.25 Q411.964 1034.71 397.439 1034.71 Q382.913 1034.71 375.217 1023.25 Q367.578 1011.73 367.578 989.916 Q367.578 968.041 375.217 956.583 Q382.913 945.067 397.439 945.067 Z\" fill=\"#000000\" fill-rule=\"nonzero\" fill-opacity=\"1\" /><path clip-path=\"url(#clip820)\" d=\"M162.429 542.35 L236.618 542.35 L236.618 552.188 L162.429 552.188 L162.429 542.35 Z\" fill=\"#000000\" fill-rule=\"nonzero\" fill-opacity=\"1\" /><path clip-path=\"url(#clip820)\" d=\"M271.919 574.583 L312.717 574.583 L312.717 584.421 L257.856 584.421 L257.856 574.583 Q264.511 567.697 275.97 556.123 Q287.486 544.491 290.437 541.135 Q296.051 534.827 298.25 530.486 Q300.507 526.088 300.507 521.864 Q300.507 514.977 295.645 510.637 Q290.842 506.297 283.088 506.297 Q277.59 506.297 271.456 508.206 Q265.379 510.116 258.435 513.993 L258.435 502.188 Q265.495 499.352 271.629 497.906 Q277.764 496.459 282.856 496.459 Q296.282 496.459 304.268 503.172 Q312.254 509.885 312.254 521.111 Q312.254 526.436 310.229 531.239 Q308.261 535.984 302.995 542.466 Q301.548 544.144 293.794 552.188 Q286.039 560.174 271.919 574.583 Z\" fill=\"#000000\" fill-rule=\"nonzero\" fill-opacity=\"1\" /><path clip-path=\"url(#clip820)\" d=\"M337.254 569.722 L349.465 569.722 L349.465 584.421 L337.254 584.421 L337.254 569.722 Z\" fill=\"#000000\" fill-rule=\"nonzero\" fill-opacity=\"1\" /><path clip-path=\"url(#clip820)\" d=\"M375.043 498.021 L420.934 498.021 L420.934 507.859 L385.749 507.859 L385.749 529.04 Q388.295 528.172 390.842 527.767 Q393.388 527.304 395.934 527.304 Q410.402 527.304 418.851 535.232 Q427.3 543.16 427.3 556.702 Q427.3 570.648 418.619 578.403 Q409.939 586.1 394.14 586.1 Q388.701 586.1 383.029 585.174 Q377.416 584.248 371.397 582.396 L371.397 570.648 Q376.606 573.484 382.161 574.873 Q387.717 576.262 393.909 576.262 Q403.92 576.262 409.765 570.995 Q415.61 565.729 415.61 556.702 Q415.61 547.674 409.765 542.408 Q403.92 537.141 393.909 537.141 Q389.221 537.141 384.534 538.183 Q379.904 539.225 375.043 541.424 L375.043 498.021 Z\" fill=\"#000000\" fill-rule=\"nonzero\" fill-opacity=\"1\" /><path clip-path=\"url(#clip820)\" d=\"M159.94 93.7418 L234.13 93.7418 L234.13 103.58 L159.94 103.58 L159.94 93.7418 Z\" fill=\"#000000\" fill-rule=\"nonzero\" fill-opacity=\"1\" /><path clip-path=\"url(#clip820)\" d=\"M269.43 125.975 L310.229 125.975 L310.229 135.813 L255.368 135.813 L255.368 125.975 Q262.023 119.089 273.481 107.515 Q284.997 95.883 287.949 92.5266 Q293.562 86.2187 295.761 81.8785 Q298.018 77.4803 298.018 73.2558 Q298.018 66.3693 293.157 62.029 Q288.354 57.6888 280.599 57.6888 Q275.102 57.6888 268.967 59.5985 Q262.891 61.5082 255.947 65.3855 L255.947 53.58 Q263.007 50.7444 269.141 49.2976 Q275.275 47.8509 280.368 47.8509 Q293.794 47.8509 301.78 54.5638 Q309.766 61.2767 309.766 72.5035 Q309.766 77.8276 307.74 82.6308 Q305.773 87.3761 300.507 93.8576 Q299.06 95.5358 291.305 103.58 Q283.551 111.566 269.43 125.975 Z\" fill=\"#000000\" fill-rule=\"nonzero\" fill-opacity=\"1\" /><path clip-path=\"url(#clip820)\" d=\"M334.766 121.114 L346.976 121.114 L346.976 135.813 L334.766 135.813 L334.766 121.114 Z\" fill=\"#000000\" fill-rule=\"nonzero\" fill-opacity=\"1\" /><path clip-path=\"url(#clip820)\" d=\"M397.439 57.1101 Q388.411 57.1101 383.839 66.0221 Q379.326 74.8762 379.326 92.7002 Q379.326 110.466 383.839 119.378 Q388.411 128.232 397.439 128.232 Q406.524 128.232 411.038 119.378 Q415.61 110.466 415.61 92.7002 Q415.61 74.8762 411.038 66.0221 Q406.524 57.1101 397.439 57.1101 M397.439 47.8509 Q411.964 47.8509 419.603 59.367 Q427.3 70.8253 427.3 92.7002 Q427.3 114.517 419.603 126.033 Q411.964 137.492 397.439 137.492 Q382.913 137.492 375.217 126.033 Q367.578 114.517 367.578 92.7002 Q367.578 70.8253 375.217 59.367 Q382.913 47.8509 397.439 47.8509 Z\" fill=\"#000000\" fill-rule=\"nonzero\" fill-opacity=\"1\" /><path clip-path=\"url(#clip820)\" d=\"M48.8676 1155.26 L-3.90992 1138.94 L-3.90992 1129.1 L48.8676 1145.42 L101.645 1129.1 L101.645 1138.94 L48.8676 1155.26 Z\" fill=\"#000000\" fill-rule=\"nonzero\" fill-opacity=\"1\" /><path clip-path=\"url(#clip820)\" d=\"M-0.379843 1107.98 L-0.379843 1096.29 L35.0366 1096.29 L35.0366 1053.81 L-0.379843 1053.81 L-0.379843 1042.12 L86.0202 1042.12 L86.0202 1053.81 L44.8745 1053.81 L44.8745 1096.29 L86.0202 1096.29 L86.0202 1107.98 L-0.379843 1107.98 Z\" fill=\"#000000\" fill-rule=\"nonzero\" fill-opacity=\"1\" /><path clip-path=\"url(#clip820)\" d=\"M48.8676 994.844 L101.645 1011.16 L101.645 1021 L48.8676 1004.68 L-3.90992 1021 L-3.90992 1011.16 L48.8676 994.844 Z\" fill=\"#000000\" fill-rule=\"nonzero\" fill-opacity=\"1\" /><polyline clip-path=\"url(#clip822)\" style=\"stroke:#009af9; stroke-linecap:round; stroke-linejoin:round; stroke-width:4; stroke-opacity:1; fill:none\" points=\"551.077,119.091 557.831,1438.28 564.584,1271.17 571.338,1419.51 578.092,1435.42 584.846,1941.71 591.599,1628.91 598.353,1718.21 605.107,1837.5 611.861,1708.62 618.614,1852.3 625.368,1860.34 632.122,1868.67 638.876,1877.18 645.629,1861.53 652.383,1961.11 659.137,1882.31 665.891,1892.28 672.644,1968.94 679.398,1986.48 686.152,1960.05 692.906,2000.05 699.659,1974.4 706.413,1993.67 713.167,1959.52 719.921,1948.84 726.674,1974.22 733.428,1971.11 740.182,1978.94 746.936,1985.03 753.689,1986.11 760.443,1983.96 767.197,1985.2 773.951,1988.53 780.704,1991.05 787.458,1982.99 794.212,1987.21 800.966,1989.19 807.719,1991.75 814.473,1990.97 821.227,1992.72 827.981,1989.85 834.734,1992.53 841.488,1992.55 848.242,1991.64 854.996,1990.92 861.749,1992.57 868.503,1992.57 875.257,1990.82 882.011,1992.04 888.764,1992.08 895.518,1992.12 902.272,1992.9 909.026,1999.22 915.779,2003.68 922.533,1993.38 929.287,1993.29 936.041,1985.48 942.794,1997.22 949.548,1993.18 956.302,1993.12 963.056,1987.02 969.809,1998.91 976.563,1990.34 983.317,1990.54 990.071,1992.96 996.824,1994.99 1003.58,1989.17 1010.33,1993.32 1017.09,1990.09 1023.84,1990.31 1030.59,1995.81 1037.35,1990.71 1044.1,1990.89 1050.85,1995.1 1057.61,1993.06 1064.36,1996.42 1071.12,1994.57 1077.87,1995.85 1084.62,1993 1091.38,1991.81 1098.13,1991.9 1104.88,1991.99 1111.64,1992.98 1118.39,1992.14 1125.15,1992.21 1131.9,1991.56 1138.65,1997.4 1145.41,1996.97 1152.16,1999.87 1158.91,1990.26 1165.67,1993.21 1172.42,1993.17 1179.18,1990.86 1185.93,1993.11 1192.68,1991.18 1199.44,1989.58 1206.19,1993.37 1212.94,1990.53 1219.7,1990.73 1226.45,1993.25 1233.21,1991.09 1239.96,1999.04 1246.71,1989.61 1253.47,1993.69 1260.22,1993.61 1266.97,1993.55 1273.73,1990.57 1280.48,1993.45 1287.24,1993.41 1293.99,1993.38 1300.74,1993.36 1307.5,1991.47 1314.25,1993.32 1321,1990.18 1327.76,1994.08 1334.51,1993.97 1341.27,1990.12 1348.02,1997.24 1354.77,1990.61 1361.53,1987.97 1368.28,1998.45 1375.03,1993.63 1381.79,1993.52 1388.54,1993.42 1395.3,1996.74 1402.05,1993.26 1408.8,1987.42 1415.56,1993.15 1422.31,1988.19 1429.06,1997.59 1435.82,1993.53 1442.57,1992.62 1449.33,1992.24 1456.08,1984.76 1462.83,2017.58 1469.59,2000.03 1476.34,1998.97 1483.09,2009.84 1489.85,1997.41 1496.6,1987.29 1503.36,2013.62 1510.11,1995.98 1516.86,1981.49 1523.62,1988.89 1530.37,1983.36 1537.12,1994.81 1543.88,1999.07 1550.63,1998.58 1557.39,1987.22 1564.14,1989.38 1570.89,1995.11 1577.65,2004.74 1584.4,1999.29 1591.15,1998.79 1597.91,1994.64 1604.66,1997.95 1611.42,1997.59 1618.17,1994.46 1624.92,1991.85 1631.68,1996.73 1638.43,1996.5 1645.18,1992.37 1651.94,2005.1 1658.69,1994.3 1665.45,1992.78 1672.2,1992.89 1678.95,1993 1685.71,1995.41 1692.46,1995.31 1699.21,1994.24 1705.97,1994.24 1712.72,1993.42 1719.48,1994.23 1726.23,1993.55 1732.98,1993.6 1739.74,1994.8 1746.49,1994.75 1753.24,1994.22 1760,1994.22 1766.75,1994.63 1773.51,1994.22 1780.26,1994.9 1787.01,1993.59 1793.77,1994.31 1800.52,1994.31 1807.27,1992.2 1814.03,1994.44 1820.78,1994.23 1827.54,1994.04 1834.29,1994.06 1841.04,1994.23 1847.8,1994.08 1854.55,1993.97 1861.3,105.422 1868.06,1992.63 1874.81,1993.08 1881.57,1993.48 1888.32,1996.46 1895.07,1994.16 1901.83,1998.99 1908.58,1994.71 1915.33,1994.94 1922.09,1995.15 1928.84,1995.34 1935.6,1997.06 1942.35,2001.39 1949.1,1997.13 1955.86,1994.72 1962.61,2044.68 1969.36,2005.56 1976.12,1985.81 1982.87,1992.25 1989.63,2003.68 1996.38,2003.05 2003.13,1993.3 2009.89,1993.61 2016.64,2005.35 2023.39,1997.65 2030.15,1997.59 2036.9,2003.36 2043.66,1997.5 2050.41,1995.04 2057.16,1993 2063.92,2013.69 2070.67,1998.67 2077.42,2010.59 2084.18,1987.2 2090.93,2002.35 2097.69,2001.85 2104.44,2001.41 2111.19,1994.3 2117.95,1997.61 2124.7,1994.76 2131.45,1997.52 2138.21,1997.49 2144.96,1995.32 2151.72,1995.48 2158.47,1997.42 2165.22,1999.04 2171.98,1994.39 2178.73,2013.93 2185.48,2001.41 2192.24,2004.37 2198.99,1994.55 2205.75,1997.56 2212.5,2002.63 2219.25,1995.15 2226.01,1995.33 2232.76,1997.44 2239.51,1997.42 2246.27,2000.67 2253.02,1998.89 2259.78,1998.75 2266.53,1997.37 2273.28,1995.07 2280.04,1991.88 2286.79,2012.05 2293.54,1991.87 2300.3,2009.47 2307.05,1959.5 2313.81,1969.54 2320.56,2013.48 2327.31,1986.72 2334.07,1998.66 2340.82,1998.46 2347.57,1988.64 2354.33,1998.15 2361.08,1993.9 2367.84,2001.72 2374.59,1980.28 2381.34,2000.99 2388.1,1997.68 2394.85,2000.38 2401.6,1997.58 2408.36,1990.53 2415.11,1997.5 2421.87,1997.47 2428.62,1999.27 2435.37,1997.43 2442.13,1995.87 2448.88,1997.39 2455.63,1997.38 2462.39,1998.57 2469.14,1998.46 2475.9,1997.35 2482.65,1997.34 2489.4,1997.34 2496.16,1996.55 2502.91,1996.6 2509.66,1997.32 2516.42,1997.93 2523.17,1996.2 2529.93,1998.34 2536.68,1995.23 2543.43,2001.47 2550.19,1997.4 2556.94,1999.08 2563.69,1998.92 2570.45,1997.36 2577.2,1994.74 2583.96,2001.65 2590.71,1994.15 2597.46,2000.85 2604.22,1994.62 2610.97,1997.52 2617.72,1999.95 2624.48,1992.96 2631.23,1992.23 2637.99,1988.52 2644.74,1998.2 2651.49,1993.14 2658.25,2011.35 2665,2001.9 2671.75,2005.17 2678.51,1994.27 2685.26,1994.51 2692.02,1997.56 2698.77,2002.68 2705.52,1997.48 2712.28,2001.77 2719.03,1997.43 2725.78,1995.6 2732.54,1994.09 2739.29,1992.21 2746.05,1992.58 2752.8,1998.17 2759.55,2007.57 2766.31,2006.6 2773.06,1997.81 2779.81,1997.73 2786.57,2000.96 2793.32,1994.59 2800.08,2000.3 2806.83,1992.49 2813.58,1997.56 2820.34,2000.03 2827.09,2002.08 2833.84,1993.26 2840.6,1987.69 2847.35,1998.98 2854.11,1985.33 2860.86,2011.45 2867.61,1992.54 2874.37,1998.2 2881.12,2002.89 2887.87,1997.93 2894.63,1989.81 2901.38,1991.39 2908.14,1991.8 2914.89,1985.8 2921.64,1988.8 2928.4,1989.24 2935.15,1978.26 2941.9,1976 2948.66,1973.89 2955.41,1989.11 2962.17,2001.36 2968.92,2000.65 2975.67,2000.07 2982.43,1999.6 2989.18,1983.51 2995.93,2000.09 3002.69,1982.23 3009.44,1996.95 3016.2,1996.6 3022.95,1987.81 3029.7,1988.1 3036.46,2004.05 3043.21,1988.88 3049.96,2014.41 3056.72,1978.49 3063.47,1989.22 3070.23,1989.68 3076.98,1990.14 \"/>\n",
       "<path clip-path=\"url(#clip820)\" d=\"M2743.33 219.445 L3063.51 219.445 L3063.51 115.765 L2743.33 115.765  Z\" fill=\"#ffffff\" fill-rule=\"evenodd\" fill-opacity=\"1\"/>\n",
       "<polyline clip-path=\"url(#clip820)\" style=\"stroke:#000000; stroke-linecap:round; stroke-linejoin:round; stroke-width:4; stroke-opacity:1; fill:none\" points=\"2743.33,219.445 3063.51,219.445 3063.51,115.765 2743.33,115.765 2743.33,219.445 \"/>\n",
       "<polyline clip-path=\"url(#clip820)\" style=\"stroke:#009af9; stroke-linecap:round; stroke-linejoin:round; stroke-width:4; stroke-opacity:1; fill:none\" points=\"2773.08,167.605 2951.58,167.605 \"/>\n",
       "<path clip-path=\"url(#clip820)\" d=\"M2995.17 187.292 Q2993.36 191.922 2991.65 193.334 Q2989.94 194.746 2987.07 194.746 L2983.67 194.746 L2983.67 191.181 L2986.17 191.181 Q2987.92 191.181 2988.9 190.348 Q2989.87 189.514 2991.05 186.412 L2991.81 184.468 L2981.33 158.959 L2985.84 158.959 L2993.94 179.237 L3002.05 158.959 L3006.56 158.959 L2995.17 187.292 Z\" fill=\"#000000\" fill-rule=\"nonzero\" fill-opacity=\"1\" /><path clip-path=\"url(#clip820)\" d=\"M3013.85 180.949 L3021.49 180.949 L3021.49 154.584 L3013.18 156.251 L3013.18 151.991 L3021.44 150.325 L3026.12 150.325 L3026.12 180.949 L3033.76 180.949 L3033.76 184.885 L3013.85 184.885 L3013.85 180.949 Z\" fill=\"#000000\" fill-rule=\"nonzero\" fill-opacity=\"1\" /></svg>\n"
      ]
     },
     "execution_count": 19,
     "metadata": {},
     "output_type": "execute_result"
    }
   ],
   "source": [
    "## Learning parameters\n",
    "learning_iterations = 375\n",
    "lr = 1e-2\n",
    "n_blocks = 150\n",
    "thermalise = Int(0.1*n_blocks)\n",
    "Nb = n_blocks - thermalise\n",
    "bs = 5\n",
    "energies = []\n",
    "\n",
    "@time for it in 1:learning_iterations\n",
    "    EL, O = zeros(ComplexF64,Nb), zeros(ComplexF64,length(psi.params),Nb)\n",
    "    states = sample_block(psi, thermalise*bs)\n",
    "    state = states[end]\n",
    "    for k in 1:Nb\n",
    "        batch = sample_block(psi, bs; x0=state)\n",
    "        push!(states,batch)\n",
    "        state = batch[end]\n",
    "        EL[k] = local_energy(state,psi;J=J,B=B)\n",
    "        O[:,k] = variational_derivative(state, psi)\n",
    "    end\n",
    "    push!(energies,mean(EL))\n",
    "    \n",
    "    F = covariance(conj.(O), EL')          # Gradient\n",
    "    S = covariance(conj.(O), O)            # Fisher info\n",
    "    Sinv = pinv(S,rtol=1e-5)               # (pseudo)Inversion\n",
    "    d_params = lr*Sinv * F\n",
    "    psi.params -= vec(d_params)\n",
    "end\n",
    "\n",
    "p3 = plot(real(energies),size=(800,600),grid=true)\n",
    "plot!(p3,xlab=\"Learning iteration\",xtickfontsize=20,xguidefontsize=20)\n",
    "plot!(p3,ylab=\"⟨H⟩\",ytickfontsize=20,yguidefontsize=20)"
   ]
  },
  {
   "cell_type": "code",
   "execution_count": 20,
   "id": "a257feb3",
   "metadata": {},
   "outputs": [
    {
     "name": "stdout",
     "output_type": "stream",
     "text": [
      "The obtained energy is: -4.1211 +- 0.0008"
     ]
    }
   ],
   "source": [
    "energy = real(energies[end-100:end])\n",
    "print(\"The obtained energy is: $(round(mean(energy),digits=4)) +- $(round(std(energy)/10,digits=4))\")"
   ]
  }
 ],
 "metadata": {
  "kernelspec": {
   "display_name": "Julia 1.10.2",
   "language": "julia",
   "name": "julia-1.10"
  },
  "language_info": {
   "file_extension": ".jl",
   "mimetype": "application/julia",
   "name": "julia",
   "version": "1.10.2"
  }
 },
 "nbformat": 4,
 "nbformat_minor": 5
}
