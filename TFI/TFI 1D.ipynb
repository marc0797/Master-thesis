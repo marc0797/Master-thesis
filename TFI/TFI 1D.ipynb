{
 "cells": [
  {
   "cell_type": "markdown",
   "id": "3e5e4cb3",
   "metadata": {},
   "source": [
    "# Ising 1D transverse field model\n",
    "## Ground state energy, magnetization and susceptibility"
   ]
  },
  {
   "cell_type": "markdown",
   "id": "c6a51700",
   "metadata": {},
   "source": [
    "### Libraries"
   ]
  },
  {
   "cell_type": "code",
   "execution_count": 1,
   "id": "46c73860",
   "metadata": {},
   "outputs": [],
   "source": [
    "## Basic libraries for printing output, plots, etc.\n",
    "using Printf\n",
    "using Plots\n",
    "using Random\n",
    "\n",
    "## Libraries for Sparse Arrays\n",
    "using SparseArrays\n",
    "using ArnoldiMethod # Solves eigenvalue problems with sparse matrices\n",
    "\n",
    "## Other libraries\n",
    "using LinearAlgebra\n",
    "using Statistics # For statistical measurements\n",
    "using QuadGK # For numerical integration"
   ]
  },
  {
   "cell_type": "markdown",
   "id": "1edb4b9d",
   "metadata": {},
   "source": [
    "### Functions for exact ground state"
   ]
  },
  {
   "cell_type": "code",
   "execution_count": 2,
   "id": "7d0f1307",
   "metadata": {},
   "outputs": [],
   "source": [
    "# Redefinition of tensor product\n",
    "function ⊙(x,y)\n",
    "    kron(x,y)\n",
    "end\n",
    "\n",
    "# Sparse Hamiltonian\n",
    "function buildHamiltonian_sparse(;N,J,B)\n",
    "    #  Input: -----------------------------\n",
    "    #\n",
    "    #  N: Number of spins in the chain\n",
    "    #\n",
    "    #  J: Hamiltonian interaction term\n",
    "    #\n",
    "    #  B: Transverse magnetic field\n",
    "    #  term\n",
    "    #\n",
    "    #  Output: ----------------------------\n",
    "    #\n",
    "    #  H: Hamiltonian matrix projected\n",
    "    #  onto spin basis\n",
    "    \n",
    "    Id = [[1,0] [0,1]] |> sparse\n",
    "    σᶻ = [[1,0] [0,-1]] |> sparse\n",
    "    σˣ = [[0,1] [1,0]] |> sparse\n",
    "    \n",
    "    # Coupling term\n",
    "    first_term = fill(Id,N)\n",
    "    first_term[1] = σᶻ\n",
    "    first_term[2] = σᶻ\n",
    "    \n",
    "    second_term = fill(Id,N)\n",
    "    second_term[1] = σˣ\n",
    "    \n",
    "    # Initialize sparse zero matrix\n",
    "    H = spzeros(Float64,2^N,2^N)\n",
    "    for i in 1:N\n",
    "        H += -J*foldl(⊙, first_term) -B*foldl(⊙, second_term)\n",
    "        first_term = circshift(first_term,1)\n",
    "        second_term = circshift(second_term,1)\n",
    "    end\n",
    "    return H\n",
    "end\n",
    "\n",
    "# Sparse eigenvalues\n",
    "function eigen_sparse(x)\n",
    "    decomp, history = partialschur(x, nev=1, which=:SR); # only solve for the ground state\n",
    "    vals, vecs = partialeigen(decomp);\n",
    "    return vals, vecs\n",
    "end\n",
    "\n",
    "# Magnetization of a given state\n",
    "function buildMagnetizations_sparse(state;N)\n",
    "    # Input: ------------------------------\n",
    "    #\n",
    "    # state: column vector or matrix of vectors\n",
    "    # encoding a projected wavestate onto the\n",
    "    # spin basis of the Ising model\n",
    "    #\n",
    "    # N: Number of spins in the chain\n",
    "    # \n",
    "    # Output: -----------------------------\n",
    "    #\n",
    "    # st_mz: value of the longitudinal\n",
    "    # magnetization\n",
    "    #\n",
    "    # st_mx: value of the transversal\n",
    "    # magnetization\n",
    "    \n",
    "    Id = [[1,0] [0,1]] |> sparse\n",
    "    σᶻ = [[1,0] [0,-1]] |> sparse\n",
    "    σˣ = [[0,1] [1,0]] |> sparse\n",
    "    \n",
    "    mz = fill(Id,N)\n",
    "    mz[1] = σᶻ\n",
    "    \n",
    "    mx = fill(Id,N)\n",
    "    mx[1] = σˣ\n",
    "    \n",
    "    # Build magnetizations\n",
    "    Mz = spzeros(Float64,2^N,2^N)\n",
    "    Mx = spzeros(Float64,2^N,2^N)\n",
    "    for i in 1:N\n",
    "        Mz += foldl(⊙, mz)/N\n",
    "        Mx += foldl(⊙, mx)/N\n",
    "        mz = circshift(mz, 1)\n",
    "        mx = circshift(mx, 1)\n",
    "    end\n",
    "    \n",
    "    # Calculate magnetization of the state\n",
    "    st_mz = sqrt(state'*Mz^2*state)\n",
    "    st_mx = sqrt(state'*Mx^2*state)\n",
    "    \n",
    "    return st_mz, st_mx\n",
    "end\n",
    "\n",
    "# Magnetization in the thermodynamic limit (integral)\n",
    "function magnetizationIntegral(;J,B)\n",
    "    # Input: -----------------------------\n",
    "    #\n",
    "    # J: Hamiltonian interaction term\n",
    "    #\n",
    "    # B: Transverse magnetic field term\n",
    "    #\n",
    "    # Output: ----------------------------\n",
    "    #\n",
    "    # in_mz: value of the longitudinal\n",
    "    # magnetization in the thermodynamic limit\n",
    "    #\n",
    "    # in_mx: value of the transversal\n",
    "    # magnetization in the thermodynamic limit\n",
    "    \n",
    "    in_mz = (B < J) ? (1 - B^2/J^2)^(1/8) : 0\n",
    "    \n",
    "    in_mx, err = quadgk(k -> (B + J*cos(k))/sqrt(J^2 + B^2 + 2*J*B*cos(k)), \n",
    "        0, pi, rtol=1e-10)\n",
    "    \n",
    "    return in_mz, in_mx/pi\n",
    "end;"
   ]
  },
  {
   "cell_type": "markdown",
   "id": "f559edc4",
   "metadata": {},
   "source": [
    "### RBM Class definition"
   ]
  },
  {
   "cell_type": "code",
   "execution_count": 3,
   "id": "27674d56",
   "metadata": {},
   "outputs": [],
   "source": [
    "# RBM wavefunction class\n",
    "mutable struct RBM\n",
    "    n_visible::Int\n",
    "    n_hidden::Int\n",
    "    params::Vector{ComplexF64}\n",
    "    \n",
    "    function RBM(n_visible::Int, n_hidden::Int)\n",
    "        rbm = new(n_visible, n_hidden, ComplexF64[])\n",
    "        initialise_RBM(rbm)\n",
    "        return rbm\n",
    "    end\n",
    "end\n",
    "\n",
    "# Initialize RBM wavefunction\n",
    "function initialise_RBM(rbm::RBM;σ=0.01)\n",
    "    # Parameters of the RBM can be complex valued,\n",
    "    # and are initialized from a random distribution\n",
    "    b = randn(ComplexF64,rbm.n_visible)\n",
    "    c = randn(ComplexF64,rbm.n_hidden)\n",
    "    W = randn(ComplexF64,rbm.n_hidden,rbm.n_visible)\n",
    "    \n",
    "    rbm.params = σ*vcat(b,c,reshape(W,:))\n",
    "end\n",
    "\n",
    "# Define property-like functions\n",
    "function b(rbm::RBM)\n",
    "    # Returns column vector of visible bias\n",
    "    return rbm.params[1:rbm.n_visible]\n",
    "end\n",
    "\n",
    "function c(rbm::RBM)\n",
    "    # Returns column vector of hidden bias\n",
    "    nv = rbm.n_visible\n",
    "    return rbm.params[nv+1 : nv+rbm.n_hidden]\n",
    "end\n",
    "\n",
    "function W(rbm::RBM)\n",
    "    # Returns nh x nv weight matrix\n",
    "    nv, nh = rbm.n_visible, rbm.n_hidden\n",
    "    return reshape(rbm.params[nv+nh+1:end], nh, nv)\n",
    "end\n",
    "    \n",
    "# Additional functions that may be useful\n",
    "function wavefunction(rbm::RBM, s::Vector{Bool})\n",
    "    # Calculate wavefunction projection onto state s\n",
    "    return exp(conj(b(rbm))' * s) * prod(cosh(c(rbm) .+ W(rbm) * s)) * 2^rbm.n_hidden\n",
    "end\n",
    "\n",
    "function p_ratio(rbm::RBM, s1::Vector{Bool}, s2::Vector{Bool})\n",
    "    # Ratio of probabilities between states s2 and s1\n",
    "    f1 = cosh.(c(rbm) .+ W(rbm) * s1)\n",
    "    f2 = cosh.(c(rbm) .+ W(rbm) * s2)\n",
    "    log_diff = conj(b(rbm))' * (s2 - s1) + sum(log.(f2 ./ f1))  # log of ratio for numerical stability\n",
    "    return exp(log_diff)\n",
    "end\n",
    "\n",
    "function p_ratios(rbm::RBM, s1::Vector{Bool}, s2::Vector{Vector{Bool}})\n",
    "    # Ratio of probabilities between list of states s2 and state s1\n",
    "    return [p_ratio(rbm, s1, s) for s in s2]\n",
    "end;"
   ]
  },
  {
   "cell_type": "markdown",
   "id": "735b4cab",
   "metadata": {},
   "source": [
    "### Useful functions for variational monte carlo"
   ]
  },
  {
   "cell_type": "code",
   "execution_count": 4,
   "id": "53829a50",
   "metadata": {},
   "outputs": [],
   "source": [
    "# Flip i-th bit of state s\n",
    "function flip(s::Vector{Bool},i::Int)\n",
    "    s_flip = copy(s)\n",
    "    s_flip[i] = 1 - s_flip[i]\n",
    "    return s_flip\n",
    "end\n",
    "\n",
    "# Local energy of the TFI model\n",
    "function local_energy(s::Vector{Bool},psi::RBM;J,B)\n",
    "    # Interaction term\n",
    "    couplings = (s .== circshift(s,1)) .* 2 .- 1\n",
    "    e_int = -J*sum(couplings)\n",
    "    \n",
    "    # Transverse field term\n",
    "    flipped_states = [flip(s,i) for i in 1:length(s)]\n",
    "    e_field = -B*sum(p_ratios(psi,s,flipped_states))\n",
    "    \n",
    "    return e_int + e_field\n",
    "end\n",
    "\n",
    "# Compute the log-derivative of the wavefunction\n",
    "function variational_derivative(x::Vector{Bool}, psi::RBM)\n",
    "    theta = c(psi) + W(psi) * x   # Column of length n_hidden\n",
    "    Ob = x                        # Column of length n_visible\n",
    "    Oc = tanh.(theta)\n",
    "    Ow = Oc * x'                  # Matrix of n_hidden x n_visible\n",
    "    return vcat(Ob, Oc, Ow...)\n",
    "end\n",
    "\n",
    "# Compute the covariance between x1 and x2\n",
    "# Used for calculating the gradient:\n",
    "#\n",
    "# F = covariance(conj.(O),EL') -> x1 is num_params x num_samples and EL is 1 x num_samples\n",
    "#\n",
    "# and for the Fischer matrix:\n",
    "#\n",
    "# S = covariance(conj.(O),O) -> x1, x2 are num_params x num_samples\n",
    "function covariance(x1, x2)\n",
    "    samples = size(x1,2)                              # Number of columns (samples) in x1\n",
    "    m1 = mean(x1, dims=2)                             # This is num_params x 1\n",
    "    m2 = size(x2,2) > 1 ? mean(x2, dims=2) : mean(x2) # This is either num_params x 1 or a number\n",
    "    return size(x2,2) > 1 ? (x1 * x2')/samples - m1 * m2' : (x1 * x2)/samples - m1 .* m2\n",
    "end\n",
    "\n",
    "# Sample bs states according to our wavefunction\n",
    "function sample_block(psi::RBM, bs; x0=nothing)\n",
    "    state = x0 == nothing ? rand(Bool,psi.n_visible) : x0\n",
    "    states = []\n",
    "    for _ in 1:bs\n",
    "        idx = rand(1:psi.n_visible)\n",
    "        new_state = flip(state, idx)\n",
    "        if rand() <= abs(p_ratio(psi,state,new_state))^2\n",
    "            state = copy(new_state)   # Accept new state   \n",
    "        end\n",
    "        push!(states,state)\n",
    "    end\n",
    "    return states\n",
    "end;"
   ]
  },
  {
   "cell_type": "markdown",
   "id": "e55b0b5c",
   "metadata": {},
   "source": [
    "### Binning analysis functions"
   ]
  },
  {
   "cell_type": "code",
   "execution_count": 5,
   "id": "8df8aeb7",
   "metadata": {},
   "outputs": [],
   "source": [
    "# Mean of the time-series x in chunks of given size\n",
    "function bin_averages(x, bs)\n",
    "    nb = length(x) ÷ bs\n",
    "    bin_avg = [mean(x[b*bs+1:(b+1)*bs]) for b in 0:nb-1]\n",
    "    return hcat(bin_avg...)\n",
    "end;"
   ]
  },
  {
   "cell_type": "markdown",
   "id": "4d1b3382",
   "metadata": {},
   "source": [
    "## main code\n",
    "\n",
    "### Ground state and ground energy\n",
    "\n",
    "Calculate the ground state energy given the number of spins $N$, the coupling interaction term $J$ and the strength of the transverse magnetic field $B$."
   ]
  },
  {
   "cell_type": "code",
   "execution_count": 6,
   "id": "8b311f8d",
   "metadata": {},
   "outputs": [
    {
     "name": "stdout",
     "output_type": "stream",
     "text": [
      "Ground state energy: -4.47213595\n",
      "Ground state:\n"
     ]
    },
    {
     "data": {
      "text/plain": [
       "4×1 Matrix{Float64}:\n",
       " -0.6881909602355869\n",
       " -0.16245984811645306\n",
       " -0.1624598481164531\n",
       " -0.6881909602355866"
      ]
     },
     "metadata": {},
     "output_type": "display_data"
    }
   ],
   "source": [
    "# Value of the coupling term and transverse magnetic field\n",
    "J, B = 2, 1\n",
    "\n",
    "# Number of spins\n",
    "N = 2\n",
    "H = buildHamiltonian_sparse(N=N,J=J,B=B)\n",
    "\n",
    "ground_energy, ground_state = eigen_sparse(H)\n",
    "\n",
    "@printf \"Ground state energy: %.8f\\n\" ground_energy[1]\n",
    "@printf \"Ground state:\\n\"\n",
    "display(ground_state)"
   ]
  },
  {
   "cell_type": "markdown",
   "id": "e3edd6e9",
   "metadata": {},
   "source": [
    "### Ground state magnetization\n",
    "\n",
    "Calculate the longitudinal and transversal magnetizations of the ground state."
   ]
  },
  {
   "cell_type": "code",
   "execution_count": 7,
   "id": "1c08bef9",
   "metadata": {},
   "outputs": [
    {
     "data": {
      "text/plain": [
       "([0.9732489894677301;;], [0.9999999999999999;;])"
      ]
     },
     "execution_count": 7,
     "metadata": {},
     "output_type": "execute_result"
    }
   ],
   "source": [
    "st_mz, st_mx = buildMagnetizations_sparse(ground_state;N=N)"
   ]
  },
  {
   "cell_type": "markdown",
   "id": "d5d572fd",
   "metadata": {},
   "source": [
    "### Plot of the phase transition\n",
    "\n",
    "We calculate the longitudinal magnetization of the ground state for different values of $B/J$ and plot it for many $N$:"
   ]
  },
  {
   "cell_type": "code",
   "execution_count": 8,
   "id": "24b77c0d",
   "metadata": {},
   "outputs": [
    {
     "name": "stdout",
     "output_type": "stream",
     "text": [
      "113.084772 seconds (2.24 M allocations: 229.257 GiB, 5.41% gc time, 0.60% compilation time: 20% of which was recompilation)\n"
     ]
    },
    {
     "data": {
      "text/plain": [
       "\"/home/marcfernandez/Documents/Master-thesis/TFI/Ground_Transversal_Magnetizations.png\""
      ]
     },
     "execution_count": 8,
     "metadata": {},
     "output_type": "execute_result"
    }
   ],
   "source": [
    "# Values of B/J\n",
    "B_J = 10 .^ range(start=-2., stop=2., length=10)\n",
    "Ns = 4:4:20\n",
    "\n",
    "p = plot()\n",
    "q = plot()\n",
    "@time for N in Ns\n",
    "    st_mz = zeros(length(B_J))\n",
    "    st_mx = zeros(length(B_J))\n",
    "    for (i,b) in enumerate(B_J)\n",
    "        H = buildHamiltonian_sparse(N=N,J=1,B=b)\n",
    "        vals, vecs = eigen_sparse(H)\n",
    "        ground_state = @view vecs[:,1]\n",
    "        st_mz[i], st_mx[i] = buildMagnetizations_sparse(ground_state;N=N)\n",
    "    end\n",
    "    plot!(p, B_J, st_mz, marker=:circle, label=\"L = $N\", xscale=:log10,\n",
    "        lw=3, ls=:dash, markersize=6)\n",
    "    plot!(q, B_J, st_mx, marker=:circle, label=\"L = $N\", xscale=:log10,\n",
    "        lw=3, ls=:dash, markersize=6)\n",
    "end\n",
    "\n",
    "# Finer grid\n",
    "B_J = 10 .^ range(start=-2., stop=2., length=1000)\n",
    "in_mz = zeros(length(B_J))\n",
    "in_mx = zeros(length(B_J))\n",
    "\n",
    "for (i,b) in enumerate(B_J)\n",
    "    # Add thermodynamic limit N → ∞\n",
    "    in_mz[i], in_mx[i] = magnetizationIntegral(J=1,B=b)\n",
    "end\n",
    "plot!(p, B_J, in_mz,size=(800,600), c=:black, label=\"L = ∞\", lw=2, \n",
    "    xlab=\"B/J\", ylab=\"m_z\", xtickfontsize=14, xguidefontsize=14,\n",
    "        ytickfontsize=14, yguidefontsize=14, legendfontsize=14,\n",
    "        fontfamily=\"helvetica\")\n",
    "plot!(q, B_J, in_mx, size=(800,600), c=:black, label=\"L = ∞\", lw=2,\n",
    "    xlab=\"B/J\", ylab=\"m_x\", xtickfontsize=14, xguidefontsize=14,\n",
    "        ytickfontsize=14, yguidefontsize=14, legendfontsize=14,\n",
    "        fontfamily=\"helvetica\")\n",
    "savefig(p,\"Ground_Longitudinal_Magnetizations.png\")\n",
    "savefig(q,\"Ground_Transversal_Magnetizations.png\")"
   ]
  },
  {
   "cell_type": "markdown",
   "id": "09eaf29b",
   "metadata": {},
   "source": [
    "## Variational Monte Carlo using RBM wavefunction\n",
    "\n",
    "### Monte Carlo sampling by flipping spins randomly"
   ]
  },
  {
   "cell_type": "code",
   "execution_count": null,
   "id": "8fbcdf29",
   "metadata": {},
   "outputs": [],
   "source": [
    "## Parameters of the problem\n",
    "n = 2                           # Number of spins\n",
    "J, B = 2, 1                     # Hamiltonian\n",
    "n_visible, n_hidden = n, 1      # RBM size: twice as many hidden neurons\n",
    "psi = RBM(n_visible,n_hidden);  # Randomly initialize our anstaz"
   ]
  },
  {
   "cell_type": "raw",
   "id": "08ba5235",
   "metadata": {},
   "source": [
    "n_samples = 50000\n",
    "state = rand(Bool,n) # initial random state\n",
    "states, energies = [], []\n",
    "\n",
    "for _ in 1:n_samples\n",
    "    # Sample new state\n",
    "    idx = rand(1:n) \n",
    "    new_state = flip(state,idx)\n",
    "\n",
    "    if rand() <= abs(p_ratio(psi,state,new_state))^2\n",
    "        state = copy(new_state)   # Accept new state\n",
    "    end\n",
    "    push!(states,state)\n",
    "    push!(energies,real(local_energy(state,psi;J=J,B=B)))\n",
    "end;\n",
    "    \n",
    "p1 = plot(energies[1:1000],grid=true,gridlinesize=2,size=(800,600))\n",
    "plot!(p1,xlab=\"Sample\",xguidefontsize=14,ylab=\"Local energy\",yguidefontsize=14)\n",
    "plot!(p1,title=\"E = $(round(mean(energies),digits=4)) +- $(round(std(energies)/sqrt(n_samples),digits=4))\")"
   ]
  },
  {
   "cell_type": "markdown",
   "id": "7df9d6ab",
   "metadata": {},
   "source": [
    "### Calculate autocorrelation time of the samples"
   ]
  },
  {
   "cell_type": "raw",
   "id": "92150852",
   "metadata": {},
   "source": [
    "ks = [2^k for k in 1:11]\n",
    "errors, means, bin_avgs = [], [], []\n",
    "\n",
    "for k in ks\n",
    "    bin_avg = bin_averages(energies, k)\n",
    "    error = sqrt(var(bin_avg)/length(bin_avg))\n",
    "    push!(errors,error)\n",
    "    push!(means,mean(bin_avg))\n",
    "    push!(bin_avgs,bin_avg)\n",
    "end\n",
    "\n",
    "\n",
    "p2 = plot(ks, errors .^ 2,ls=:solid,marker=:circ,size=(800,600),grid=true)\n",
    "plot!(p2,xtickfontsize=15,xlab=\"Bin size\",xguidefontsize=20)\n",
    "plot!(p2,ytickfontsize=15,ylab=\"s²ᵦ\",xguidefontsize=20)"
   ]
  },
  {
   "cell_type": "raw",
   "id": "134706b4",
   "metadata": {},
   "source": [
    "tau = (errors[end-3]/errors[1])^2"
   ]
  },
  {
   "cell_type": "markdown",
   "id": "53bad83d",
   "metadata": {},
   "source": [
    "### Stochastic Reconfiguration (Natural Gradient) learning"
   ]
  },
  {
   "cell_type": "code",
   "execution_count": null,
   "id": "f874752b",
   "metadata": {},
   "outputs": [],
   "source": [
    "## Learning parameters\n",
    "learning_iterations = 375\n",
    "lr = 1e-2\n",
    "n_blocks = 150\n",
    "thermalise = Int(0.1*n_blocks)\n",
    "Nb = n_blocks - thermalise\n",
    "bs = 5\n",
    "energies = []\n",
    "\n",
    "@time for it in 1:learning_iterations\n",
    "    EL, O = zeros(ComplexF64,Nb), zeros(ComplexF64,length(psi.params),Nb)\n",
    "    states = sample_block(psi, thermalise*bs)\n",
    "    state = states[end]\n",
    "    for k in 1:Nb\n",
    "        batch = sample_block(psi, bs; x0=state)\n",
    "        push!(states,batch)\n",
    "        state = batch[end]\n",
    "        EL[k] = local_energy(state,psi;J=J,B=B)\n",
    "        O[:,k] = variational_derivative(state, psi)\n",
    "    end\n",
    "    push!(energies,mean(EL))\n",
    "    \n",
    "    F = covariance(conj.(O), EL')          # Gradient\n",
    "    S = covariance(conj.(O), O)            # Fisher info\n",
    "    Sinv = pinv(S,rtol=1e-5)               # (pseudo)Inversion\n",
    "    d_params = lr*Sinv * F\n",
    "    psi.params -= vec(d_params)\n",
    "end\n",
    "\n",
    "p3 = plot(real(energies),size=(800,600),grid=true)\n",
    "plot!(p3,xlab=\"Learning iteration\",xtickfontsize=20,xguidefontsize=20)\n",
    "plot!(p3,ylab=\"⟨H⟩\",ytickfontsize=20,yguidefontsize=20)"
   ]
  },
  {
   "cell_type": "code",
   "execution_count": null,
   "id": "a257feb3",
   "metadata": {},
   "outputs": [],
   "source": [
    "energy = real(energies[end-100:end])\n",
    "print(\"The obtained energy is: $(round(mean(energy),digits=4)) +- $(round(std(energy)/10,digits=4))\")"
   ]
  }
 ],
 "metadata": {
  "kernelspec": {
   "display_name": "Julia 1.10.2",
   "language": "julia",
   "name": "julia-1.10"
  },
  "language_info": {
   "file_extension": ".jl",
   "mimetype": "application/julia",
   "name": "julia",
   "version": "1.10.2"
  }
 },
 "nbformat": 4,
 "nbformat_minor": 5
}
