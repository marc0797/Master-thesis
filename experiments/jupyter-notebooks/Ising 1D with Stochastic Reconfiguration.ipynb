{
 "cells": [
  {
   "cell_type": "markdown",
   "id": "e9ec5968-f095-4583-a40c-9aa0f24af3df",
   "metadata": {},
   "source": [
    "# Quantum Variational Monte Carlo Ising model in 1D using Stochastic Reconfiguration\n",
    "\n",
    "In this notebook we will try to find the optimal parameters of a trial wavefunction describing the 1D quantum Ising model with varying number of spins. The trial wavefunction has an RBM-like expression:\n",
    "$$\n",
    "    \\Psi(\\mathcal{S}) = e^{b^Ts}\\prod_{i=1}^{n_h}2\\cosh(c_i + W^T_is)\n",
    "$$\n",
    "where $n_h$ is the number of hidden units, and $\\mathbf{\\theta} = \\{\\mathbf{b},\\mathbf{c},\\textbf{W}\\}$ are our variational parameters. According to the variational method, this wavefunction will provide an upper bound to the ground state energy that we are trying to estimate:\n",
    "$$\n",
    "    E = \\frac{\\langle\\Psi|\\hat{H}|\\Psi\\rangle}{\\langle\\Psi|\\Psi\\rangle}\n",
    "$$\n",
    "where the Hamiltonian of the Transverse Field Ising model is:\n",
    "$$\n",
    "    \\hat{H} = -J\\sum_{i=1}^{N}\\hat{\\sigma}^z_i\\hat{\\sigma}^z_{i+1} -B\\sum_{j=1}^N\\hat{\\sigma}^x_j\n",
    "$$\n",
    "with periodic boundary conditions: $\\hat{\\sigma}^z_L\\hat{\\sigma}^z_{L+1} \\equiv \\hat{\\sigma}^z_L\\hat{\\sigma}^z_1$, and $\\hat{\\sigma}^z,\\hat{\\sigma}^x$ being the Pauli matrices acting on the spins, $J,B$ the coupling and the transverse magnetic field term, respectively.\n",
    "\n",
    "## Statistical Analysis and Autocorrelation Time\n",
    "\n",
    "Measurements in Markov chains are usually correlated to a certain degree. Though, correlation fades as the number of steps between measured states increases. The distance at which we can consider that two states are uncorrelated is called the **autocorrelation time** $\\tau$. However, finding the value analytically is too difficult, so we rely in the binning analysis of the time series to estimate $\\tau$.\n",
    "\n",
    "### Binning Analysis\n",
    "\n",
    "Assume that we do not have any prior knowledge about the autocorrelation time. Then, we have to use $N_B$ blocks of the time-series samples of increasing lengths $k=2^0,2^1,2^2,\\ldots$ until the error estimate for the block converges:\n",
    "$$\n",
    "    \\varepsilon \\approx \\sqrt{\\frac{s^2_B}{N_B}},\\quad\\text{where}\\quad s^2_B = \\frac{1}{N_B-1}\\sum_{i=1}^{N_B}(\\langle f\\rangle_{B_i} - \\langle f\\rangle_B)^2\n",
    "$$\n",
    "The $i$-th block average is computed as\n",
    "$$\n",
    "    \\langle f\\rangle_{B_i} = \\frac{1}{k}\\sum_{t=1}^kf(x_{(i-1)k+t})\n",
    "$$\n",
    "and the mean of all the block averages is\n",
    "$$\n",
    "    \\langle f\\rangle_B = \\frac{1}{N_B}\\sum_{i=1}\\langle f\\rangle_{B_i}\n",
    "$$\n",
    "\n",
    "The integrated autocorrelation time can be inferred from the binning analysis results. Being\n",
    "$$\n",
    "    \\tau = \\frac{1}{2}\\frac{\\frac{s^2_B}{N_B}(k\\to\\infty)}{\\frac{s^2_B}{N_B}(k=1)}\n",
    "$$\n",
    "\n",
    "## Stochastic Reconfiguration\n",
    "\n",
    "In order to find the optimal configuration of parameters which minimizes the energy, we will use stochastic reconfiguration of the gradients:\n",
    " - Starting from a random initial configuration of the parameters.\n",
    " - Proposing a new state $s\\to s'$.\n",
    " - Accepting the change with probability $|\\Psi(s')|^2/|\\Psi(s)|^2$.\n",
    " - Updating the parameters in our wavefunction as follows:\n",
    "$$\n",
    "    \\theta^{(t+1)}_k = \\theta^{(t)}_k - \\delta t\\textbf{S}^{-1}\\textbf{F}\n",
    "$$\n",
    "where we define $\\textbf{S}$ as the Fubini-Study metric information matrix\n",
    "$$\n",
    "    S_{kk'} = \\langle\\Delta^*_k\\Delta_{k'}\\rangle - \\langle\\Delta^*_k\\rangle\\langle\\Delta_{k'}\\rangle\n",
    "$$\n",
    "to which we can add an extra regularization term to increase stability, by removing the null diagonal terms $S_{kk} \\leftarrow S_{kk} + \\lambda$. We also define $\\Delta_k$ as the log-derivative of the k-th parameter, and $\\textbf{F}$ as the gradient of the mean energy\n",
    "$$\n",
    "    F_k = \\langle E_{\\text{loc}}\\Delta^*_k\\rangle - \\langle E_{\\text{loc}}\\rangle\\langle\\Delta^*_k\\rangle\n",
    "$$\n",
    "To find the ground state of the Hamiltonian, we need to calculate the variational derivatives of the parameters in our RBM ansatz:\n",
    "$$\n",
    "    \\Delta_{b_j}(s) = \\frac{\\partial}{\\partial b_j}\\log(\\Psi(s)) = s_j\n",
    "$$\n",
    "$$\n",
    "    \\Delta_{c_i}(s) = \\frac{\\partial}{\\partial c_i}\\log(\\Psi(s)) = \\tanh(c_i + \\sum_{j=1}^{N}\\omega_{ij}s_j)\n",
    "$$\n",
    "$$\n",
    "    \\Delta_{\\omega_{ij}}(s) = \\frac{\\partial}{\\partial \\omega_{ij}}\\log(\\Psi(s)) = s_j\\tanh(c_i + \\sum_{j=1}^{N}\\omega_{ij}s_j)\n",
    "$$"
   ]
  },
  {
   "cell_type": "markdown",
   "id": "67063077-eb0a-43f5-bf9c-9c9f989f93e6",
   "metadata": {},
   "source": [
    "### Libraries"
   ]
  },
  {
   "cell_type": "code",
   "execution_count": 1,
   "id": "a404bf4f-034c-41fb-93da-4654520f2056",
   "metadata": {},
   "outputs": [],
   "source": [
    "import numpy as np\n",
    "from scipy.linalg import eigh\n",
    "import matplotlib.pyplot as plt\n",
    "from copy import deepcopy\n",
    "from tqdm import tqdm"
   ]
  },
  {
   "cell_type": "markdown",
   "id": "4b9a11a7-cc20-4d3c-81fe-52c29c32cff9",
   "metadata": {},
   "source": [
    "### RBM Class Definition"
   ]
  },
  {
   "cell_type": "code",
   "execution_count": 2,
   "id": "c57ae5ad-f706-4270-9d99-eaaf682c4822",
   "metadata": {},
   "outputs": [],
   "source": [
    "class RBM:\n",
    "    def __init__(self, num_visible, num_hidden, sigma=0.01):\n",
    "        self.n_visible = num_visible\n",
    "        self.n_hidden = num_hidden\n",
    "        self.initialise_parameters(sigma)\n",
    "\n",
    "    def initialise_parameters(self,sigma):\n",
    "        ## Initializes parameters as random complex valued gaussians\n",
    "        b = np.random.randn(self.n_visible) + 1j*np.random.randn(self.n_visible)\n",
    "        c = np.random.randn(self.n_hidden) + 1j*np.random.randn(self.n_hidden)\n",
    "        W = (np.random.randn(self.n_hidden,self.n_visible) + \n",
    "                1j*np.random.randn(self.n_hidden,self.n_visible))\n",
    "        self.params = sigma*np.concatenate((b,c,W.ravel()))\n",
    "\n",
    "    # Define b, c, W as properties in order to avoid accidentally modifying them\n",
    "    # while getting their values\n",
    "    @property\n",
    "    def b(self):\n",
    "        return self.params[:self.n_visible]\n",
    "\n",
    "    @property\n",
    "    def c(self):\n",
    "        return self.params[self.n_visible:self.n_visible+self.n_hidden]\n",
    "\n",
    "    @property\n",
    "    def W(self):\n",
    "        return np.reshape(self.params[self.n_visible+self.n_hidden:], \n",
    "                          (self.n_hidden, self.n_visible))\n",
    "\n",
    "    def wavefunction(self,s):\n",
    "        ## Projection of the wavefunction onto state s\n",
    "        p = np.exp(self.b @ s)*np.prod(np.cosh(self.c + self.W @ s))*2**self.n_hidden\n",
    "        return p\n",
    "    \n",
    "    def p_ratio(self, s1, s2):\n",
    "        ## Probability ratio between state s2 and reference state s1\n",
    "        p1 = np.cosh(self.c + self.W @ s1)\n",
    "        p2 = np.cosh(self.c + self.W @ s2)\n",
    "        log_diff = self.b @ (s2 - s1) + sum(np.log(p2/p1)) # log of ratio for numerical stability\n",
    "        return np.exp(log_diff)\n",
    "        \n",
    "    def p_ratios(self, s1, s2):\n",
    "        ## Probability ratios between list of states s2 and reference state s1\n",
    "        return [self.p_ratio(s1, s) for s in s2]"
   ]
  },
  {
   "cell_type": "markdown",
   "id": "a97156ad-b521-4978-92c0-c3834e5c6de1",
   "metadata": {},
   "source": [
    "### Useful Functions"
   ]
  },
  {
   "cell_type": "code",
   "execution_count": 3,
   "id": "eed88c00-d64c-4ee9-813e-5ce798e34680",
   "metadata": {},
   "outputs": [],
   "source": [
    "def local_energy(s, psi, pbc=True,J=2,B=1):\n",
    "    ## Local energy of TFI model\n",
    "    # Interaction term\n",
    "    couplings = (s[:-1]==s[1:])*2-1\n",
    "    e_interaction = -J*sum(couplings)\n",
    "\n",
    "    # Add Periodic Boundary Conditions\n",
    "    if pbc:\n",
    "        e_interaction -= J*((s[-1]==s[0])*2-1)\n",
    "    \n",
    "    # Transverse field\n",
    "    states_with_flip = [flip(s, i) for i in range(len(s))]\n",
    "    e_field = -B*sum(psi.p_ratios(s, states_with_flip))\n",
    "\n",
    "    return e_interaction + e_field \n",
    "    \n",
    "def flip(s, i):\n",
    "    ## Flips i-th spin of state s\n",
    "    s_flip = deepcopy(s)\n",
    "    s_flip[i] = 1 - s_flip[i]\n",
    "    return s_flip\n",
    "\n",
    "def bin_averages(x,block_size):\n",
    "    ## Bins time-series x into bs chunks and takes means\n",
    "    N_B = len(x)//block_size\n",
    "    bin_avg = [np.mean(x[block*block_size:(block+1)*block_size]) for block in range(N_B)]\n",
    "    return np.array(bin_avg)\n",
    "\n",
    "def variational_derivative(s, psi):\n",
    "    ## Variational log-derivatives for SR\n",
    "    theta = psi.c + psi.W @ s\n",
    "    Ob = s\n",
    "    Oc = np.tanh(theta)\n",
    "    Ow = Oc[:, None] @ s[None, :]\n",
    "    return np.concatenate((Ob, Oc, Ow.ravel()))\n",
    "\n",
    "def covariance(s1, s2):\n",
    "    ## Computes the covariance between states s1 and s2.\n",
    "    samples = s1.shape[1]\n",
    "    m1 = np.mean(s1, axis=1)\n",
    "    m2 = np.mean(s2, axis=1) if len(s2.shape)>1 else np.mean(s2)\n",
    "    return (s1 @ s2.T)/samples - m1[:,None] @ m2[None,:]\n",
    "\n",
    "def sample_block(psi, block_size, s0=None, n_flips=1):\n",
    "    ## Sample block_size states according to psi.\n",
    "    state = np.random.randint(0, 2, psi.n_visible) if s0 is None else s0\n",
    "    states = []\n",
    "    for _ in range(block_size):\n",
    "        spin_idx = np.random.randint(0, psi.n_visible, n_flips)\n",
    "        new_state = flip(state, spin_idx)\n",
    "        if np.random.random() <= np.abs(psi.p_ratio(state, new_state))**2:\n",
    "            state = deepcopy(new_state)   # Accept new state   \n",
    "        states.append(state)\n",
    "    return states\n",
    "\n",
    "def PauliMatrices():\n",
    "    # Return the Pauli matrices spin operators\n",
    "    sigma_x = np.array([[0, 1], [1, 0]])\n",
    "    sigma_z = np.array([[1, 0], [0, -1]])\n",
    "    return sigma_x, sigma_z\n",
    "\n",
    "def eye(n):\n",
    "    # Calculate the identity matrix for a given number of spins\n",
    "    if n == 0:\n",
    "        return 1\n",
    "    if n == 1:\n",
    "        return np.array([[1, 0], [0, 1]])\n",
    "    elif n % 2 == 0:\n",
    "        m = n//2\n",
    "        return np.kron(eye(m),eye(m))\n",
    "    else:\n",
    "        m = n//2\n",
    "        return np.kron(np.kron(eye(m),eye(m)),eye(1))\n",
    "\n",
    "def Hamiltonian(N, J, B):\n",
    "    sigma_x, sigma_z = PauliMatrices()\n",
    "    H = np.zeros((2**N, 2**N))\n",
    "    for i in range(N-1):\n",
    "        H -= J*np.kron(eye(i),np.kron(sigma_z,np.kron(sigma_z,eye(N-i-2))))\n",
    "    for i in range(N):\n",
    "        H -= B*np.kron(eye(i),np.kron(sigma_x,eye(N-i-1)))\n",
    "    # Add boundary conditions\n",
    "    if N >= 2:\n",
    "        H -= J*np.kron(sigma_z,np.kron(eye(N-2),sigma_z))\n",
    "    return H\n",
    "\n",
    "def diagonalizeHamiltonian(H,print_output=False):\n",
    "    # The exact solutions of the eigenvalue problem\n",
    "    eigenvalues, eigenvectors = eigh(H)\n",
    "    eigenvectors = np.transpose(eigenvectors)\n",
    "    \n",
    "    # Print eigenvalues\n",
    "    if print_output:\n",
    "        for i in range(len(eigenvalues)):\n",
    "            print(\"Eigenvalue:\",eigenvalues[i])\n",
    "            print(\"Eigenvectors:\")\n",
    "            print(eigenvectors[i])\n",
    "            print(\"\\n\")\n",
    "    return eigenvalues, eigenvectors"
   ]
  },
  {
   "cell_type": "markdown",
   "id": "47db0b02-209f-4970-954d-663acc8e603c",
   "metadata": {},
   "source": [
    "### Example: Monte Carlo RBM wavefunction"
   ]
  },
  {
   "cell_type": "code",
   "execution_count": 4,
   "id": "3ce67daa-ce8c-4d43-a346-4c02cc9f65a4",
   "metadata": {},
   "outputs": [],
   "source": [
    "np.random.seed(7) # Lucky number\n",
    "\n",
    "# Number of spins\n",
    "n = 4\n",
    "\n",
    "# Hamiltonian terms\n",
    "J, B = 2, 1\n",
    "\n",
    "# Initialising RBM\n",
    "n_visible, n_hidden = n, 2*n\n",
    "psi = RBM(n_visible, n_hidden, sigma=0.1)"
   ]
  },
  {
   "cell_type": "raw",
   "id": "d77f5008-a40a-4bb7-bfa8-388a5395014d",
   "metadata": {},
   "source": [
    "# Parameters for Monte Carlo\n",
    "N_samples = 100000\n",
    "N_flips = 1\n",
    "\n",
    "# Initial random state [0,1]^n\n",
    "state = np.random.randint(0, 2, n)\n",
    "states, energies = [], []\n",
    "\n",
    "for k in tqdm(range(N_samples)):\n",
    "    # Sample new state (flipping spin at random)\n",
    "    spin_idx = np.random.randint(0, n, N_flips) \n",
    "    new_state = flip(state, spin_idx)\n",
    "\n",
    "    # Accept new state according to acceptance probability\n",
    "    if np.random.random() <= np.abs(psi.p_ratio(state, new_state))**2:\n",
    "        state = deepcopy(new_state)\n",
    "    states.append(state)\n",
    "    energies.append(np.real(local_energy(state, psi)))\n",
    "\n",
    "# Calculating autocorrelation time\n",
    "k_lengths = [2**k for k in range(12)]\n",
    "errors, means, bin_avgs = [], [], []\n",
    "\n",
    "for k in k_lengths:\n",
    "    bin_avg = bin_averages(energies, k)\n",
    "    error = np.sqrt(np.var(bin_avg)/len(bin_avg))\n",
    "    errors.append(error)\n",
    "    means.append(bin_avg.mean())\n",
    "    bin_avgs.append(bin_avg)\n",
    "\n",
    "# Plotting the autocorrelation error\n",
    "plt.figure(figsize=(12, 5))\n",
    "plt.plot(k_lengths, np.array(errors)**2, 'o-')\n",
    "plt.grid()\n",
    "plt.tick_params(labelsize=15)\n",
    "plt.ylabel(r\"$s_B^2/N_B$\", fontsize=20)\n",
    "plt.xlabel(\"Bin size\", fontsize=20);"
   ]
  },
  {
   "cell_type": "markdown",
   "id": "5f141fa8-23c1-4a15-945f-25ae364ba387",
   "metadata": {},
   "source": [
    "We can see that the squared error converges for a bin size of $\\sim100$. When the bin size is too large, the number of blocks in which we can divide our time-series becomes too small and that leads to statistical fluctuations.\n",
    "\n",
    "Also, flipping only one spin at each iteration implies that for low number of spins (e.g., $n = 2-4$), the autocorrelation between one state and the next is much lower than flipping only one spin for large number of spins (e.g., $n = 20$). In other words, this calculation (or its estimation) only makes sense for $n$ sufficiently large."
   ]
  },
  {
   "cell_type": "raw",
   "id": "e9811f7f-ed06-418d-a596-8380e408b746",
   "metadata": {},
   "source": [
    "tau = (errors[-5]/errors[0])**2;\n",
    "print(\"Autocorrelation time:\",tau)"
   ]
  },
  {
   "cell_type": "code",
   "execution_count": 5,
   "id": "2a6d6158-7273-410e-92d6-9bc07ff324c2",
   "metadata": {},
   "outputs": [
    {
     "name": "stderr",
     "output_type": "stream",
     "text": [
      "100%|████████████████████████████████████████████████████████████████████████████████| 375/375 [00:38<00:00,  9.65it/s]\n"
     ]
    }
   ],
   "source": [
    "# Parameters for Stochastic Reconfiguration\n",
    "learning_iterations = 375\n",
    "lr = 1e-2\n",
    "n_blocks = 150\n",
    "thermalise = int(0.1*n_blocks)\n",
    "N_B = n_blocks - thermalise\n",
    "block_size = 10\n",
    "n_flips = 1\n",
    "energies = []\n",
    "\n",
    "for it in tqdm(range(learning_iterations)):\n",
    "    EL, O = np.zeros(N_B, dtype=complex), np.zeros((len(psi.params), N_B), dtype=complex)\n",
    "    states = sample_block(psi, thermalise*block_size, n_flips=n_flips)\n",
    "    state = states[-1]\n",
    "    for k in range(N_B):\n",
    "        batch = sample_block(psi, block_size, s0=state, n_flips=n_flips)\n",
    "        states += batch\n",
    "        state = batch[-1]\n",
    "        EL[k] = local_energy(state, psi,J=J,B=B)\n",
    "        O[:, k] = variational_derivative(state, psi)\n",
    "    \n",
    "    energies.append(EL.mean())\n",
    "    F = covariance(O.conj(), EL[None,:])   # Gradient\n",
    "    S = covariance(O.conj(), O)            # Fisher info\n",
    "    Sinv = np.linalg.pinv(S, rcond=1e-5)   # (pseudo)Inversion\n",
    "    d_params = lr*Sinv @ F\n",
    "    psi.params -= d_params.squeeze()"
   ]
  },
  {
   "cell_type": "markdown",
   "id": "aab03dfd-2891-49e3-9bb9-d51d4c84ebc1",
   "metadata": {},
   "source": [
    "### Energy evolution plot"
   ]
  },
  {
   "cell_type": "code",
   "execution_count": 6,
   "id": "9181f366-a2ff-4da7-a8f1-0eb1efa68e4d",
   "metadata": {},
   "outputs": [
    {
     "data": {
      "image/png": "[encoded data removed]",
      "text/plain": [
       "<Figure size 1200x500 with 1 Axes>"
      ]
     },
     "metadata": {},
     "output_type": "display_data"
    }
   ],
   "source": [
    "plt.figure(figsize=(12, 5))\n",
    "plt.plot(np.real(energies))\n",
    "plt.grid()\n",
    "plt.tick_params(labelsize=15)\n",
    "plt.ylabel(r\"$\\langle H\\rangle$\", fontsize=20)\n",
    "plt.xlabel(\"Learning iteration\", fontsize=20);"
   ]
  },
  {
   "cell_type": "markdown",
   "id": "428735b5-5408-4810-aad5-fe790d2c9a81",
   "metadata": {},
   "source": [
    "### Energy samples"
   ]
  },
  {
   "cell_type": "code",
   "execution_count": 7,
   "id": "b9720a79-cdc6-46a2-ab12-ad0a5fc9c5de",
   "metadata": {},
   "outputs": [
    {
     "data": {
      "image/png": "[encoded data removed]",
      "text/plain": [
       "<Figure size 1200x500 with 1 Axes>"
      ]
     },
     "metadata": {},
     "output_type": "display_data"
    }
   ],
   "source": [
    "plt.figure(figsize=(12, 5))\n",
    "plt.plot(np.real(EL))\n",
    "plt.grid()\n",
    "plt.tick_params(labelsize=15)\n",
    "plt.ylabel(r\"$E_L$\", fontsize=20)\n",
    "plt.xlabel(\"Sample\", fontsize=20);"
   ]
  },
  {
   "cell_type": "code",
   "execution_count": 8,
   "id": "09ac2608-a695-4b21-9a9b-96a3a711b5c9",
   "metadata": {},
   "outputs": [
    {
     "name": "stdout",
     "output_type": "stream",
     "text": [
      "The obtained energy is -8.542929+-0.000351\n"
     ]
    }
   ],
   "source": [
    "bins = 100\n",
    "energy = np.mean(np.real(energies[-bins:]))\n",
    "statistical_error = np.std(energies[-bins:])/np.sqrt(bins)\n",
    "print(f\"The obtained energy is {energy:.6f}+-{statistical_error:.6f}\")"
   ]
  },
  {
   "cell_type": "markdown",
   "id": "27cf471b-aec9-489c-b878-e1ea363f8b04",
   "metadata": {},
   "source": [
    "### Exact ground state and energy\n",
    "\n",
    "In this case, we can diagonalize the Hamiltonian to obtain both the ground state and its eigenenergy."
   ]
  },
  {
   "cell_type": "code",
   "execution_count": 9,
   "id": "bebf9bd0-8641-42f2-a9e7-61c730b1f27a",
   "metadata": {},
   "outputs": [
    {
     "name": "stdout",
     "output_type": "stream",
     "text": [
      "Exact Energy: -8.543117\n",
      "Error: 0.00220\n"
     ]
    }
   ],
   "source": [
    "H = Hamiltonian(n,J,B)\n",
    "# Compare with real ground state energy\n",
    "eigenenergies, eigenvectors = diagonalizeHamiltonian(H)\n",
    "\n",
    "print(\"Exact Energy: %.6f\" % np.real(eigenenergies[0]))\n",
    "print(\"Error: %.5f\" % np.real((eigenenergies[0] - energy)/eigenenergies[0]*100))"
   ]
  },
  {
   "cell_type": "markdown",
   "id": "dad94595-0dd1-4294-825b-abc2d0719c47",
   "metadata": {},
   "source": [
    "### Magnetization of the ground state\n",
    "\n",
    "We can compare the (longitudinal/transversal) magnetization of the exact ground state with the mean of the sampled state found with Stochastic Reconfiguration. For that, we simply calculate\n",
    "$$\n",
    "    m_z = \\sqrt{\\langle(\\hat{\\sigma}^z)^2\\rangle} = \\sqrt{\\langle\\psi_0|(\\tfrac{1}{N}\\textstyle\\sum_{i=1}^N\\hat{\\sigma}^z_i)^2|\\psi_0\\rangle}\n",
    "$$\n",
    "$$\n",
    "    m_x = \\sqrt{\\langle(\\hat{\\sigma}^x)^2\\rangle} = \\sqrt{\\langle\\psi_0|(\\tfrac{1}{N}\\textstyle\\sum_{i=1}^N\\hat{\\sigma}^x_i)^2|\\psi_0\\rangle}\n",
    "$$\n",
    "Another way of calculating the exact magnetization, would be to consider large $N$ (or $N\\to\\infty$), for which the magnetizations simply become:\n",
    "$$\n",
    "    m_z = \\sqrt{\\rho^z_N} = \\sqrt{\\langle\\psi_0|\\hat{\\sigma}^z_i\\hat{\\sigma}^z_{i+N}|\\psi_0\\rangle} = \\left(1 - \\frac{B^2}{J^2}\\right)^{1/8}\n",
    "$$\n",
    "if $B < J$, and $0$ otherwise. For the transversal magnetization, we have:\n",
    "$$\n",
    "    m_x = \\frac{1}{\\pi}\\int_0^{\\pi}\\left(\\frac{B + J\\cos{k}}{\\sqrt{J^2 + B^2 + 2JB\\cos{k}}}\\right)\\text{d}k\n",
    "$$\n",
    "Now we would only need a way of comparing these values with our found solution with Stochastic Reconfiguration.\n",
    "\n",
    "When the number of spins is small enough ($N\\lesssim20$), we can calculate the projections of our RBM wavefunction onto the spin basis as\n",
    "$$\n",
    "    \\braket{\\mathcal{S}|\\Psi_{\\mathbf\\theta}} = \\begin{pmatrix} \\Psi_{\\mathbf\\theta}(s_1) & \\Psi_{\\mathbf\\theta}(s_2) & \\ldots & \\Psi_{\\mathbf\\theta}(s_{2^N-1}) & \\Psi_{\\mathbf\\theta}(s_{2^N}) \\end{pmatrix}^\\intercal\n",
    "$$\n",
    "\n",
    "For higher number of spins, the probability density of the ground state can be approximated with a Monte Carlo sampling with the optimized parameters $\\mathbf{\\theta} = \\{\\mathbf{b},\\mathbf{c},\\textbf{W}\\}$, given enough samples:\n",
    "$$\n",
    "    |\\psi_0|^2\\sim\\frac{1}{N_{\\text{samples}}}\\sum_{i=1}^{N_{\\text{samples}}}\\langle\\mathcal{S}|\\Psi_{\\theta}\\rangle\n",
    "$$\n",
    "Which, can be used to approximate the longitudinal magnetization, since it is diagonal in our spin basis $\\mathcal{S}$:\n",
    "$$\n",
    "    m_z = \\sqrt{\\psi'_0\\cdot(\\sigma^z)^2\\cdot\\psi_0} = \\text{diag}(\\sigma^z)\\cdot|\\psi_0|\n",
    "$$\n",
    "but not the transversal magnetization because it is not diagonal in the same spin basis."
   ]
  },
  {
   "cell_type": "code",
   "execution_count": 10,
   "id": "5eec1513-eef5-4594-bbc8-179b5e3210ab",
   "metadata": {},
   "outputs": [],
   "source": [
    "def spin_basis(N):\n",
    "    result = []\n",
    "    for i in range(2 ** N - 1,-1,-1):\n",
    "        binary_str = format(i, f'0{N}b')\n",
    "        binary_array = [int(bit) for bit in binary_str]\n",
    "        result.append(binary_array)\n",
    "    return result\n",
    "\n",
    "def buildMagnetizations(N):\n",
    "    # Build the magnetization matrices\n",
    "    sigma_x, sigma_z = PauliMatrices()\n",
    "    \n",
    "    Mz = np.zeros((2**N, 2**N))\n",
    "    Mx = np.zeros((2**N, 2**N))\n",
    "    \n",
    "    # Mx_list is used for magnetic susceptibility\n",
    "    Mx_list = []\n",
    "    for i in range(N):\n",
    "        Mz += np.kron(eye(i),np.kron(sigma_z,eye(N-i-1)))/N\n",
    "        Mx_list.append(np.kron(eye(i),np.kron(sigma_x,eye(N-i-1)))/N)\n",
    "        Mx += Mx_list[i]\n",
    "    return Mz, Mx, Mx_list\n",
    "\n",
    "def FubiniStudy(psi,phi):\n",
    "    return np.arccos(np.sqrt(psi.conj().T @ phi * phi.conj().T @ psi))"
   ]
  },
  {
   "cell_type": "code",
   "execution_count": 13,
   "id": "c3d98aea-13e0-4f29-a651-fccd6bc70edc",
   "metadata": {},
   "outputs": [
    {
     "name": "stdout",
     "output_type": "stream",
     "text": [
      "Exact ground state: [0.67950056 0.09226205 0.09226205 0.04319831 0.09226205 0.02230826\n",
      " 0.04319831 0.09226205 0.09226205 0.04319831 0.02230826 0.09226205\n",
      " 0.04319831 0.09226205 0.09226205 0.67950056]\n",
      "RBM ground state: [0.72733193-0.08357801j 0.09797626-0.0109044j  0.09789919-0.01086289j\n",
      " 0.04338141-0.00375642j 0.09794513-0.01097569j 0.02277771-0.00233122j\n",
      " 0.04299545-0.00389081j 0.08533726-0.00578614j 0.09802622-0.01080786j\n",
      " 0.0435917 -0.00382916j 0.02284126-0.00174528j 0.08531699-0.00575392j\n",
      " 0.04310574-0.00397493j 0.08530895-0.00579825j 0.08521878-0.00570935j\n",
      " 0.62112384-0.03893912j]\n",
      "Distance between states: (0.08383503293250333-5.197344931257849e-17j)\n",
      "Distance between states: (4.803393562372706-2.977859292347857e-15j)\n"
     ]
    }
   ],
   "source": [
    "# Generate the spin basis\n",
    "spins = np.array(spin_basis(n))\n",
    "\n",
    "# Calculate the projections of our wavefunction onto the spin basis\n",
    "ket_psi = np.array([psi.wavefunction(spins[i]) for i in range(len(spins))])\n",
    "ket_psi /= np.sqrt(ket_psi.conj().T @ ket_psi)\n",
    "\n",
    "print(\"Exact ground state:\",eigenvectors[0])\n",
    "print(\"RBM ground state:\",ket_psi)\n",
    "print(\"Distance between states:\",FubiniStudy(eigenvectors[0],ket_psi))\n",
    "print(\"Distance between states:\",FubiniStudy(eigenvectors[0],ket_psi)*180/np.pi)"
   ]
  },
  {
   "cell_type": "code",
   "execution_count": null,
   "id": "9c236a2b-f865-40cc-89b4-a43fe2440b2d",
   "metadata": {
    "scrolled": true
   },
   "outputs": [],
   "source": [
    "# Calculate magnetizations\n",
    "Mz, Mx, Mx_list = buildMagnetizations(n)\n",
    "\n",
    "# Approximate magnetization\n",
    "mz_aprox = np.sqrt(ket_psi.conj().T @ Mz**2 @ ket_psi)\n",
    "mx_aprox = np.sqrt(ket_psi.conj().T @ Mx**2 @ ket_psi)\n",
    "\n",
    "# Exact magnetization\n",
    "mz_exact = np.sqrt(eigenvectors[0].conj().T @ Mz**2 @ eigenvectors[0])\n",
    "mx_exact = np.sqrt(eigenvectors[0].conj().T @ Mx**2 @ eigenvectors[0])\n",
    "\n",
    "# Print relative errors\n",
    "print(\"Longitudinal magnetization error: %.5f\" % np.abs((mz_exact - mz_aprox)/mz_exact*100))\n",
    "print(\"Transversal magnetization error: %.5f\" % np.abs((mx_exact - mx_aprox)/mx_exact*100))"
   ]
  },
  {
   "cell_type": "markdown",
   "id": "6885158f-f57d-4360-899d-208cb6e37d45",
   "metadata": {},
   "source": [
    "The errors of the magnetizations are very low, meaning that the ground state that we found is quite similar to the exact ground state of the problem."
   ]
  },
  {
   "cell_type": "markdown",
   "id": "204469fa-e327-4fbd-a257-d0c40cc62f62",
   "metadata": {},
   "source": [
    "### Magnetic Susceptibility\n",
    "\n",
    "The magnetic susceptibility of the ground state can be found from the covariance of $\\hat{\\sigma}^x$:\n",
    "$$\n",
    "    \\chi = \\sum_{i,j=1}^{N}\\braket{\\sigma^x_i\\sigma^x_j} - \\braket{\\sigma^x_i}\\braket{\\sigma^x_j}\n",
    "$$\n",
    "where $\\braket{\\sigma^x_i} = \\tfrac{1}{N}\\braket{\\psi_0|\\mathbb{I}_{i-1}\\sigma^x_i\\mathbb{I}_{N-i}|\\psi_0}$"
   ]
  },
  {
   "cell_type": "code",
   "execution_count": null,
   "id": "cf9a9ef7-f6ba-4827-97fb-70763f91bc44",
   "metadata": {},
   "outputs": [],
   "source": [
    "mag_sus_aprox = zeros(N)\n",
    "mag_sus_exact = zeros(N)\n",
    "for i in range(N):\n",
    "    # Approximate value\n",
    "    mag_sus_aprox[i] = ket_psi.conj().T @ Mx_list[i] @ ket_psi\n",
    "\n",
    "    # Exact value\n",
    "    mag_sus_exact[i] = eigenvectors[0].conj().T @ Mx_list[i] @ eigenvectors[0]\n",
    "\n",
    "# Calculate covariance"
   ]
  }
 ],
 "metadata": {
  "kernelspec": {
   "display_name": "Python 3 (ipykernel)",
   "language": "python",
   "name": "python3"
  },
  "language_info": {
   "codemirror_mode": {
    "name": "ipython",
    "version": 3
   },
   "file_extension": ".py",
   "mimetype": "text/x-python",
   "name": "python",
   "nbconvert_exporter": "python",
   "pygments_lexer": "ipython3",
   "version": "3.11.5"
  }
 },
 "nbformat": 4,
 "nbformat_minor": 5
}
