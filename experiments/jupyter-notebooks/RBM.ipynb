{
 "cells": [
  {
   "cell_type": "markdown",
   "id": "bf72a24b-2371-44db-a246-526387a48f14",
   "metadata": {},
   "source": [
    "# RBM Class implementation:\n",
    "A simple Restricted Boltzmann Machine class implementation with complex parameters in Python."
   ]
  },
  {
   "cell_type": "markdown",
   "id": "77e700bd-1c54-40c2-875c-b2444953a033",
   "metadata": {},
   "source": [
    "### Libraries"
   ]
  },
  {
   "cell_type": "code",
   "execution_count": 1,
   "id": "3cff9051-1f79-47bd-a4dd-c610fd78f9f3",
   "metadata": {},
   "outputs": [],
   "source": [
    "import numpy as np\n",
    "from copy import deepcopy as dc"
   ]
  },
  {
   "cell_type": "markdown",
   "id": "93006143-f984-4c10-96c2-974b204274cf",
   "metadata": {},
   "source": [
    "### Class"
   ]
  },
  {
   "cell_type": "code",
   "execution_count": 2,
   "id": "62dd7176-838f-4226-95ae-772981134798",
   "metadata": {},
   "outputs": [],
   "source": [
    "class RBM:\n",
    "    def __init__(self, num_visible, num_hidden):\n",
    "        self.n_visible = num_visible\n",
    "        self.n_hidden = num_hidden\n",
    "        self.initialise_parameters()\n",
    "\n",
    "    def initialise_parameters(self,sigma=0.01):\n",
    "        # Initializes parameters as random complex valued gaussians\n",
    "        b = np.random.randn(self.n_visible) + 1j*np.random.randn(self.n_visible)\n",
    "        c = np.random.randn(self.n_hidden) + 1j*np.random.randn(self.n_hidden)\n",
    "        W = (np.random.randn(self.n_hidden,self.n_visible) + \n",
    "                1j*np.random.randn(self.n_hidden,self.n_visible))\n",
    "        self.params = sigma*np.concatenate((b,c,W.ravel()))\n",
    "\n",
    "    # Define b, c, W as properties in order to avoid accidentally modifying them\n",
    "    # while getting their values\n",
    "    @property\n",
    "    def b(self):\n",
    "        return self.params[:self.n_visible]\n",
    "\n",
    "    @property\n",
    "    def c(self):\n",
    "        return self.params[self.n_visible:self.n_visible+self.n_hidden]\n",
    "\n",
    "    @property\n",
    "    def W(self):\n",
    "        return np.reshape(self.params[self.n_visible+self.n_hidden:], \n",
    "                          (self.n_hidden, self.n_visible))\n",
    "        "
   ]
  }
 ],
 "metadata": {
  "kernelspec": {
   "display_name": "Python 3 (ipykernel)",
   "language": "python",
   "name": "python3"
  },
  "language_info": {
   "codemirror_mode": {
    "name": "ipython",
    "version": 3
   },
   "file_extension": ".py",
   "mimetype": "text/x-python",
   "name": "python",
   "nbconvert_exporter": "python",
   "pygments_lexer": "ipython3",
   "version": "3.11.5"
  }
 },
 "nbformat": 4,
 "nbformat_minor": 5
}
