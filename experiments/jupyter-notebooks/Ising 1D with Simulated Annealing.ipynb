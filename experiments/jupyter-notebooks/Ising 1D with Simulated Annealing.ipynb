{
 "cells": [
  {
   "cell_type": "markdown",
   "id": "7dca5da3-919c-48b4-97dc-67218609ff65",
   "metadata": {},
   "source": [
    "# Quantum Variational Monte Carlo Ising model in 1D using Simulated Annealing\n",
    "\n",
    "In this notebook we will try to find the optimal parameters of a trial wavefunction describing the 1D quantum Ising model for bosons with varying number of spins. The trial wavefunction has an RBM-like expression:\n",
    "$$\n",
    "    \\Psi(\\mathcal{S}) = e^{b^Ts}\\prod_{i=1}^{n_h}2\\cosh(c_i + W^T_is)\n",
    "$$\n",
    "where $n_h$ is the number of hidden units. For bosons, we require some additional conditions that the wavefunction must fulfill, specifically the symmetry under the exchange of any pair of spins requires that all visible bias must be the same $b_j = b,\\,j=1,\\ldots,n_v$ and the weights connecting the visible layer to each hidden unit must also be equal to each other $\\omega_{ij} = \\omega_i,\\,j=1,\\ldots,n_h$. With this, the previous expression changes to\n",
    "$$\n",
    "    \\Psi(\\mathcal{S}) = e^{b\\sum_js_j}\\prod_{i=1}^{n_h}2\\cosh(c_i + w_i\\sum_{j=1}^{n_v}s_j)\n",
    "$$\n",
    "which simplifies a bit the exploration of parameters. According to the variational method, this wavefunction will provide an upper bound to the ground state energy that we are trying to estimate:\n",
    "$$\n",
    "    E = \\frac{\\langle\\Psi|\\hat{H}|\\Psi\\rangle}{\\langle\\Psi|\\Psi\\rangle}\n",
    "$$\n",
    "where the Hamiltonian of the Transverse Field Ising model is:\n",
    "$$\n",
    "    \\hat{H} = -J\\sum_{i=1}^{N-1}\\hat{\\sigma}^z_i\\hat{\\sigma}^z_{i+1} -B\\sum_{j=1}^N\\hat{\\sigma}^x_j\n",
    "$$\n",
    "$\\hat{\\sigma}^z,\\hat{\\sigma}^x$ being the Pauli matrices acting on the spins, $J,B$ the coupling and the transverse magnetic field term, respectively.\n",
    "\n",
    "## Simulated Annealing\n",
    "\n",
    "In order to find the optimal configuration of parameters which minimizes the energy, we will use a simulated annealing method: \n",
    " - Starting from a random initial configuration of the parameters.\n",
    " - Proposing a new set of parameters $\\theta\\to\\theta'$.\n",
    " - Accepting the change with probability $P(\\theta')/P(\\theta)$. Where the PDF is $P(\\theta) = \\text{exp}(E(\\theta)/T)$, $T$ being a fictitious temperature.\n",
    " - Cooling down the temperature by a factor $\\gamma$ each iteration: $T := T\\times\\gamma$."
   ]
  },
  {
   "cell_type": "markdown",
   "id": "4d897530-4dbf-4ccd-b01c-f90946e05b29",
   "metadata": {},
   "source": [
    "### Libraries"
   ]
  },
  {
   "cell_type": "code",
   "execution_count": 1,
   "id": "2e11fa07-fd72-403a-9f92-0e5e899b39d6",
   "metadata": {},
   "outputs": [],
   "source": [
    "import numpy as np\n",
    "from copy import deepcopy\n",
    "from tqdm import tqdm\n",
    "import matplotlib.pyplot as plt\n",
    "from RBM import RBM\n",
    "import Ising1D as tfi"
   ]
  },
  {
   "cell_type": "markdown",
   "id": "3848529e-ba01-4527-bce5-7e5c3fec2053",
   "metadata": {},
   "source": [
    "### Simulated annealing process"
   ]
  },
  {
   "cell_type": "code",
   "execution_count": 2,
   "id": "7261be35-0989-4d73-a1a9-7248b67767ef",
   "metadata": {},
   "outputs": [],
   "source": [
    "def simulatedAnnealing(rbm,H,N_iter=1000,thermalise=10,T0=10.0,gamma=0.999,dt=0.1):    \n",
    "    # Initialize some variables\n",
    "    current_solution = deepcopy(rbm)\n",
    "    psi = current_solution.wavefunction()\n",
    "    current_energy = psi.conj().T @ H @ psi\n",
    "    \n",
    "    # Temperature\n",
    "    T = T0\n",
    "\n",
    "    # Keep track of acceptance rate\n",
    "    accepts = 0\n",
    "\n",
    "    for iter in tqdm(range(N_iter)):\n",
    "        for _ in range(thermalise):\n",
    "            displacement = np.random.normal(scale=dt,size=current_solution.params.shape)\n",
    "            current_solution.params += displacement\n",
    "        \n",
    "            # Calculate the difference in energies\n",
    "            psi = current_solution.wavefunction()\n",
    "            delta_energy = psi.conj().T @ H @ psi - current_energy\n",
    "    \n",
    "            # Accept new solution based on probability of acceptance (or its logarithm)\n",
    "            if delta_energy < 0 or -delta_energy/T > np.log(np.random.rand()):\n",
    "                current_energy += delta_energy\n",
    "                accepts += 1\n",
    "            else:\n",
    "                current_solution.params -= displacement\n",
    "\n",
    "        # Cooldown temperature\n",
    "        T *= gamma\n",
    "    \n",
    "    # At the end of the algorithm, set the rbm parameters to the solution\n",
    "    rbm.params = current_solution.params\n",
    "\n",
    "    # Print acceptance probability\n",
    "    print(\"Acceptance probability:\",accepts/(N_iter*thermalise))\n",
    "    \n",
    "    # Return the minimum energy\n",
    "    return current_energy"
   ]
  },
  {
   "cell_type": "markdown",
   "id": "877fbe26-1f3a-4366-b66c-4343f8d31b3f",
   "metadata": {},
   "source": [
    "### Test"
   ]
  },
  {
   "cell_type": "code",
   "execution_count": 3,
   "id": "f38b8e79-6523-491e-bcb8-de73b9164ccf",
   "metadata": {},
   "outputs": [
    {
     "name": "stderr",
     "output_type": "stream",
     "text": [
      "100%|███████████████████████████████████████████████████████████████████████████| 10000/10000 [00:12<00:00, 818.73it/s]"
     ]
    },
    {
     "name": "stdout",
     "output_type": "stream",
     "text": [
      "Acceptance probability: 0.9313\n",
      "Energy: -10.599434\n",
      "Error: 0.48121\n"
     ]
    },
    {
     "name": "stderr",
     "output_type": "stream",
     "text": [
      "\n"
     ]
    }
   ],
   "source": [
    "# Random seed\n",
    "np.random.seed(7)\n",
    "\n",
    "# Initialize parameters\n",
    "N = 5 # Number of spins\n",
    "h = 2 # Number of hidden units\n",
    "J,B = 2,1\n",
    "N_iter = 10000 # Number of iterations of simulated annealing\n",
    "\n",
    "# Initialize Hamiltonian and rbm\n",
    "H = tfi.buildHamiltonian_sparse(N,J,B)\n",
    "\n",
    "rbm = RBM(N,h,sigma=0.1)\n",
    "\n",
    "# Start simulated annealing\n",
    "best_energy = simulatedAnnealing(rbm,H,N_iter=N_iter,thermalise=1,T0=20.0,gamma=0.999,dt=0.01)\n",
    "\n",
    "# Compare with real ground state energy\n",
    "ground_energy, ground_state = tfi.diagonalizeHamiltonian_sparse(H)\n",
    "\n",
    "print(\"Energy: %.6f\" % np.real(best_energy))\n",
    "print(\"Error: %.5f\" % np.real((ground_energy - best_energy)/ground_energy*100))"
   ]
  }
 ],
 "metadata": {
  "kernelspec": {
   "display_name": "Python 3 (ipykernel)",
   "language": "python",
   "name": "python3"
  },
  "language_info": {
   "codemirror_mode": {
    "name": "ipython",
    "version": 3
   },
   "file_extension": ".py",
   "mimetype": "text/x-python",
   "name": "python",
   "nbconvert_exporter": "python",
   "pygments_lexer": "ipython3",
   "version": "3.11.5"
  }
 },
 "nbformat": 4,
 "nbformat_minor": 5
}
