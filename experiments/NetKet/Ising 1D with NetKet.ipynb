{
 "cells": [
  {
   "cell_type": "markdown",
   "metadata": {},
   "source": [
    "# RBM Wavefunction with NetKet for the 1D Transverse Field Ising Model\n",
    "\n",
    "In this notebook, we will explore how to use the NetKet library to implement a Restricted Boltzmann Machine (RBM) wavefunction. We will specifically focus on using this RBM wavefunction to find the ground state of the 1D Transverse Field Ising Model.\n",
    "\n",
    "The Transverse Field Ising Model is a well-known model in statistical physics that describes a chain of spins interacting with each other and subjected to a transverse magnetic field. The ground state of this model represents the lowest energy configuration of the spins.\n",
    "\n",
    "NetKet is a powerful library for performing quantum many-body calculations using neural networks. It provides a flexible framework for implementing RBM wavefunctions and optimizing them to find the ground state of various quantum systems.\n",
    "\n",
    "In this notebook, we will walk through the steps of setting up the RBM wavefunction using NetKet, defining the Hamiltonian for the 1D Transverse Field Ising Model, and using variational Monte Carlo methods to find the ground state energy and wavefunction.\n",
    "\n",
    "Let's get started!"
   ]
  },
  {
   "cell_type": "markdown",
   "metadata": {},
   "source": [
    "### Import libraries\n",
    "\n",
    "Import `numpy` as well as `netket` for this notebook. We will be setting the environment variable `JAX_PLATFORM_NAME` to use the CPU, as there is not much difference in using the GPU for systems smaller than 40 spins."
   ]
  },
  {
   "cell_type": "code",
   "execution_count": 1,
   "metadata": {},
   "outputs": [
    {
     "name": "stderr",
     "output_type": "stream",
     "text": [
      "/home/marcfernandez/.pyenv/versions/3.9.6/envs/myenv-3.9.6/lib/python3.9/site-packages/tqdm/auto.py:21: TqdmWarning: IProgress not found. Please update jupyter and ipywidgets. See https://ipywidgets.readthedocs.io/en/stable/user_install.html\n",
      "  from .autonotebook import tqdm as notebook_tqdm\n"
     ]
    }
   ],
   "source": [
    "import jax\n",
    "import jax.numpy as jnp\n",
    "from scipy.sparse.linalg import eigsh\n",
    "import matplotlib.pyplot as plt\n",
    "\n",
    "import netket as nk\n",
    "from netket.operator.spin import sigmaz, sigmax\n",
    "from netket.models import RBMSymm\n",
    "\n",
    "import os\n",
    "\n",
    "os.environ[\"JAX_PLATFORM_NAME\"] = \"cpu\""
   ]
  },
  {
   "cell_type": "markdown",
   "metadata": {},
   "source": [
    "## Translation Symmetry\n",
    "\n",
    "One advantage of using NetKet is that we can enforce spatial symmetries in our model using some built-in functionalities of the library.\n",
    "\n",
    "In the TFI model, specifically, we have a simple chain with periodic boundaries, leading to a translational symmetry that we can exploit to simplify the structure of our RBM wavefunction.\n",
    "\n",
    "For starters, let us construct a graph that contains the edges of our interactions."
   ]
  },
  {
   "cell_type": "code",
   "execution_count": 2,
   "metadata": {},
   "outputs": [
    {
     "name": "stdout",
     "output_type": "stream",
     "text": [
      "PermutationGroup(elems=[Id(), Translation([1]), Translation([2]), Translation([3]), Translation([4]), Translation([5]), Translation([6]), Translation([7]), Translation([8]), Translation([9]), Translation([10]), Translation([11]), Translation([12]), Translation([13]), Translation([14]), Translation([15]), Translation([16]), Translation([17]), Translation([18]), Translation([19])], degree=20)\n"
     ]
    }
   ],
   "source": [
    "# Number of spins, length of the chain\n",
    "N = 20\n",
    "\n",
    "graph = nk.graph.Chain(length=N, pbc=True)\n",
    "print(graph.translation_group())"
   ]
  },
  {
   "cell_type": "markdown",
   "metadata": {},
   "source": [
    "With this graph, we can define the problem Hamiltonian very simply as"
   ]
  },
  {
   "cell_type": "code",
   "execution_count": 3,
   "metadata": {},
   "outputs": [],
   "source": [
    "# Initialize Hilber spin space\n",
    "hi = nk.hilbert.Spin(s = 1/2, N = N)\n",
    "\n",
    "# Define the coupling interaction term\n",
    "J = 2.0\n",
    "H = -sum([J * sigmaz(hi, i) * sigmaz(hi, j) for i,j in graph.edges()])\n",
    "\n",
    "# Define the transverse field term\n",
    "B = 1.0\n",
    "H -= sum([B * sigmax(hi, i) for i in range(N)])"
   ]
  },
  {
   "cell_type": "markdown",
   "metadata": {},
   "source": [
    "We now make use of NetKet's own `nn` module to call `RBMSymm`, a symmetrized RBM that we will use to account for the invariant transformation given by the translation group.\n",
    "\n",
    "We will also consider complex parametrization, as stated in the report."
   ]
  },
  {
   "cell_type": "code",
   "execution_count": 4,
   "metadata": {},
   "outputs": [
    {
     "name": "stdout",
     "output_type": "stream",
     "text": [
      "Number of parameters: 85\n"
     ]
    },
    {
     "name": "stderr",
     "output_type": "stream",
     "text": [
      "/home/marcfernandez/.pyenv/versions/3.9.6/envs/myenv-3.9.6/lib/python3.9/site-packages/netket/vqs/mc/mc_state/state.py:248: UserWarning: n_samples=1000 (1000 per device/MPI rank) does not divide n_chains=16, increased to 1008 (1008 per device/MPI rank)\n",
      "  self.n_samples = n_samples\n"
     ]
    }
   ],
   "source": [
    "# Define the sampler\n",
    "sampler = nk.sampler.MetropolisLocal(hi)\n",
    "\n",
    "# Define the model with 4 features per symmetry\n",
    "model = RBMSymm(\n",
    "    alpha=4, \n",
    "    param_dtype=jnp.complex64,\n",
    "    symmetries=graph.translation_group()\n",
    "    )\n",
    "\n",
    "# Define the variational state\n",
    "vstate = nk.vqs.MCState(sampler, model, n_samples=1000)\n",
    "\n",
    "# Number of parameters\n",
    "n_params = vstate.n_parameters\n",
    "print(f\"Number of parameters: {n_params}\")"
   ]
  },
  {
   "cell_type": "markdown",
   "metadata": {},
   "source": [
    "As we can see, the number of parameters in this model is greatly reduced due to the symmetries imposing constraints on the weights of the RBM layers.\n",
    "\n",
    "Recall that for $N = 20$, and feature density $N_h = 4N$, we had $N + N_h + N\\cdot N_h = 1700$ different parameters.\n",
    "\n",
    "With this, we can now optimize the model using more optimization steps compared to the normal RBM model."
   ]
  },
  {
   "cell_type": "code",
   "execution_count": 5,
   "metadata": {},
   "outputs": [
    {
     "name": "stderr",
     "output_type": "stream",
     "text": [
      "100%|██████████| 600/600 [01:42<00:00,  5.85it/s, Energy=-42.5405+0.0005j ± 0.0017 [σ²=0.0029, R̂=1.0089]]    \n"
     ]
    },
    {
     "name": "stdout",
     "output_type": "stream",
     "text": [
      "Optimized energy and relative error: -42.5418-0.0005j ± 0.0011 [σ²=0.0012, R̂=1.0187], [1.08099468e-05]\n"
     ]
    }
   ],
   "source": [
    "# Define optimizer\n",
    "optimizer = nk.optimizer.Sgd(learning_rate=0.1)\n",
    "\n",
    "# Define the ground-state optimization driver\n",
    "gs = nk.driver.VMC(\n",
    "    hamiltonian=H,\n",
    "    optimizer=optimizer, \n",
    "    variational_state=vstate,\n",
    "    preconditioner=nk.optimizer.SR(\n",
    "        diag_shift=0.1,\n",
    "        holomorphic=True\n",
    "        )\n",
    "    )\n",
    "\n",
    "# Logging and running the optimization\n",
    "log = nk.logging.RuntimeLog()\n",
    "gs.run(n_iter=600, out=log)\n",
    "\n",
    "# Compute the exact ground state energy\n",
    "sp_h = H.to_sparse()\n",
    "\n",
    "eig_vals, eig_vecs = eigsh(sp_h, k=1, which=\"SA\")\n",
    "\n",
    "# Calculate the expectation value of the Hamiltonian for\n",
    "# the optimized variational state\n",
    "symm_energy = vstate.expect(H)\n",
    "\n",
    "# Print relative error\n",
    "error = abs((symm_energy.mean - eig_vals) / eig_vals)\n",
    "print(f\"Optimized energy and relative error: {symm_energy}, {error}\")\n"
   ]
  },
  {
   "cell_type": "markdown",
   "metadata": {},
   "source": [
    "The optimized energy is quite good compared to the one we obtained with the general RBM implementation, we can also plot the model energy over the iterations:"
   ]
  },
  {
   "cell_type": "code",
   "execution_count": 6,
   "metadata": {},
   "outputs": [
    {
     "name": "stderr",
     "output_type": "stream",
     "text": [
      "/home/marcfernandez/.pyenv/versions/3.9.6/envs/myenv-3.9.6/lib/python3.9/site-packages/matplotlib/cbook.py:1762: ComplexWarning: Casting complex values to real discards the imaginary part\n",
      "  return math.isfinite(val)\n",
      "/home/marcfernandez/.pyenv/versions/3.9.6/envs/myenv-3.9.6/lib/python3.9/site-packages/matplotlib/cbook.py:1398: ComplexWarning: Casting complex values to real discards the imaginary part\n",
      "  return np.asarray(x, float)\n",
      "/home/marcfernandez/.pyenv/versions/3.9.6/envs/myenv-3.9.6/lib/python3.9/site-packages/numpy/ma/core.py:3387: ComplexWarning: Casting complex values to real discards the imaginary part\n",
      "  _data[indx] = dval\n"
     ]
    },
    {
     "data": {
      "text/plain": [
       "<matplotlib.legend.Legend at 0x74a045ca6670>"
      ]
     },
     "execution_count": 6,
     "metadata": {},
     "output_type": "execute_result"
    },
    {
     "data": {
      "image/png": "[encoded data removed]",
      "text/plain": [
       "<Figure size 640x480 with 1 Axes>"
      ]
     },
     "metadata": {},
     "output_type": "display_data"
    }
   ],
   "source": [
    "plt.errorbar(log.data[\"Energy\"].iters[50:],log.data[\"Energy\"].Mean[50:],yerr=log.data[\"Energy\"].Sigma[50:],label=\"SymmModel\")\n",
    "\n",
    "plt.axhline(y=eig_vals, xmin=0, xmax=log.data[\"Energy\"].iters[-1], linewidth=2, color=\"k\", label=\"Exact\")\n",
    "plt.xlabel('Iterations')\n",
    "plt.ylabel('Energy')\n",
    "plt.legend(frameon=False)"
   ]
  },
  {
   "cell_type": "markdown",
   "metadata": {},
   "source": [
    "### Measuring correlations\n",
    "\n",
    "Once we optimize the model, we can of course calculate other observables, such as the correlation between nearest neighbors (which is related to the magnetization):"
   ]
  },
  {
   "cell_type": "code",
   "execution_count": 7,
   "metadata": {},
   "outputs": [
    {
     "data": {
      "text/plain": [
       "1.960+0.000j ± 0.031 [σ²=22.690, R̂=1.0004]"
      ]
     },
     "execution_count": 7,
     "metadata": {},
     "output_type": "execute_result"
    }
   ],
   "source": [
    "corr = sum([sigmax(hi, i) * sigmax(hi, j) for (i,j) in graph.edges()])\n",
    "\n",
    "vstate.n_samples = 40000\n",
    "\n",
    "vstate.expect(corr)"
   ]
  },
  {
   "cell_type": "markdown",
   "metadata": {},
   "source": [
    "Compared to the exact result:"
   ]
  },
  {
   "cell_type": "code",
   "execution_count": 8,
   "metadata": {},
   "outputs": [
    {
     "ename": "NameError",
     "evalue": "name 'eig_vecs' is not defined",
     "output_type": "error",
     "traceback": [
      "\u001b[0;31m---------------------------------------------------------------------------\u001b[0m",
      "\u001b[0;31mNameError\u001b[0m                                 Traceback (most recent call last)",
      "Cell \u001b[0;32mIn[8], line 1\u001b[0m\n\u001b[0;32m----> 1\u001b[0m psi \u001b[38;5;241m=\u001b[39m \u001b[43meig_vecs\u001b[49m[:, \u001b[38;5;241m0\u001b[39m]\n\u001b[1;32m      2\u001b[0m exact_corr \u001b[38;5;241m=\u001b[39m psi\u001b[38;5;241m.\u001b[39mconj() \u001b[38;5;241m@\u001b[39m corr\u001b[38;5;241m.\u001b[39mto_sparse() \u001b[38;5;241m@\u001b[39m psi\n\u001b[1;32m      3\u001b[0m \u001b[38;5;28mprint\u001b[39m(exact_corr)\n",
      "\u001b[0;31mNameError\u001b[0m: name 'eig_vecs' is not defined"
     ]
    }
   ],
   "source": [
    "psi = eig_vecs[:, 0]\n",
    "exact_corr = psi.conj() @ corr.to_sparse() @ psi\n",
    "print(exact_corr)"
   ]
  }
 ],
 "metadata": {
  "kernelspec": {
   "display_name": "myenv-3.9.6",
   "language": "python",
   "name": "python3"
  },
  "language_info": {
   "codemirror_mode": {
    "name": "ipython",
    "version": 3
   },
   "file_extension": ".py",
   "mimetype": "text/x-python",
   "name": "python",
   "nbconvert_exporter": "python",
   "pygments_lexer": "ipython3",
   "version": "3.9.6"
  }
 },
 "nbformat": 4,
 "nbformat_minor": 2
}
